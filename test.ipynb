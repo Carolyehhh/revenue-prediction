{
 "cells": [
  {
   "cell_type": "code",
   "execution_count": 3,
   "metadata": {},
   "outputs": [],
   "source": [
    "import pandas as pd\n",
    "import numpy as np"
   ]
  },
  {
   "cell_type": "code",
   "execution_count": 4,
   "metadata": {},
   "outputs": [
    {
     "name": "stderr",
     "output_type": "stream",
     "text": [
      "c:\\Users\\user1\\Desktop\\repo2\\revenue-prediction\\data.py:48: UserWarning: pandas only supports SQLAlchemy connectable (engine/connection) or database string URI or sqlite3 DBAPI2 connection. Other DBAPI2 objects are not tested. Please consider using SQLAlchemy.\n",
      "  Dream_report = pd.read_sql(qr_sub, conn)\n",
      "c:\\Users\\user1\\Desktop\\repo2\\revenue-prediction\\data.py:72: UserWarning: pandas only supports SQLAlchemy connectable (engine/connection) or database string URI or sqlite3 DBAPI2 connection. Other DBAPI2 objects are not tested. Please consider using SQLAlchemy.\n",
      "  stock_info = pd.read_sql(stock_qr_sub, conn)\n",
      "c:\\Users\\user1\\anaconda3\\envs\\rev_pred_env\\lib\\site-packages\\sklearn\\utils\\validation.py:1184: DataConversionWarning: A column-vector y was passed when a 1d array was expected. Please change the shape of y to (n_samples, ), for example using ravel().\n",
      "  y = column_or_1d(y, warn=True)\n",
      "c:\\Users\\user1\\anaconda3\\envs\\rev_pred_env\\lib\\site-packages\\sklearn\\linear_model\\_logistic.py:460: ConvergenceWarning: lbfgs failed to converge (status=1):\n",
      "STOP: TOTAL NO. of ITERATIONS REACHED LIMIT.\n",
      "\n",
      "Increase the number of iterations (max_iter) or scale the data as shown in:\n",
      "    https://scikit-learn.org/stable/modules/preprocessing.html\n",
      "Please also refer to the documentation for alternative solver options:\n",
      "    https://scikit-learn.org/stable/modules/linear_model.html#logistic-regression\n",
      "  n_iter_i = _check_optimize_result(\n"
     ]
    }
   ],
   "source": [
    "# Importing Data\n",
    "from data import Dream_report, df , stock_info\n",
    "# Import data logic model revenue prediction\n",
    "#from main import overall_predicted_labels # 只有方向，要把ddate, stockid補上\n",
    "from DreamReport import logit_direction"
   ]
  },
  {
   "cell_type": "code",
   "execution_count": 5,
   "metadata": {},
   "outputs": [
    {
     "data": {
      "text/html": [
       "<div>\n",
       "<style scoped>\n",
       "    .dataframe tbody tr th:only-of-type {\n",
       "        vertical-align: middle;\n",
       "    }\n",
       "\n",
       "    .dataframe tbody tr th {\n",
       "        vertical-align: top;\n",
       "    }\n",
       "\n",
       "    .dataframe thead th {\n",
       "        text-align: right;\n",
       "    }\n",
       "</style>\n",
       "<table border=\"1\" class=\"dataframe\">\n",
       "  <thead>\n",
       "    <tr style=\"text-align: right;\">\n",
       "      <th></th>\n",
       "      <th>ddate</th>\n",
       "      <th>stockid</th>\n",
       "      <th>direction</th>\n",
       "      <th>rev</th>\n",
       "      <th>mom</th>\n",
       "      <th>yoy</th>\n",
       "      <th>revd1</th>\n",
       "      <th>yoyd1</th>\n",
       "      <th>mond1</th>\n",
       "      <th>revd2</th>\n",
       "      <th>...</th>\n",
       "      <th>mond9</th>\n",
       "      <th>revd10</th>\n",
       "      <th>yoyd10</th>\n",
       "      <th>mond10</th>\n",
       "      <th>revd11</th>\n",
       "      <th>yoyd11</th>\n",
       "      <th>mond11</th>\n",
       "      <th>revd12</th>\n",
       "      <th>yoyd12</th>\n",
       "      <th>mond12</th>\n",
       "    </tr>\n",
       "  </thead>\n",
       "  <tbody>\n",
       "    <tr>\n",
       "      <th>0</th>\n",
       "      <td>202310</td>\n",
       "      <td>1101</td>\n",
       "      <td>1</td>\n",
       "      <td>9371746.0</td>\n",
       "      <td>7.29</td>\n",
       "      <td>-17.56</td>\n",
       "      <td>8735157.0</td>\n",
       "      <td>-16.05</td>\n",
       "      <td>-6.87</td>\n",
       "      <td>9379408.0</td>\n",
       "      <td>...</td>\n",
       "      <td>-41.79</td>\n",
       "      <td>12584154.0</td>\n",
       "      <td>16.29</td>\n",
       "      <td>30.07</td>\n",
       "      <td>9674576.0</td>\n",
       "      <td>-0.80</td>\n",
       "      <td>-14.90</td>\n",
       "      <td>11368096.0</td>\n",
       "      <td>18.85</td>\n",
       "      <td>9.26</td>\n",
       "    </tr>\n",
       "    <tr>\n",
       "      <th>1</th>\n",
       "      <td>202310</td>\n",
       "      <td>1102</td>\n",
       "      <td>1</td>\n",
       "      <td>6706168.0</td>\n",
       "      <td>0.21</td>\n",
       "      <td>-11.77</td>\n",
       "      <td>6691905.0</td>\n",
       "      <td>-4.32</td>\n",
       "      <td>3.43</td>\n",
       "      <td>6469836.0</td>\n",
       "      <td>...</td>\n",
       "      <td>-42.28</td>\n",
       "      <td>8340507.0</td>\n",
       "      <td>-11.31</td>\n",
       "      <td>0.41</td>\n",
       "      <td>8306062.0</td>\n",
       "      <td>-7.56</td>\n",
       "      <td>9.27</td>\n",
       "      <td>7601097.0</td>\n",
       "      <td>-19.60</td>\n",
       "      <td>8.68</td>\n",
       "    </tr>\n",
       "    <tr>\n",
       "      <th>2</th>\n",
       "      <td>202310</td>\n",
       "      <td>1103</td>\n",
       "      <td>1</td>\n",
       "      <td>257343.0</td>\n",
       "      <td>10.46</td>\n",
       "      <td>22.88</td>\n",
       "      <td>232979.0</td>\n",
       "      <td>13.50</td>\n",
       "      <td>-2.49</td>\n",
       "      <td>238917.0</td>\n",
       "      <td>...</td>\n",
       "      <td>-16.37</td>\n",
       "      <td>228644.0</td>\n",
       "      <td>33.31</td>\n",
       "      <td>3.10</td>\n",
       "      <td>221763.0</td>\n",
       "      <td>12.13</td>\n",
       "      <td>5.89</td>\n",
       "      <td>209429.0</td>\n",
       "      <td>8.43</td>\n",
       "      <td>2.03</td>\n",
       "    </tr>\n",
       "    <tr>\n",
       "      <th>3</th>\n",
       "      <td>202310</td>\n",
       "      <td>1104</td>\n",
       "      <td>1</td>\n",
       "      <td>654514.0</td>\n",
       "      <td>5.81</td>\n",
       "      <td>3.08</td>\n",
       "      <td>618592.0</td>\n",
       "      <td>3.59</td>\n",
       "      <td>0.23</td>\n",
       "      <td>617197.0</td>\n",
       "      <td>...</td>\n",
       "      <td>-30.44</td>\n",
       "      <td>725055.0</td>\n",
       "      <td>27.29</td>\n",
       "      <td>14.76</td>\n",
       "      <td>631827.0</td>\n",
       "      <td>6.68</td>\n",
       "      <td>-0.50</td>\n",
       "      <td>634981.0</td>\n",
       "      <td>13.60</td>\n",
       "      <td>6.33</td>\n",
       "    </tr>\n",
       "    <tr>\n",
       "      <th>4</th>\n",
       "      <td>202310</td>\n",
       "      <td>1108</td>\n",
       "      <td>1</td>\n",
       "      <td>451146.0</td>\n",
       "      <td>11.62</td>\n",
       "      <td>12.45</td>\n",
       "      <td>404171.0</td>\n",
       "      <td>16.60</td>\n",
       "      <td>-6.10</td>\n",
       "      <td>430420.0</td>\n",
       "      <td>...</td>\n",
       "      <td>-29.50</td>\n",
       "      <td>418326.0</td>\n",
       "      <td>31.04</td>\n",
       "      <td>9.00</td>\n",
       "      <td>383773.0</td>\n",
       "      <td>43.18</td>\n",
       "      <td>-4.34</td>\n",
       "      <td>401202.0</td>\n",
       "      <td>44.98</td>\n",
       "      <td>15.74</td>\n",
       "    </tr>\n",
       "    <tr>\n",
       "      <th>...</th>\n",
       "      <td>...</td>\n",
       "      <td>...</td>\n",
       "      <td>...</td>\n",
       "      <td>...</td>\n",
       "      <td>...</td>\n",
       "      <td>...</td>\n",
       "      <td>...</td>\n",
       "      <td>...</td>\n",
       "      <td>...</td>\n",
       "      <td>...</td>\n",
       "      <td>...</td>\n",
       "      <td>...</td>\n",
       "      <td>...</td>\n",
       "      <td>...</td>\n",
       "      <td>...</td>\n",
       "      <td>...</td>\n",
       "      <td>...</td>\n",
       "      <td>...</td>\n",
       "      <td>...</td>\n",
       "      <td>...</td>\n",
       "      <td>...</td>\n",
       "    </tr>\n",
       "    <tr>\n",
       "      <th>205195</th>\n",
       "      <td>201401</td>\n",
       "      <td>9951</td>\n",
       "      <td>1</td>\n",
       "      <td>313481.0</td>\n",
       "      <td>45.11</td>\n",
       "      <td>55.35</td>\n",
       "      <td>216032.0</td>\n",
       "      <td>22.01</td>\n",
       "      <td>-14.53</td>\n",
       "      <td>252765.0</td>\n",
       "      <td>...</td>\n",
       "      <td>1.32</td>\n",
       "      <td>240746.0</td>\n",
       "      <td>25.89</td>\n",
       "      <td>43.33</td>\n",
       "      <td>167967.0</td>\n",
       "      <td>1.81</td>\n",
       "      <td>-16.76</td>\n",
       "      <td>201785.0</td>\n",
       "      <td>43.73</td>\n",
       "      <td>13.96</td>\n",
       "    </tr>\n",
       "    <tr>\n",
       "      <th>205196</th>\n",
       "      <td>201401</td>\n",
       "      <td>9955</td>\n",
       "      <td>0</td>\n",
       "      <td>271410.0</td>\n",
       "      <td>-26.84</td>\n",
       "      <td>-31.20</td>\n",
       "      <td>370962.0</td>\n",
       "      <td>23.48</td>\n",
       "      <td>121.37</td>\n",
       "      <td>167575.0</td>\n",
       "      <td>...</td>\n",
       "      <td>31.64</td>\n",
       "      <td>428478.0</td>\n",
       "      <td>-39.45</td>\n",
       "      <td>11.82</td>\n",
       "      <td>383183.0</td>\n",
       "      <td>-41.55</td>\n",
       "      <td>-2.87</td>\n",
       "      <td>394489.0</td>\n",
       "      <td>-37.48</td>\n",
       "      <td>31.31</td>\n",
       "    </tr>\n",
       "    <tr>\n",
       "      <th>205197</th>\n",
       "      <td>201401</td>\n",
       "      <td>9958</td>\n",
       "      <td>0</td>\n",
       "      <td>165307.0</td>\n",
       "      <td>-47.12</td>\n",
       "      <td>-16.91</td>\n",
       "      <td>312585.0</td>\n",
       "      <td>-17.06</td>\n",
       "      <td>14.16</td>\n",
       "      <td>273803.0</td>\n",
       "      <td>...</td>\n",
       "      <td>-20.03</td>\n",
       "      <td>351222.0</td>\n",
       "      <td>56.20</td>\n",
       "      <td>111.12</td>\n",
       "      <td>166364.0</td>\n",
       "      <td>-31.57</td>\n",
       "      <td>-16.38</td>\n",
       "      <td>198944.0</td>\n",
       "      <td>49.34</td>\n",
       "      <td>-47.21</td>\n",
       "    </tr>\n",
       "    <tr>\n",
       "      <th>205198</th>\n",
       "      <td>201401</td>\n",
       "      <td>9960</td>\n",
       "      <td>0</td>\n",
       "      <td>40678.0</td>\n",
       "      <td>-26.86</td>\n",
       "      <td>-22.57</td>\n",
       "      <td>55616.0</td>\n",
       "      <td>20.42</td>\n",
       "      <td>-4.63</td>\n",
       "      <td>58313.0</td>\n",
       "      <td>...</td>\n",
       "      <td>15.18</td>\n",
       "      <td>61642.0</td>\n",
       "      <td>-49.52</td>\n",
       "      <td>46.99</td>\n",
       "      <td>41935.0</td>\n",
       "      <td>-14.70</td>\n",
       "      <td>-20.18</td>\n",
       "      <td>52534.0</td>\n",
       "      <td>6.78</td>\n",
       "      <td>13.74</td>\n",
       "    </tr>\n",
       "    <tr>\n",
       "      <th>205199</th>\n",
       "      <td>201401</td>\n",
       "      <td>9962</td>\n",
       "      <td>0</td>\n",
       "      <td>196532.0</td>\n",
       "      <td>-7.67</td>\n",
       "      <td>-34.24</td>\n",
       "      <td>212867.0</td>\n",
       "      <td>-36.03</td>\n",
       "      <td>20.58</td>\n",
       "      <td>176537.0</td>\n",
       "      <td>...</td>\n",
       "      <td>-23.03</td>\n",
       "      <td>313861.0</td>\n",
       "      <td>-26.26</td>\n",
       "      <td>-4.02</td>\n",
       "      <td>327002.0</td>\n",
       "      <td>-23.17</td>\n",
       "      <td>9.41</td>\n",
       "      <td>298876.0</td>\n",
       "      <td>-31.45</td>\n",
       "      <td>-10.18</td>\n",
       "    </tr>\n",
       "  </tbody>\n",
       "</table>\n",
       "<p>201965 rows × 42 columns</p>\n",
       "</div>"
      ],
      "text/plain": [
       "         ddate  stockid  direction        rev    mom    yoy      revd1  yoyd1  \\\n",
       "0       202310     1101          1  9371746.0   7.29 -17.56  8735157.0 -16.05   \n",
       "1       202310     1102          1  6706168.0   0.21 -11.77  6691905.0  -4.32   \n",
       "2       202310     1103          1   257343.0  10.46  22.88   232979.0  13.50   \n",
       "3       202310     1104          1   654514.0   5.81   3.08   618592.0   3.59   \n",
       "4       202310     1108          1   451146.0  11.62  12.45   404171.0  16.60   \n",
       "...        ...      ...        ...        ...    ...    ...        ...    ...   \n",
       "205195  201401     9951          1   313481.0  45.11  55.35   216032.0  22.01   \n",
       "205196  201401     9955          0   271410.0 -26.84 -31.20   370962.0  23.48   \n",
       "205197  201401     9958          0   165307.0 -47.12 -16.91   312585.0 -17.06   \n",
       "205198  201401     9960          0    40678.0 -26.86 -22.57    55616.0  20.42   \n",
       "205199  201401     9962          0   196532.0  -7.67 -34.24   212867.0 -36.03   \n",
       "\n",
       "         mond1      revd2  ...  mond9      revd10  yoyd10  mond10     revd11  \\\n",
       "0        -6.87  9379408.0  ... -41.79  12584154.0   16.29   30.07  9674576.0   \n",
       "1         3.43  6469836.0  ... -42.28   8340507.0  -11.31    0.41  8306062.0   \n",
       "2        -2.49   238917.0  ... -16.37    228644.0   33.31    3.10   221763.0   \n",
       "3         0.23   617197.0  ... -30.44    725055.0   27.29   14.76   631827.0   \n",
       "4        -6.10   430420.0  ... -29.50    418326.0   31.04    9.00   383773.0   \n",
       "...        ...        ...  ...    ...         ...     ...     ...        ...   \n",
       "205195  -14.53   252765.0  ...   1.32    240746.0   25.89   43.33   167967.0   \n",
       "205196  121.37   167575.0  ...  31.64    428478.0  -39.45   11.82   383183.0   \n",
       "205197   14.16   273803.0  ... -20.03    351222.0   56.20  111.12   166364.0   \n",
       "205198   -4.63    58313.0  ...  15.18     61642.0  -49.52   46.99    41935.0   \n",
       "205199   20.58   176537.0  ... -23.03    313861.0  -26.26   -4.02   327002.0   \n",
       "\n",
       "        yoyd11  mond11      revd12  yoyd12  mond12  \n",
       "0        -0.80  -14.90  11368096.0   18.85    9.26  \n",
       "1        -7.56    9.27   7601097.0  -19.60    8.68  \n",
       "2        12.13    5.89    209429.0    8.43    2.03  \n",
       "3         6.68   -0.50    634981.0   13.60    6.33  \n",
       "4        43.18   -4.34    401202.0   44.98   15.74  \n",
       "...        ...     ...         ...     ...     ...  \n",
       "205195    1.81  -16.76    201785.0   43.73   13.96  \n",
       "205196  -41.55   -2.87    394489.0  -37.48   31.31  \n",
       "205197  -31.57  -16.38    198944.0   49.34  -47.21  \n",
       "205198  -14.70  -20.18     52534.0    6.78   13.74  \n",
       "205199  -23.17    9.41    298876.0  -31.45  -10.18  \n",
       "\n",
       "[201965 rows x 42 columns]"
      ]
     },
     "execution_count": 5,
     "metadata": {},
     "output_type": "execute_result"
    }
   ],
   "source": [
    "df"
   ]
  },
  {
   "cell_type": "code",
   "execution_count": 6,
   "metadata": {},
   "outputs": [],
   "source": [
    "from module1 import compare_predictions"
   ]
  },
  {
   "cell_type": "code",
   "execution_count": 7,
   "metadata": {},
   "outputs": [],
   "source": [
    "#type(Dream_report['stockid'][0])\n",
    "logit_direction['stockid'] = logit_direction['stockid'].astype(str)\n",
    "logit_direction['predict_labels'] = logit_direction['predict_labels'].astype(float)\n",
    "#print(logit_direction)"
   ]
  },
  {
   "cell_type": "code",
   "execution_count": 8,
   "metadata": {},
   "outputs": [],
   "source": [
    "merged = pd.merge(logit_direction, Dream_report, on=['ddate', 'stockid'])\n",
    "# Filter rows where 'predcited_labels' are different #兩模型預測相反的結果\n",
    "result = merged[merged['predict_labels'] != merged['direction']]\n",
    "#print(result)"
   ]
  },
  {
   "cell_type": "code",
   "execution_count": 9,
   "metadata": {},
   "outputs": [
    {
     "name": "stdout",
     "output_type": "stream",
     "text": [
      "        ddate stockid  predict_labels  direction\n",
      "45886  202108    1102             0.0        1.0\n",
      "45887  202108    1103             0.0        1.0\n",
      "45894  202108    1210             0.0        1.0\n",
      "45896  202108    1215             0.0        1.0\n",
      "45897  202108    1216             0.0        1.0\n",
      "...       ...     ...             ...        ...\n",
      "47615  202108    9945             0.0        1.0\n",
      "47617  202108    9949             1.0        0.0\n",
      "47621  202108    9958             0.0        1.0\n",
      "47622  202108    9960             0.0        1.0\n",
      "47623  202108    9962             1.0        0.0\n",
      "\n",
      "[813 rows x 4 columns]\n"
     ]
    }
   ],
   "source": [
    "print(result[result['ddate'] == 202108])"
   ]
  },
  {
   "cell_type": "code",
   "execution_count": 10,
   "metadata": {},
   "outputs": [
    {
     "name": "stdout",
     "output_type": "stream",
     "text": [
      "year\n",
      "2021    7832\n",
      "2020    7410\n",
      "2022    6859\n",
      "2017    6714\n",
      "2018    6709\n",
      "2016    6706\n",
      "2023    6429\n",
      "2019    6410\n",
      "Name: count, dtype: int64\n"
     ]
    },
    {
     "name": "stderr",
     "output_type": "stream",
     "text": [
      "C:\\Users\\user1\\AppData\\Local\\Temp\\ipykernel_8260\\891335564.py:1: SettingWithCopyWarning: \n",
      "A value is trying to be set on a copy of a slice from a DataFrame.\n",
      "Try using .loc[row_indexer,col_indexer] = value instead\n",
      "\n",
      "See the caveats in the documentation: https://pandas.pydata.org/pandas-docs/stable/user_guide/indexing.html#returning-a-view-versus-a-copy\n",
      "  result['year'] = result['ddate'].astype(str).str[:4]\n"
     ]
    }
   ],
   "source": [
    "result['year'] = result['ddate'].astype(str).str[:4]\n",
    "\n",
    "# Count the number of occurences for each year\n",
    "year_counts = result['year'].value_counts()\n",
    "\n",
    "print(year_counts)"
   ]
  },
  {
   "cell_type": "code",
   "execution_count": 11,
   "metadata": {},
   "outputs": [
    {
     "name": "stdout",
     "output_type": "stream",
     "text": [
      "month\n",
      "08    5511\n",
      "04    5152\n",
      "10    5130\n",
      "09    5130\n",
      "06    4996\n",
      "07    4938\n",
      "05    4923\n",
      "11    4381\n",
      "02    4156\n",
      "12    4138\n",
      "01    3788\n",
      "03    2826\n",
      "Name: count, dtype: int64\n"
     ]
    },
    {
     "name": "stderr",
     "output_type": "stream",
     "text": [
      "C:\\Users\\user1\\AppData\\Local\\Temp\\ipykernel_8260\\3621829736.py:1: SettingWithCopyWarning: \n",
      "A value is trying to be set on a copy of a slice from a DataFrame.\n",
      "Try using .loc[row_indexer,col_indexer] = value instead\n",
      "\n",
      "See the caveats in the documentation: https://pandas.pydata.org/pandas-docs/stable/user_guide/indexing.html#returning-a-view-versus-a-copy\n",
      "  result['month'] = result['ddate'].astype(str).str[4:6]\n"
     ]
    }
   ],
   "source": [
    "result['month'] = result['ddate'].astype(str).str[4:6]\n",
    "\n",
    "# Count the number of occurences for each month\n",
    "month_counts = result['month'].value_counts()\n",
    "\n",
    "print(month_counts)"
   ]
  },
  {
   "cell_type": "code",
   "execution_count": 12,
   "metadata": {},
   "outputs": [
    {
     "name": "stdout",
     "output_type": "stream",
     "text": [
      "ddate\n",
      "202303    460\n",
      "202003    426\n",
      "202203    401\n",
      "202103    396\n",
      "201703    370\n",
      "201603    287\n",
      "201803    260\n",
      "201903    226\n",
      "Name: count, dtype: int64\n"
     ]
    }
   ],
   "source": [
    "march_rows = result[result['month'] == '03']\n",
    "\n",
    "march_counts = march_rows['ddate'].value_counts()\n",
    "\n",
    "print(march_counts)"
   ]
  },
  {
   "cell_type": "code",
   "execution_count": 13,
   "metadata": {},
   "outputs": [
    {
     "name": "stdout",
     "output_type": "stream",
     "text": [
      "ddate\n",
      "202108    813\n",
      "202308    748\n",
      "201808    721\n",
      "201908    675\n",
      "202008    666\n",
      "201608    639\n",
      "202208    631\n",
      "201708    618\n",
      "Name: count, dtype: int64\n"
     ]
    }
   ],
   "source": [
    "aug_rows = result[result['month'] == '08']\n",
    "\n",
    "aug_counts = aug_rows['ddate'].value_counts()\n",
    "\n",
    "print(aug_counts)"
   ]
  },
  {
   "cell_type": "code",
   "execution_count": 14,
   "metadata": {},
   "outputs": [
    {
     "name": "stdout",
     "output_type": "stream",
     "text": [
      "ddate\n",
      "202108    813\n",
      "202110    763\n",
      "202304    753\n",
      "202011    751\n",
      "202308    748\n",
      "         ... \n",
      "202103    396\n",
      "201703    370\n",
      "201603    287\n",
      "201803    260\n",
      "201903    226\n",
      "Name: count, Length: 94, dtype: int64\n"
     ]
    }
   ],
   "source": [
    "date_counts = result['ddate'].value_counts()\n",
    "\n",
    "print(date_counts)"
   ]
  },
  {
   "cell_type": "code",
   "execution_count": 15,
   "metadata": {},
   "outputs": [
    {
     "name": "stdout",
     "output_type": "stream",
     "text": [
      "Y\n",
      "2022    21105\n",
      "2021    20816\n",
      "2020    20446\n",
      "2019    19990\n",
      "2018    19566\n",
      "2017    19080\n",
      "2016    18364\n",
      "2023    17799\n",
      "Name: count, dtype: int64\n",
      "M\n",
      "10    13492\n",
      "09    13466\n",
      "08    13440\n",
      "07    13406\n",
      "06    13363\n",
      "05    13336\n",
      "04    13313\n",
      "03    13305\n",
      "02    13283\n",
      "01    13276\n",
      "12    11766\n",
      "11    11720\n",
      "Name: count, dtype: int64\n"
     ]
    }
   ],
   "source": [
    "origin_counts = merged['ddate'].value_counts()\n",
    "#print(origin_counts)\n",
    "\n",
    "merged['Y'] = merged['ddate'].astype(str).str[:4]\n",
    "origin_Ycounts = merged['Y'].value_counts()\n",
    "print(origin_Ycounts)\n",
    "\n",
    "merged['M'] = merged['ddate'].astype(str).str[4:6]\n",
    "origin_Mcounts = merged['M'].value_counts()\n",
    "print(origin_Mcounts) "
   ]
  },
  {
   "cell_type": "code",
   "execution_count": 16,
   "metadata": {},
   "outputs": [
    {
     "data": {
      "text/plain": [
       "01    28.532691\n",
       "02    31.288113\n",
       "03    21.240135\n",
       "04    38.699016\n",
       "05    36.915117\n",
       "06    37.386814\n",
       "07    36.834253\n",
       "08    41.004464\n",
       "09    38.095945\n",
       "10    38.022532\n",
       "11    37.380546\n",
       "12    35.169131\n",
       "Name: count, dtype: float64"
      ]
     },
     "execution_count": 16,
     "metadata": {},
     "output_type": "execute_result"
    }
   ],
   "source": [
    "# \"每個月\"兩模型預測相反的個股數 / 兩模型預測的總個股數\n",
    "month_counts/origin_Mcounts*100"
   ]
  },
  {
   "cell_type": "code",
   "execution_count": 17,
   "metadata": {},
   "outputs": [
    {
     "name": "stdout",
     "output_type": "stream",
     "text": [
      "2016    36.517099\n",
      "2017    35.188679\n",
      "2018    34.289073\n",
      "2019    32.066033\n",
      "2020    36.241808\n",
      "2021    37.624904\n",
      "2022    32.499408\n",
      "2023    36.120007\n",
      "Name: count, dtype: float64\n",
      "202108\n",
      "201903\n"
     ]
    }
   ],
   "source": [
    "# \"每年\"兩模型預測相反的個股數 / 兩模型預測的總個股數\n",
    "print(year_counts/origin_Ycounts*100)\n",
    "max_date = (date_counts/origin_counts*100).idxmax()\n",
    "min_date = (date_counts/origin_counts*100).idxmin()\n",
    "\n",
    "# 預測相反比例最大、最小的日期\n",
    "print(max_date)\n",
    "print(min_date)"
   ]
  },
  {
   "cell_type": "code",
   "execution_count": 18,
   "metadata": {},
   "outputs": [],
   "source": [
    "stock_info.rename(columns={'股票代號':'stockid', '指數彙編分類代號':'classi_code'}, inplace=True)\n",
    "# 刪除重複個股資訊\n",
    "stock_info_dedup = stock_info.drop_duplicates(subset='stockid')\n",
    "# 將個股資訊加至result df\n",
    "pred_merge_code = result.merge(stock_info_dedup, on='stockid', how='left')"
   ]
  },
  {
   "cell_type": "code",
   "execution_count": 19,
   "metadata": {},
   "outputs": [
    {
     "data": {
      "text/html": [
       "<div>\n",
       "<style scoped>\n",
       "    .dataframe tbody tr th:only-of-type {\n",
       "        vertical-align: middle;\n",
       "    }\n",
       "\n",
       "    .dataframe tbody tr th {\n",
       "        vertical-align: top;\n",
       "    }\n",
       "\n",
       "    .dataframe thead th {\n",
       "        text-align: right;\n",
       "    }\n",
       "</style>\n",
       "<table border=\"1\" class=\"dataframe\">\n",
       "  <thead>\n",
       "    <tr style=\"text-align: right;\">\n",
       "      <th></th>\n",
       "      <th>stockid</th>\n",
       "      <th>中文簡稱</th>\n",
       "      <th>上市上櫃</th>\n",
       "      <th>classi_code</th>\n",
       "      <th>指數彙編分類</th>\n",
       "    </tr>\n",
       "  </thead>\n",
       "  <tbody>\n",
       "    <tr>\n",
       "      <th>0</th>\n",
       "      <td>1101</td>\n",
       "      <td>台泥</td>\n",
       "      <td>1</td>\n",
       "      <td>C11010</td>\n",
       "      <td>傳產-水泥</td>\n",
       "    </tr>\n",
       "    <tr>\n",
       "      <th>1</th>\n",
       "      <td>1102</td>\n",
       "      <td>亞泥</td>\n",
       "      <td>1</td>\n",
       "      <td>C11010</td>\n",
       "      <td>傳產-水泥</td>\n",
       "    </tr>\n",
       "    <tr>\n",
       "      <th>2</th>\n",
       "      <td>1103</td>\n",
       "      <td>嘉泥</td>\n",
       "      <td>1</td>\n",
       "      <td>C11010</td>\n",
       "      <td>傳產-水泥</td>\n",
       "    </tr>\n",
       "    <tr>\n",
       "      <th>3</th>\n",
       "      <td>1104</td>\n",
       "      <td>環泥</td>\n",
       "      <td>1</td>\n",
       "      <td>C11010</td>\n",
       "      <td>傳產-水泥</td>\n",
       "    </tr>\n",
       "    <tr>\n",
       "      <th>4</th>\n",
       "      <td>1108</td>\n",
       "      <td>幸福</td>\n",
       "      <td>1</td>\n",
       "      <td>C11010</td>\n",
       "      <td>傳產-水泥</td>\n",
       "    </tr>\n",
       "    <tr>\n",
       "      <th>...</th>\n",
       "      <td>...</td>\n",
       "      <td>...</td>\n",
       "      <td>...</td>\n",
       "      <td>...</td>\n",
       "      <td>...</td>\n",
       "    </tr>\n",
       "    <tr>\n",
       "      <th>21486</th>\n",
       "      <td>6008</td>\n",
       "      <td>凱基證券</td>\n",
       "      <td>2</td>\n",
       "      <td>None</td>\n",
       "      <td>None</td>\n",
       "    </tr>\n",
       "    <tr>\n",
       "      <th>21667</th>\n",
       "      <td>8008</td>\n",
       "      <td>建興電</td>\n",
       "      <td>1</td>\n",
       "      <td>None</td>\n",
       "      <td>None</td>\n",
       "    </tr>\n",
       "    <tr>\n",
       "      <th>21804</th>\n",
       "      <td>910579</td>\n",
       "      <td>歐聖</td>\n",
       "      <td>1</td>\n",
       "      <td>None</td>\n",
       "      <td>None</td>\n",
       "    </tr>\n",
       "    <tr>\n",
       "      <th>21812</th>\n",
       "      <td>911602</td>\n",
       "      <td>華豐泰國</td>\n",
       "      <td>1</td>\n",
       "      <td>None</td>\n",
       "      <td>None</td>\n",
       "    </tr>\n",
       "    <tr>\n",
       "      <th>21828</th>\n",
       "      <td>9151</td>\n",
       "      <td>中國旺旺</td>\n",
       "      <td>1</td>\n",
       "      <td>None</td>\n",
       "      <td>None</td>\n",
       "    </tr>\n",
       "  </tbody>\n",
       "</table>\n",
       "<p>1987 rows × 5 columns</p>\n",
       "</div>"
      ],
      "text/plain": [
       "      stockid  中文簡稱 上市上櫃 classi_code 指數彙編分類\n",
       "0        1101    台泥    1      C11010  傳產-水泥\n",
       "1        1102    亞泥    1      C11010  傳產-水泥\n",
       "2        1103    嘉泥    1      C11010  傳產-水泥\n",
       "3        1104    環泥    1      C11010  傳產-水泥\n",
       "4        1108    幸福    1      C11010  傳產-水泥\n",
       "...       ...   ...  ...         ...    ...\n",
       "21486    6008  凱基證券    2        None   None\n",
       "21667    8008   建興電    1        None   None\n",
       "21804  910579    歐聖    1        None   None\n",
       "21812  911602  華豐泰國    1        None   None\n",
       "21828    9151  中國旺旺    1        None   None\n",
       "\n",
       "[1987 rows x 5 columns]"
      ]
     },
     "execution_count": 19,
     "metadata": {},
     "output_type": "execute_result"
    }
   ],
   "source": [
    "stock_info_dedup"
   ]
  },
  {
   "cell_type": "code",
   "execution_count": 20,
   "metadata": {},
   "outputs": [
    {
     "name": "stdout",
     "output_type": "stream",
     "text": [
      "        ddate stockid  predict_labels  direction  year month 中文簡稱 上市上櫃  \\\n",
      "16202  202108    1102             0.0        1.0  2021    08   亞泥    1   \n",
      "16203  202108    1103             0.0        1.0  2021    08   嘉泥    1   \n",
      "16204  202108    1210             0.0        1.0  2021    08   大成    1   \n",
      "16205  202108    1215             0.0        1.0  2021    08   卜蜂    1   \n",
      "16206  202108    1216             0.0        1.0  2021    08   統一    1   \n",
      "...       ...     ...             ...        ...   ...   ...  ...  ...   \n",
      "17010  202108    9945             0.0        1.0  2021    08  潤泰新    1   \n",
      "17011  202108    9949             1.0        0.0  2021    08   琉園    2   \n",
      "17012  202108    9958             0.0        1.0  2021    08  世紀鋼    1   \n",
      "17013  202108    9960             0.0        1.0  2021    08  邁達康    2   \n",
      "17014  202108    9962             1.0        0.0  2021    08   有益    2   \n",
      "\n",
      "      classi_code   指數彙編分類  \n",
      "16202      C11010    傳產-水泥  \n",
      "16203      C11010    傳產-水泥  \n",
      "16204      C12010    傳產-食品  \n",
      "16205      C12010    傳產-食品  \n",
      "16206      C12010    傳產-食品  \n",
      "...           ...      ...  \n",
      "17010      C29020    傳產-其他  \n",
      "17011      C29020    傳產-其他  \n",
      "17012      C20010    傳產-鋼鐵  \n",
      "17013      C30010  傳產-高爾夫球  \n",
      "17014      C20010    傳產-鋼鐵  \n",
      "\n",
      "[813 rows x 10 columns]\n"
     ]
    }
   ],
   "source": [
    "print(pred_merge_code[pred_merge_code['ddate']==202108])"
   ]
  },
  {
   "cell_type": "code",
   "execution_count": 21,
   "metadata": {},
   "outputs": [
    {
     "name": "stdout",
     "output_type": "stream",
     "text": [
      "   classi_code          指數彙編分類  counts\n",
      "7       C17020           傳產-生技    4347\n",
      "67      C29020           傳產-其他    3932\n",
      "14      C23010      電子上游-IC-設計    3101\n",
      "59      C25010           傳產-營建    2719\n",
      "4       C15010           傳產-電機    2039\n",
      "..         ...             ...     ...\n",
      "68      C29030          傳產-自行車     152\n",
      "53      C23410       電子下游-手機製造     105\n",
      "12      C22010           傳產-汽車     103\n",
      "45      C23320       電子下游-電信服務      86\n",
      "16      C23030  電子上游-IC-DRAM製造      49\n",
      "\n",
      "[70 rows x 3 columns]\n"
     ]
    }
   ],
   "source": [
    "# 計算各種產業兩個模型判斷相反的次數，並降序排列\n",
    "count_classi = pred_merge_code.groupby(['classi_code', '指數彙編分類']).size().reset_index(name='counts').sort_values(by='counts', ascending=False)\n",
    "print(count_classi)"
   ]
  },
  {
   "cell_type": "code",
   "execution_count": 22,
   "metadata": {},
   "outputs": [
    {
     "name": "stdout",
     "output_type": "stream",
     "text": [
      "    classi_code          指數彙編分類  year  counts\n",
      "63       C17020           傳產-生技  2023     506\n",
      "543      C29020           傳產-其他  2023     485\n",
      "119      C23010      電子上游-IC-設計  2023     388\n",
      "479      C25010           傳產-營建  2023     295\n",
      "39       C15010           傳產-電機  2023     238\n",
      "..          ...             ...   ...     ...\n",
      "431      C23410       電子下游-手機製造  2023      15\n",
      "559      C30010         傳產-高爾夫球  2023      13\n",
      "343      C23290       電子下游-數位相機  2023       9\n",
      "367      C23320       電子下游-電信服務  2023       9\n",
      "135      C23030  電子上游-IC-DRAM製造  2023       6\n",
      "\n",
      "[70 rows x 4 columns]\n",
      "    classi_code          指數彙編分類  year  counts\n",
      "62       C17020           傳產-生技  2022     602\n",
      "542      C29020           傳產-其他  2022     536\n",
      "478      C25010           傳產-營建  2022     339\n",
      "118      C23010      電子上游-IC-設計  2022     336\n",
      "38       C15010           傳產-電機  2022     238\n",
      "..          ...             ...   ...     ...\n",
      "390      C23360        電子下游-掃描器  2022      14\n",
      "430      C23410       電子下游-手機製造  2022      13\n",
      "70       C18010         傳產-玻璃陶瓷  2022      10\n",
      "366      C23320       電子下游-電信服務  2022      10\n",
      "134      C23030  電子上游-IC-DRAM製造  2022       2\n",
      "\n",
      "[70 rows x 4 columns]\n"
     ]
    }
   ],
   "source": [
    "count_classi_y = pred_merge_code.groupby(['classi_code', '指數彙編分類', 'year']).size().reset_index(name='counts').sort_values(by=['year','counts'], ascending=False)\n",
    "print(count_classi_y[count_classi_y['year']=='2023'])\n",
    "\n",
    "print(count_classi_y[count_classi_y['year']=='2022'])"
   ]
  },
  {
   "cell_type": "code",
   "execution_count": 23,
   "metadata": {},
   "outputs": [],
   "source": [
    "# 將 merged(兩模型都有預測的個股)加上股票產業彙編碼\n",
    "merged_merge_code = merged.merge(stock_info_dedup, on='stockid', how='left')\n",
    "#print(merged_merge_code)"
   ]
  },
  {
   "cell_type": "code",
   "execution_count": 24,
   "metadata": {},
   "outputs": [
    {
     "name": "stdout",
     "output_type": "stream",
     "text": [
      "   classi_code          指數彙編分類  counts\n",
      "7       C17020           傳產-生技   11502\n",
      "67      C29020           傳產-其他   11068\n",
      "14      C23010      電子上游-IC-設計    8069\n",
      "59      C25010           傳產-營建    7488\n",
      "4       C15010           傳產-電機    6479\n",
      "..         ...             ...     ...\n",
      "8       C18010         傳產-玻璃陶瓷     470\n",
      "42      C23290       電子下游-數位相機     376\n",
      "53      C23410       電子下游-手機製造     285\n",
      "45      C23320       電子下游-電信服務     282\n",
      "16      C23030  電子上游-IC-DRAM製造      94\n",
      "\n",
      "[70 rows x 3 columns]\n"
     ]
    }
   ],
   "source": [
    "# 計算各產業數量(全，非僅包含預測相反者)\n",
    "merge_count = merged_merge_code.groupby(['classi_code', '指數彙編分類']).size().reset_index(name='counts').sort_values(by=['counts'], ascending=False)\n",
    "print(merge_count)"
   ]
  },
  {
   "cell_type": "code",
   "execution_count": 25,
   "metadata": {},
   "outputs": [],
   "source": [
    "# 兩模型在各產業預測相反的比例 = 各產業不分時間預測相反總數量/兩模型都有預測的數量\n",
    "\n",
    "# merge the df on 'classi_code'\n",
    "ratio_merge = pd.merge(count_classi, merge_count, on=['classi_code', '指數彙編分類'], suffixes=('_c', '_m'))\n",
    "\n",
    "# Calvulate the ratio and create new column\n",
    "ratio_merge['ratio'] = ratio_merge['counts_c'] / ratio_merge['counts_m'] *100\n",
    "\n",
    "# 依照占比降續排列\n",
    "ratio_merge = ratio_merge.sort_values('ratio', ascending=False)\n",
    "#print(len(ratio_merge[['classi_code','指數彙編分類', 'ratio']])) #70"
   ]
  },
  {
   "cell_type": "code",
   "execution_count": 26,
   "metadata": {},
   "outputs": [
    {
     "name": "stdout",
     "output_type": "stream",
     "text": [
      "電子上游: 76.92 電子中游: 40.0 電子下游: 50.0 軟體: 66.67 傳產: 47.62\n"
     ]
    }
   ],
   "source": [
    "# 計算預測相反比例前35高的產業(共70個產業)，電子上游、中游、下游、software 與傳產的數量\n",
    "HighRatio35 = ratio_merge[['classi_code','指數彙編分類', 'ratio']][:35]\n",
    "\n",
    "count_eeupstream = round(HighRatio35['指數彙編分類'].str.contains('電子上游').sum() / ratio_merge['指數彙編分類'].str.contains('電子上游').sum() *100, 2)\n",
    "count_eemidstream = round(HighRatio35['指數彙編分類'].str.contains('電子中游').sum() / ratio_merge['指數彙編分類'].str.contains('電子中游').sum() *100, 2)\n",
    "count_eedownstream = round(HighRatio35['指數彙編分類'].str.contains('電子下游').sum() / ratio_merge['指數彙編分類'].str.contains('電子下游').sum() *100, 2)\n",
    "count_software = round(HighRatio35['指數彙編分類'].str.contains('軟體').sum() / ratio_merge['指數彙編分類'].str.contains('軟體').sum() *100, 2)\n",
    "count_traditional =round( HighRatio35['指數彙編分類'].str.contains('傳產').sum() / ratio_merge['指數彙編分類'].str.contains('傳產').sum() *100, 2)\n",
    "print('電子上游:', count_eeupstream, '電子中游:', count_eemidstream, '電子下游:', count_eedownstream, '軟體:', count_software, '傳產:', count_traditional)\n"
   ]
  },
  {
   "cell_type": "code",
   "execution_count": 27,
   "metadata": {},
   "outputs": [],
   "source": [
    "# 針對電子上游產業觀察兩模型預測1和0的數量\n",
    "stock_df = stock_info_dedup.dropna()\n",
    "ee_upstream = stock_df[stock_df['指數彙編分類'].str.contains('電子上游')] #404"
   ]
  },
  {
   "cell_type": "code",
   "execution_count": 28,
   "metadata": {},
   "outputs": [
    {
     "name": "stdout",
     "output_type": "stream",
     "text": [
      "139        電子上游-IC-通路\n",
      "142         電子上游-連接元件\n",
      "151     電子上游-PCB-材料設備\n",
      "295      電子上游-LED及光元件\n",
      "299        電子上游-IC-代工\n",
      "303       電子上游-PCB-製造\n",
      "310         電子上游-被動元件\n",
      "312        電子上游-IC-封測\n",
      "316        電子上游-IC-製造\n",
      "317        電子上游-IC-其他\n",
      "319       電子上游-DRAM銷售\n",
      "336        電子上游-IC-設計\n",
      "366    電子上游-IC-DRAM製造\n",
      "Name: 指數彙編分類, dtype: object\n"
     ]
    }
   ],
   "source": [
    "# 所有電子上游類別\n",
    "uni_up = ee_upstream['指數彙編分類'].drop_duplicates()\n",
    "print(uni_up)"
   ]
  },
  {
   "cell_type": "code",
   "execution_count": 29,
   "metadata": {},
   "outputs": [
    {
     "name": "stdout",
     "output_type": "stream",
     "text": [
      "電子上游-IC-DRAM製造\n",
      "logit_prediction: 19.0 dream report prediction: 30.0\n"
     ]
    }
   ],
   "source": [
    "# 電子上游-IC-DRAM製造 \n",
    "# 計算夢幻、logit預測的0與1數目\n",
    "logit_pred_eeupstream = pred_merge_code[pred_merge_code['指數彙編分類']=='電子上游-IC-DRAM製造']['predict_labels'].sum()\n",
    "dream_pred_eeupstream = pred_merge_code[pred_merge_code['指數彙編分類']=='電子上游-IC-DRAM製造']['direction'].sum()\n",
    "\n",
    "print('電子上游-IC-DRAM製造')\n",
    "print('logit_prediction:', logit_pred_eeupstream, 'dream report prediction:', dream_pred_eeupstream)\n",
    " # all 49"
   ]
  },
  {
   "cell_type": "code",
   "execution_count": 30,
   "metadata": {},
   "outputs": [
    {
     "name": "stdout",
     "output_type": "stream",
     "text": [
      "電子上游-IC-製造\n",
      "logit_prediction: 71.0 dream report prediction: 297.0\n"
     ]
    }
   ],
   "source": [
    "# 電子上游-IC-製造\n",
    "logit_pred_ICmanufact = pred_merge_code[pred_merge_code['指數彙編分類']=='電子上游-IC-製造']['predict_labels'].sum()\n",
    "dream_pred_ICmanufact = pred_merge_code[pred_merge_code['指數彙編分類']=='電子上游-IC-製造']['direction'].sum()\n",
    "\n",
    "print('電子上游-IC-製造')\n",
    "print('logit_prediction:', logit_pred_ICmanufact, 'dream report prediction:', dream_pred_ICmanufact)\n",
    "#len( pred_merge_code[pred_merge_code['指數彙編分類']=='電子上游-IC-製造']['direction']) # all 368\n"
   ]
  },
  {
   "cell_type": "code",
   "execution_count": 31,
   "metadata": {},
   "outputs": [
    {
     "name": "stdout",
     "output_type": "stream",
     "text": [
      "電子上游-IC-代工\n",
      "logit_prediction: 52.0 dream report prediction: 239.0\n"
     ]
    }
   ],
   "source": [
    "# 電子上游-IC-代工\n",
    "logit_pred_ICOEM = pred_merge_code[pred_merge_code['指數彙編分類']=='電子上游-IC-代工']['predict_labels'].sum()\n",
    "dream_pred_ICOEM = pred_merge_code[pred_merge_code['指數彙編分類']=='電子上游-IC-代工']['direction'].sum()\n",
    "\n",
    "print('電子上游-IC-代工')\n",
    "print('logit_prediction:', logit_pred_ICOEM, 'dream report prediction:', dream_pred_ICOEM)\n",
    "\n",
    "#len( pred_merge_code[pred_merge_code['指數彙編分類']=='電子上游-IC-代工']['direction']) # all 291"
   ]
  },
  {
   "cell_type": "code",
   "execution_count": 32,
   "metadata": {},
   "outputs": [
    {
     "name": "stdout",
     "output_type": "stream",
     "text": [
      "傳產-汽車\n",
      "logit_prediction: 66.0 dream report prediction: 37.0\n"
     ]
    }
   ],
   "source": [
    "# 意見分歧低\n",
    "# 傳產-汽車\n",
    "logit_pred_car = pred_merge_code[pred_merge_code['指數彙編分類']=='傳產-汽車']['predict_labels'].sum()\n",
    "dream_pred_car = pred_merge_code[pred_merge_code['指數彙編分類']=='傳產-汽車']['direction'].sum()\n",
    "\n",
    "print('傳產-汽車')\n",
    "print('logit_prediction:', logit_pred_car, 'dream report prediction:', dream_pred_car)"
   ]
  },
  {
   "cell_type": "code",
   "execution_count": 33,
   "metadata": {},
   "outputs": [
    {
     "name": "stdout",
     "output_type": "stream",
     "text": [
      "電子下游-筆記型電腦\n",
      "logit_prediction: 101.0 dream report prediction: 92.0\n"
     ]
    }
   ],
   "source": [
    "# 電子下游-筆記型電腦\n",
    "logit_pred_pc = pred_merge_code[pred_merge_code['指數彙編分類']=='電子下游-筆記型電腦']['predict_labels'].sum()\n",
    "dream_pred_pc = pred_merge_code[pred_merge_code['指數彙編分類']=='電子下游-筆記型電腦']['direction'].sum()\n",
    "\n",
    "print('電子下游-筆記型電腦')\n",
    "print('logit_prediction:', logit_pred_pc, 'dream report prediction:', dream_pred_pc)"
   ]
  },
  {
   "cell_type": "code",
   "execution_count": 34,
   "metadata": {},
   "outputs": [
    {
     "name": "stdout",
     "output_type": "stream",
     "text": [
      "result\n",
      "1    19\n",
      "0    16\n",
      "Name: count, dtype: int64\n",
      "                predict_labels  direction result\n",
      "指數彙編分類                                          \n",
      "電子上游-IC-DRAM製造            19.0       30.0      1\n",
      "電子上游-IC-製造                71.0      297.0      1\n",
      "電子上游-IC-代工                52.0      239.0      1\n",
      "電子下游-光碟片                 184.0       95.0      0\n",
      "軟體-其他                    213.0      384.0      1\n",
      "電子下游-數位相機                 82.0       69.0      0\n",
      "軟體-遊戲                    243.0      261.0      1\n",
      "電子中游-NB與手機零組件            472.0      591.0      1\n",
      "傳產-橡膠                    273.0      152.0      0\n",
      "電子上游-IC-設計              1034.0     2060.0      1\n",
      "電子中游-PC介面卡                72.0      142.0      1\n",
      "傳產-生技                   1162.0     2933.0      1\n",
      "電子上游-IC-封測               328.0      562.0      1\n",
      "電子下游-安全監控                319.0      160.0      0\n",
      "電子中游-其他                  501.0      460.0      0\n",
      "電子中游-LCD-TFT面板           174.0       94.0      0\n",
      "傳產-觀光                    700.0      660.0      0\n",
      "電子下游-太陽能                 203.0      195.0      0\n",
      "電子下游-手機製造                 87.0       18.0      0\n",
      "電子上游-LED及光元件             707.0      442.0      0\n",
      "電子中游-LCD-零組件             457.0      229.0      0\n",
      "電子上游-IC-通路               332.0      489.0      1\n",
      "傳產-營建                   1020.0     1595.0      1\n",
      "電子上游-PCB-製造              679.0      663.0      0\n",
      "傳產-航運                    438.0      553.0      1\n",
      "電子下游-商業自動化               123.0      147.0      1\n",
      "傳產-紙業                    106.0      102.0      0\n",
      "電子下游-顯示器                 119.0      142.0      1\n",
      "傳產-百貨                    592.0      436.0      0\n",
      "傳產-其他                   1752.0     2157.0      1\n",
      "電子中游-變壓器與UPS             265.0      239.0      0\n",
      "傳產-水泥                    145.0       87.0      0\n",
      "傳產-鋼鐵                    772.0      839.0      1\n",
      "電子上游-被動元件                442.0      703.0      1\n",
      "電子上游-IC-其他               210.0      269.0      1\n"
     ]
    }
   ],
   "source": [
    "# 計算兩模型預測相反，比例最高的前35個產業中，有多少是夢幻預測上漲(1)的數量大於 logit model\n",
    "\n",
    "# Group by '指數彙編分類' and calculate the sum of 'predict_labels' and 'direction'\n",
    "grouped = pred_merge_code.groupby('指數彙編分類')[['predict_labels', 'direction']].sum()\n",
    "\n",
    "grouped['result'] = np.where(grouped['direction'] > grouped['predict_labels'], 1, np.where(grouped['direction'] == grouped['predict_labels'], 'even', 0))\n",
    "HighRatio35_industry = HighRatio35['指數彙編分類']\n",
    "\n",
    "# Filter the grouped DataFrame\n",
    "grouped = grouped[grouped.index.isin(HighRatio35_industry)]\n",
    "\n",
    "# Reindex the grouped DataFrame to match the order of HighRatio35_industry\n",
    "grouped = grouped.reindex(HighRatio35_industry)\n",
    "\n",
    "result_counts = grouped['result'].value_counts()\n",
    "\n",
    "print(result_counts)\n",
    "print(grouped)\n"
   ]
  },
  {
   "cell_type": "code",
   "execution_count": 35,
   "metadata": {},
   "outputs": [],
   "source": [
    "# 計算兩模型預測相反，比例最高的前35個產業中，有多少是夢幻預測上漲(1)的數量小於 logit model\n",
    "\n"
   ]
  },
  {
   "cell_type": "code",
   "execution_count": 36,
   "metadata": {},
   "outputs": [
    {
     "name": "stdout",
     "output_type": "stream",
     "text": [
      "                predict_labels  direction result\n",
      "指數彙編分類                                          \n",
      "電子上游-IC-DRAM製造            19.0       30.0      1\n",
      "電子上游-IC-製造                71.0      297.0      1\n",
      "電子上游-IC-代工                52.0      239.0      1\n",
      "電子上游-IC-設計              1034.0     2060.0      1\n",
      "電子上游-IC-封測               328.0      562.0      1\n",
      "電子上游-LED及光元件             707.0      442.0      0\n",
      "電子上游-IC-通路               332.0      489.0      1\n",
      "電子上游-PCB-製造              679.0      663.0      0\n",
      "電子上游-被動元件                442.0      703.0      1\n",
      "電子上游-IC-其他               210.0      269.0      1\n",
      "        predict_labels  direction result\n",
      "指數彙編分類                                  \n",
      "傳產-橡膠            273.0      152.0      0\n",
      "傳產-生技           1162.0     2933.0      1\n",
      "傳產-觀光            700.0      660.0      0\n",
      "傳產-營建           1020.0     1595.0      1\n",
      "傳產-航運            438.0      553.0      1\n",
      "傳產-紙業            106.0      102.0      0\n",
      "傳產-百貨            592.0      436.0      0\n",
      "傳產-其他           1752.0     2157.0      1\n",
      "傳產-水泥            145.0       87.0      0\n",
      "傳產-鋼鐵            772.0      839.0      1\n"
     ]
    }
   ],
   "source": [
    "# 電子上游 - 1 居多\n",
    "print(grouped[grouped.index.str.contains('電子上游')])\n",
    "\n",
    "# 傳產 - 0&1 各半\n",
    "print(grouped[grouped.index.str.contains('傳產')])\n"
   ]
  },
  {
   "cell_type": "code",
   "execution_count": 37,
   "metadata": {},
   "outputs": [],
   "source": [
    "# merge 2 model data frame with stock information\n",
    "Dream_report_class = Dream_report.merge(stock_info_dedup[['指數彙編分類', 'stockid']], on='stockid', how='left')\n",
    "logit_direction_class = logit_direction.merge(stock_info_dedup[['指數彙編分類', 'stockid']], on='stockid', how='left')"
   ]
  },
  {
   "cell_type": "code",
   "execution_count": 38,
   "metadata": {},
   "outputs": [],
   "source": [
    "# merge 3 dataframes and calculate the accuracy\n",
    "df_DL = Dream_report_class.merge(logit_direction_class, on=['ddate', 'stockid', '指數彙編分類'], how='inner')\n",
    "\n",
    "df_ABC = df_DL.merge(df[['stockid', 'ddate', 'direction']].astype({'stockid': str}), on=['stockid', 'ddate'], suffixes=('', '_real'))\n",
    "df_ABC['direction_real'] = df_ABC['direction_real'].astype(float)\n",
    "#print(df_ABC)\n",
    "#print(len(df_ABC)) #157166"
   ]
  },
  {
   "cell_type": "code",
   "execution_count": 39,
   "metadata": {},
   "outputs": [
    {
     "name": "stdout",
     "output_type": "stream",
     "text": [
      "夢幻報表電子上游產業準確率: 0.6052\n",
      "Logit Model 電子上游產業: 0.6081\n",
      "20340.0\n",
      "18171.0\n",
      "18009.0\n"
     ]
    }
   ],
   "source": [
    "# Filter the DataFrame for a specific classification_code\n",
    "df_filtered = df_ABC[df_ABC['指數彙編分類'].str.contains('電子上游')]\n",
    "#print(df_filtered) #34318 \n",
    "\n",
    "# Calculate the accuracy for Dream Report model \n",
    "AccuracyDream_eeup = round((df_filtered['direction'] == df_filtered['direction_real']).sum() / len(df_filtered), 4)\n",
    "print('夢幻報表電子上游產業準確率:',AccuracyDream_eeup) #0.605\n",
    "\n",
    "# Calculate the accuracy for Logit model\n",
    "AccuracyLogit_eeup = round((df_filtered['predict_labels'] == df_filtered['direction_real']).sum() / len(df_filtered), 4)\n",
    "print('Logit Model 電子上游產業:',AccuracyLogit_eeup) #0.608\n",
    "\n",
    "# 小結:兩模型對於電子上游相關產業的準確度幾乎相同61%左右，logit model微微高一些\n",
    "\n",
    "# TODO\n",
    "# 夢幻報表容易預測成上漲，但跟真實情況可能相反→針對電子上游的細分類分析\n",
    "# 夢幻報表預測上漲的次數、真實上漲的次數\n",
    "print(df_filtered['direction'].sum())\n",
    "print(df_filtered['predict_labels'].sum())\n",
    "print(df_filtered['direction_real'].sum())\n",
    "# 兩模型預測的上漲次數均高於實際值，但夢幻報表多一倍左右"
   ]
  },
  {
   "cell_type": "code",
   "execution_count": 40,
   "metadata": {},
   "outputs": [
    {
     "name": "stdout",
     "output_type": "stream",
     "text": [
      "139        電子上游-IC-通路\n",
      "142         電子上游-連接元件\n",
      "151     電子上游-PCB-材料設備\n",
      "295      電子上游-LED及光元件\n",
      "298        電子上游-IC-代工\n",
      "302       電子上游-PCB-製造\n",
      "309         電子上游-被動元件\n",
      "311        電子上游-IC-封測\n",
      "315        電子上游-IC-製造\n",
      "316        電子上游-IC-其他\n",
      "318       電子上游-DRAM銷售\n",
      "335        電子上游-IC-設計\n",
      "365    電子上游-IC-DRAM製造\n",
      "Name: 指數彙編分類, dtype: object\n",
      "13\n"
     ]
    }
   ],
   "source": [
    "# 電子上游的細分類產業\n",
    "test = df_filtered['指數彙編分類'].drop_duplicates()\n",
    "print(test)\n",
    "print(len(test))"
   ]
  },
  {
   "cell_type": "code",
   "execution_count": 41,
   "metadata": {},
   "outputs": [],
   "source": [
    "# 電子上游\n",
    "df_filtered_copy = df_filtered.copy()\n",
    "df_filtered_copy = df_filtered_copy.groupby(['ddate', '指數彙編分類']).apply(compare_predictions)\n",
    "#df_filtered_copy"
   ]
  },
  {
   "cell_type": "code",
   "execution_count": 42,
   "metadata": {},
   "outputs": [
    {
     "data": {
      "text/html": [
       "<div>\n",
       "<style scoped>\n",
       "    .dataframe tbody tr th:only-of-type {\n",
       "        vertical-align: middle;\n",
       "    }\n",
       "\n",
       "    .dataframe tbody tr th {\n",
       "        vertical-align: top;\n",
       "    }\n",
       "\n",
       "    .dataframe thead th {\n",
       "        text-align: right;\n",
       "    }\n",
       "</style>\n",
       "<table border=\"1\" class=\"dataframe\">\n",
       "  <thead>\n",
       "    <tr style=\"text-align: right;\">\n",
       "      <th></th>\n",
       "      <th>指數彙編分類</th>\n",
       "      <th>DreamPredCorrect</th>\n",
       "      <th>LogitPredCorrect</th>\n",
       "      <th>diff</th>\n",
       "      <th>diff_ratio</th>\n",
       "    </tr>\n",
       "  </thead>\n",
       "  <tbody>\n",
       "    <tr>\n",
       "      <th>0</th>\n",
       "      <td>電子上游-DRAM銷售</td>\n",
       "      <td>444</td>\n",
       "      <td>474</td>\n",
       "      <td>-30</td>\n",
       "      <td>-0.1</td>\n",
       "    </tr>\n",
       "    <tr>\n",
       "      <th>1</th>\n",
       "      <td>電子上游-IC-DRAM製造</td>\n",
       "      <td>39</td>\n",
       "      <td>38</td>\n",
       "      <td>1</td>\n",
       "      <td>0.0</td>\n",
       "    </tr>\n",
       "    <tr>\n",
       "      <th>2</th>\n",
       "      <td>電子上游-IC-代工</td>\n",
       "      <td>433</td>\n",
       "      <td>362</td>\n",
       "      <td>71</td>\n",
       "      <td>0.2</td>\n",
       "    </tr>\n",
       "    <tr>\n",
       "      <th>3</th>\n",
       "      <td>電子上游-IC-其他</td>\n",
       "      <td>854</td>\n",
       "      <td>861</td>\n",
       "      <td>-7</td>\n",
       "      <td>-0.0</td>\n",
       "    </tr>\n",
       "    <tr>\n",
       "      <th>4</th>\n",
       "      <td>電子上游-IC-封測</td>\n",
       "      <td>1336</td>\n",
       "      <td>1288</td>\n",
       "      <td>48</td>\n",
       "      <td>0.0</td>\n",
       "    </tr>\n",
       "    <tr>\n",
       "      <th>5</th>\n",
       "      <td>電子上游-IC-製造</td>\n",
       "      <td>469</td>\n",
       "      <td>451</td>\n",
       "      <td>18</td>\n",
       "      <td>0.0</td>\n",
       "    </tr>\n",
       "    <tr>\n",
       "      <th>6</th>\n",
       "      <td>電子上游-IC-設計</td>\n",
       "      <td>4800</td>\n",
       "      <td>4682</td>\n",
       "      <td>118</td>\n",
       "      <td>0.0</td>\n",
       "    </tr>\n",
       "    <tr>\n",
       "      <th>7</th>\n",
       "      <td>電子上游-IC-通路</td>\n",
       "      <td>1394</td>\n",
       "      <td>1483</td>\n",
       "      <td>-89</td>\n",
       "      <td>-0.1</td>\n",
       "    </tr>\n",
       "    <tr>\n",
       "      <th>8</th>\n",
       "      <td>電子上游-LED及光元件</td>\n",
       "      <td>1901</td>\n",
       "      <td>1920</td>\n",
       "      <td>-19</td>\n",
       "      <td>-0.0</td>\n",
       "    </tr>\n",
       "    <tr>\n",
       "      <th>9</th>\n",
       "      <td>電子上游-PCB-材料設備</td>\n",
       "      <td>1345</td>\n",
       "      <td>1370</td>\n",
       "      <td>-25</td>\n",
       "      <td>-0.0</td>\n",
       "    </tr>\n",
       "    <tr>\n",
       "      <th>10</th>\n",
       "      <td>電子上游-PCB-製造</td>\n",
       "      <td>2270</td>\n",
       "      <td>2325</td>\n",
       "      <td>-55</td>\n",
       "      <td>-0.0</td>\n",
       "    </tr>\n",
       "    <tr>\n",
       "      <th>11</th>\n",
       "      <td>電子上游-被動元件</td>\n",
       "      <td>1974</td>\n",
       "      <td>2005</td>\n",
       "      <td>-31</td>\n",
       "      <td>-0.0</td>\n",
       "    </tr>\n",
       "    <tr>\n",
       "      <th>12</th>\n",
       "      <td>電子上游-連接元件</td>\n",
       "      <td>3509</td>\n",
       "      <td>3609</td>\n",
       "      <td>-100</td>\n",
       "      <td>-0.0</td>\n",
       "    </tr>\n",
       "  </tbody>\n",
       "</table>\n",
       "</div>"
      ],
      "text/plain": [
       "            指數彙編分類  DreamPredCorrect  LogitPredCorrect  diff  diff_ratio\n",
       "0      電子上游-DRAM銷售               444               474   -30        -0.1\n",
       "1   電子上游-IC-DRAM製造                39                38     1         0.0\n",
       "2       電子上游-IC-代工               433               362    71         0.2\n",
       "3       電子上游-IC-其他               854               861    -7        -0.0\n",
       "4       電子上游-IC-封測              1336              1288    48         0.0\n",
       "5       電子上游-IC-製造               469               451    18         0.0\n",
       "6       電子上游-IC-設計              4800              4682   118         0.0\n",
       "7       電子上游-IC-通路              1394              1483   -89        -0.1\n",
       "8     電子上游-LED及光元件              1901              1920   -19        -0.0\n",
       "9    電子上游-PCB-材料設備              1345              1370   -25        -0.0\n",
       "10     電子上游-PCB-製造              2270              2325   -55        -0.0\n",
       "11       電子上游-被動元件              1974              2005   -31        -0.0\n",
       "12       電子上游-連接元件              3509              3609  -100        -0.0"
      ]
     },
     "execution_count": 42,
     "metadata": {},
     "output_type": "execute_result"
    }
   ],
   "source": [
    "df_filtered_copy = df_filtered_copy.reset_index(drop=True)\n",
    "\n",
    "# 針對日期及細項產業分類的預測正確數加總\n",
    "df_sum = df_filtered_copy.groupby(['ddate', '指數彙編分類'])[['DreamPredCorrect', 'LogitPredCorrect']].sum().reset_index()\n",
    "df_sum\n",
    "\n",
    "# 僅針對細項產業分類的預測正確數加總\n",
    "df_sum2 = df_filtered_copy.groupby(['指數彙編分類'])[['DreamPredCorrect', 'LogitPredCorrect']].sum().reset_index()\n",
    "df_sum2['diff'] = df_sum2['DreamPredCorrect'] - df_sum2['LogitPredCorrect']\n",
    "df_sum2['diff_ratio'] = round(df_sum2['diff'] / df_sum2['LogitPredCorrect'], 1)\n",
    "df_sum2\n"
   ]
  },
  {
   "cell_type": "code",
   "execution_count": 43,
   "metadata": {},
   "outputs": [
    {
     "name": "stdout",
     "output_type": "stream",
     "text": [
      "379    軟體-系統整合\n",
      "621      軟體-遊戲\n",
      "629      軟體-其他\n",
      "Name: 指數彙編分類, dtype: object\n",
      "3\n"
     ]
    }
   ],
   "source": [
    "# 軟體\n",
    "\n",
    "# 軟體的細分類產業\n",
    "df_sw = df_ABC[df_ABC['指數彙編分類'].str.contains('軟體')]\n",
    "test2 = df_sw['指數彙編分類'].drop_duplicates()\n",
    "print(test2)\n",
    "print(len(test2))"
   ]
  },
  {
   "cell_type": "code",
   "execution_count": 44,
   "metadata": {},
   "outputs": [
    {
     "data": {
      "text/html": [
       "<div>\n",
       "<style scoped>\n",
       "    .dataframe tbody tr th:only-of-type {\n",
       "        vertical-align: middle;\n",
       "    }\n",
       "\n",
       "    .dataframe tbody tr th {\n",
       "        vertical-align: top;\n",
       "    }\n",
       "\n",
       "    .dataframe thead th {\n",
       "        text-align: right;\n",
       "    }\n",
       "</style>\n",
       "<table border=\"1\" class=\"dataframe\">\n",
       "  <thead>\n",
       "    <tr style=\"text-align: right;\">\n",
       "      <th></th>\n",
       "      <th>ddate</th>\n",
       "      <th>stockid</th>\n",
       "      <th>direction</th>\n",
       "      <th>指數彙編分類</th>\n",
       "      <th>predict_labels</th>\n",
       "      <th>direction_real</th>\n",
       "    </tr>\n",
       "  </thead>\n",
       "  <tbody>\n",
       "    <tr>\n",
       "      <th>379</th>\n",
       "      <td>202310</td>\n",
       "      <td>2427</td>\n",
       "      <td>0.0</td>\n",
       "      <td>軟體-系統整合</td>\n",
       "      <td>0.0</td>\n",
       "      <td>0.0</td>\n",
       "    </tr>\n",
       "    <tr>\n",
       "      <th>384</th>\n",
       "      <td>202310</td>\n",
       "      <td>2433</td>\n",
       "      <td>0.0</td>\n",
       "      <td>軟體-系統整合</td>\n",
       "      <td>1.0</td>\n",
       "      <td>0.0</td>\n",
       "    </tr>\n",
       "    <tr>\n",
       "      <th>397</th>\n",
       "      <td>202310</td>\n",
       "      <td>2453</td>\n",
       "      <td>0.0</td>\n",
       "      <td>軟體-系統整合</td>\n",
       "      <td>0.0</td>\n",
       "      <td>0.0</td>\n",
       "    </tr>\n",
       "    <tr>\n",
       "      <th>410</th>\n",
       "      <td>202310</td>\n",
       "      <td>2468</td>\n",
       "      <td>1.0</td>\n",
       "      <td>軟體-系統整合</td>\n",
       "      <td>1.0</td>\n",
       "      <td>1.0</td>\n",
       "    </tr>\n",
       "    <tr>\n",
       "      <th>411</th>\n",
       "      <td>202310</td>\n",
       "      <td>2471</td>\n",
       "      <td>1.0</td>\n",
       "      <td>軟體-系統整合</td>\n",
       "      <td>1.0</td>\n",
       "      <td>1.0</td>\n",
       "    </tr>\n",
       "    <tr>\n",
       "      <th>...</th>\n",
       "      <td>...</td>\n",
       "      <td>...</td>\n",
       "      <td>...</td>\n",
       "      <td>...</td>\n",
       "      <td>...</td>\n",
       "      <td>...</td>\n",
       "    </tr>\n",
       "    <tr>\n",
       "      <th>156896</th>\n",
       "      <td>201601</td>\n",
       "      <td>6221</td>\n",
       "      <td>0.0</td>\n",
       "      <td>軟體-系統整合</td>\n",
       "      <td>0.0</td>\n",
       "      <td>0.0</td>\n",
       "    </tr>\n",
       "    <tr>\n",
       "      <th>156948</th>\n",
       "      <td>201601</td>\n",
       "      <td>6404</td>\n",
       "      <td>0.0</td>\n",
       "      <td>軟體-遊戲</td>\n",
       "      <td>0.0</td>\n",
       "      <td>0.0</td>\n",
       "    </tr>\n",
       "    <tr>\n",
       "      <th>156989</th>\n",
       "      <td>201601</td>\n",
       "      <td>8044</td>\n",
       "      <td>1.0</td>\n",
       "      <td>軟體-其他</td>\n",
       "      <td>0.0</td>\n",
       "      <td>1.0</td>\n",
       "    </tr>\n",
       "    <tr>\n",
       "      <th>157022</th>\n",
       "      <td>201601</td>\n",
       "      <td>8099</td>\n",
       "      <td>0.0</td>\n",
       "      <td>軟體-系統整合</td>\n",
       "      <td>0.0</td>\n",
       "      <td>0.0</td>\n",
       "    </tr>\n",
       "    <tr>\n",
       "      <th>157074</th>\n",
       "      <td>201601</td>\n",
       "      <td>8416</td>\n",
       "      <td>0.0</td>\n",
       "      <td>軟體-系統整合</td>\n",
       "      <td>0.0</td>\n",
       "      <td>0.0</td>\n",
       "    </tr>\n",
       "  </tbody>\n",
       "</table>\n",
       "<p>5981 rows × 6 columns</p>\n",
       "</div>"
      ],
      "text/plain": [
       "         ddate stockid  direction   指數彙編分類  predict_labels  direction_real\n",
       "379     202310    2427        0.0  軟體-系統整合             0.0             0.0\n",
       "384     202310    2433        0.0  軟體-系統整合             1.0             0.0\n",
       "397     202310    2453        0.0  軟體-系統整合             0.0             0.0\n",
       "410     202310    2468        1.0  軟體-系統整合             1.0             1.0\n",
       "411     202310    2471        1.0  軟體-系統整合             1.0             1.0\n",
       "...        ...     ...        ...      ...             ...             ...\n",
       "156896  201601    6221        0.0  軟體-系統整合             0.0             0.0\n",
       "156948  201601    6404        0.0    軟體-遊戲             0.0             0.0\n",
       "156989  201601    8044        1.0    軟體-其他             0.0             1.0\n",
       "157022  201601    8099        0.0  軟體-系統整合             0.0             0.0\n",
       "157074  201601    8416        0.0  軟體-系統整合             0.0             0.0\n",
       "\n",
       "[5981 rows x 6 columns]"
      ]
     },
     "execution_count": 44,
     "metadata": {},
     "output_type": "execute_result"
    }
   ],
   "source": [
    "# 軟體\n",
    "df_sw_copy = df_sw.copy()\n",
    "df_sw_copy = df_sw_copy.groupby(['ddate', '指數彙編分類']).apply(compare_predictions)\n",
    "df_sw"
   ]
  },
  {
   "cell_type": "code",
   "execution_count": 45,
   "metadata": {},
   "outputs": [
    {
     "name": "stdout",
     "output_type": "stream",
     "text": [
      "      ddate   指數彙編分類  DreamPredCorrect  LogitPredCorrect\n",
      "0    201601    軟體-其他                 5                 7\n",
      "1    201601  軟體-系統整合                22                23\n",
      "2    201601    軟體-遊戲                 5                 7\n",
      "3    201602    軟體-其他                 4                 4\n",
      "4    201602  軟體-系統整合                21                16\n",
      "..      ...      ...               ...               ...\n",
      "277  202309  軟體-系統整合                32                25\n",
      "278  202309    軟體-遊戲                 8                 6\n",
      "279  202310    軟體-其他                13                 9\n",
      "280  202310  軟體-系統整合                24                29\n",
      "281  202310    軟體-遊戲                10                 7\n",
      "\n",
      "[282 rows x 4 columns]\n",
      "    指數彙編分類  DreamPredCorrect  LogitPredCorrect  diff  diff_ratio\n",
      "0    軟體-其他               890               897    -7        -0.0\n",
      "1  軟體-系統整合              2209              2274   -65        -0.0\n",
      "2    軟體-遊戲               709               735   -26        -0.0\n"
     ]
    }
   ],
   "source": [
    "df_sw_copy = df_sw_copy.reset_index(drop=True)\n",
    "\n",
    "# 針對日期及細項產業分類的預測正確數加總\n",
    "df_sum_sw = df_sw_copy.groupby(['ddate', '指數彙編分類'])[['DreamPredCorrect', 'LogitPredCorrect']].sum().reset_index()\n",
    "print(df_sum_sw)\n",
    "\n",
    "# 僅針對細項產業分類的預測正確數加總\n",
    "df_sum2_sw = df_sw_copy.groupby(['指數彙編分類'])[['DreamPredCorrect', 'LogitPredCorrect']].sum().reset_index()\n",
    "df_sum2_sw['diff'] = df_sum2_sw['DreamPredCorrect'] - df_sum2_sw['LogitPredCorrect']\n",
    "df_sum2_sw['diff_ratio'] = round(df_sum2_sw['diff'] / df_sum2_sw['LogitPredCorrect'], 1)\n",
    "print(df_sum2_sw)\n"
   ]
  },
  {
   "cell_type": "code",
   "execution_count": 46,
   "metadata": {},
   "outputs": [
    {
     "name": "stdout",
     "output_type": "stream",
     "text": [
      "3271\n",
      "1294\n",
      "1416\n",
      "0.6334745762711864\n",
      "0.6952002445735249\n",
      "0.5680061823802164\n"
     ]
    }
   ],
   "source": [
    "# 軟體產業的正確率?\n",
    "df_sum2_sw\n",
    "a = print(len(df_sw[df_sw['指數彙編分類'] == '軟體-系統整合']))\n",
    "b = print(len(df_sw[df_sw['指數彙編分類'] == '軟體-遊戲']))\n",
    "c = print(len(df_sw[df_sw['指數彙編分類'] == '軟體-其他']))\n",
    "\n",
    "#print(len(df_sw))\n",
    "print(897/1416)\n",
    "print(2274/3271) #系統整合的正確率最高(logit model)\n",
    "print(735/1294)\n"
   ]
  },
  {
   "cell_type": "code",
   "execution_count": 47,
   "metadata": {},
   "outputs": [
    {
     "name": "stdout",
     "output_type": "stream",
     "text": [
      "         ddate stockid  direction  predict_labels    指數彙編分類\n",
      "0       202310    1101          1             1.0     傳產-水泥\n",
      "1       202310    1102          1             1.0     傳產-水泥\n",
      "2       202310    1103          1             0.0     傳產-水泥\n",
      "3       202310    1104          1             1.0     傳產-水泥\n",
      "4       202310    1108          1             1.0     傳產-水泥\n",
      "...        ...     ...        ...             ...       ...\n",
      "201960  201401    9951          1             1.0  傳產-汽車零組件\n",
      "201961  201401    9955          0             1.0     傳產-其他\n",
      "201962  201401    9958          0             0.0     傳產-鋼鐵\n",
      "201963  201401    9960          0             1.0   傳產-高爾夫球\n",
      "201964  201401    9962          0             1.0     傳產-鋼鐵\n",
      "\n",
      "[201965 rows x 5 columns]\n"
     ]
    }
   ],
   "source": [
    "# Accuracy of each industy in the Logit Model\n",
    "DreamLogitMerge = pd.merge(df[['ddate', 'stockid', 'direction']].astype({'stockid': str}), logit_direction_class.astype({'stockid':str}), \n",
    "                     on=['ddate', 'stockid'], how='inner')\n",
    "print(DreamLogitMerge)"
   ]
  },
  {
   "cell_type": "markdown",
   "metadata": {},
   "source": [
    "## Logit Model 針對每個產業的預測正確率"
   ]
  },
  {
   "cell_type": "code",
   "execution_count": 48,
   "metadata": {},
   "outputs": [
    {
     "name": "stdout",
     "output_type": "stream",
     "text": [
      "Industry with highest accuracy: 農業生技\n",
      "Industry with lowest accuracy: 電子上游-IC-DRAM製造\n"
     ]
    }
   ],
   "source": [
    "# Accuracy of each industy in the Logit Model\n",
    "# direction = real_direction\n",
    "def claculate_accuracy(data):\n",
    "    correct_pred = data[data['predict_labels'] == data['direction']].shape[0] #.shape[0] = row of data\n",
    "    total_pred = len(data)\n",
    "    \n",
    "    return correct_pred / total_pred\n",
    "\n",
    "accuracy_industry = DreamLogitMerge.groupby('指數彙編分類').apply(claculate_accuracy)\n",
    "\n",
    "#print(accuracy_industry)\n",
    "\n",
    "# Find the industry with the highest accuracy\n",
    "hightest_accuracy_industry = accuracy_industry.idxmax()\n",
    "print('Industry with highest accuracy:', hightest_accuracy_industry)\n",
    "\n",
    "# Find the industry with the lowest accuracy\n",
    "lowest_accuracy_industry = accuracy_industry.idxmin()\n",
    "print('Industry with lowest accuracy:', lowest_accuracy_industry)"
   ]
  },
  {
   "cell_type": "code",
   "execution_count": 49,
   "metadata": {},
   "outputs": [
    {
     "name": "stdout",
     "output_type": "stream",
     "text": [
      "Top 5 industries:\n",
      " 指數彙編分類\n",
      "農業生技          0.858586\n",
      "傳產-汽車         0.754518\n",
      "電子下游-筆記型電腦    0.741055\n",
      "金融-保險         0.707022\n",
      "金融-銀行         0.701079\n",
      "dtype: float64\n",
      "Last 5 industries:\n",
      " 指數彙編分類\n",
      "電子上游-IC-DRAM製造    0.432203\n",
      "電子上游-IC-代工        0.532721\n",
      "電子上游-IC-封測        0.548600\n",
      "NFC               0.568421\n",
      "金融-證券             0.569966\n",
      "dtype: float64\n"
     ]
    }
   ],
   "source": [
    "# get the top 5 industries\n",
    "top5_industries = accuracy_industry.nlargest(5)\n",
    "print('Top 5 industries:\\n', top5_industries)\n",
    "\n",
    "# Get the last 5 industries\n",
    "last5_industries = accuracy_industry.nsmallest(5)\n",
    "print('Last 5 industries:\\n', last5_industries)\n"
   ]
  }
 ],
 "metadata": {
  "kernelspec": {
   "display_name": "Python 3",
   "language": "python",
   "name": "python3"
  },
  "language_info": {
   "codemirror_mode": {
    "name": "ipython",
    "version": 3
   },
   "file_extension": ".py",
   "mimetype": "text/x-python",
   "name": "python",
   "nbconvert_exporter": "python",
   "pygments_lexer": "ipython3",
   "version": "3.10.13"
  }
 },
 "nbformat": 4,
 "nbformat_minor": 2
}
