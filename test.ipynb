{
 "cells": [
  {
   "cell_type": "code",
   "execution_count": 19,
   "metadata": {},
   "outputs": [],
   "source": [
    "import pandas as pd"
   ]
  },
  {
   "cell_type": "code",
   "execution_count": 6,
   "metadata": {},
   "outputs": [],
   "source": [
    "# Importing Data\n",
    "from data import Dream_report, df\n",
    "\n",
    "# Import data logic model revenue prediction\n",
    "from main import overall_predicted_labels # 只有方向，要把ddate, stockid補上\n",
    "\n",
    "from DreamReport import logit_direction"
   ]
  },
  {
   "cell_type": "code",
   "execution_count": 40,
   "metadata": {},
   "outputs": [
    {
     "name": "stdout",
     "output_type": "stream",
     "text": [
      "         ddate stockid  direction\n",
      "0       202502    1101        0.0\n",
      "1       202502    1102        0.0\n",
      "2       202502    1103        1.0\n",
      "3       202502    1104        1.0\n",
      "4       202502    1108        1.0\n",
      "...        ...     ...        ...\n",
      "183241  201601    9951        1.0\n",
      "183242  201601    9955        0.0\n",
      "183243  201601    9958        0.0\n",
      "183244  201601    9960        0.0\n",
      "183245  201601    9962        0.0\n",
      "\n",
      "[183246 rows x 3 columns]\n"
     ]
    },
    {
     "data": {
      "text/plain": [
       "183246"
      ]
     },
     "execution_count": 40,
     "metadata": {},
     "output_type": "execute_result"
    }
   ],
   "source": [
    "#print(logit_direction) #predicted_labels\n",
    "print(Dream_report) #direction\n",
    "len(Dream_report)"
   ]
  },
  {
   "cell_type": "code",
   "execution_count": 51,
   "metadata": {},
   "outputs": [
    {
     "data": {
      "text/plain": [
       "0"
      ]
     },
     "execution_count": 51,
     "metadata": {},
     "output_type": "execute_result"
    }
   ],
   "source": [
    "#type(Dream_report['stockid'][0])\n",
    "logit_direction['stockid'] = logit_direction['stockid'].astype(str)\n",
    "#logit_direction.isna().any().sum()\n",
    "#type(logit_direction['stockid'][0])"
   ]
  },
  {
   "cell_type": "code",
   "execution_count": 56,
   "metadata": {},
   "outputs": [
    {
     "name": "stdout",
     "output_type": "stream",
     "text": [
      "         ddate stockid  predict_labels\n",
      "0       202310    1101             1.0\n",
      "1       202310    1102             1.0\n",
      "2       202310    1103             0.0\n",
      "3       202310    1104             1.0\n",
      "4       202310    1108             1.0\n",
      "...        ...     ...             ...\n",
      "201960  201401    9951             1.0\n",
      "201961  201401    9955             1.0\n",
      "201962  201401    9958             0.0\n",
      "201963  201401    9960             1.0\n",
      "201964  201401    9962             1.0\n",
      "\n",
      "[201965 rows x 3 columns]\n"
     ]
    }
   ],
   "source": [
    "logit_direction['predict_labels'] = logit_direction['predict_labels'].astype(float)\n",
    "print(logit_direction)"
   ]
  },
  {
   "cell_type": "code",
   "execution_count": 118,
   "metadata": {},
   "outputs": [
    {
     "name": "stdout",
     "output_type": "stream",
     "text": [
      "         ddate stockid  predict_labels  direction\n",
      "2       202310    1103             0.0        1.0\n",
      "8       202310    1203             1.0        0.0\n",
      "16      202310    1220             1.0        0.0\n",
      "22      202310    1233             0.0        1.0\n",
      "23      202310    1234             0.0        1.0\n",
      "...        ...     ...             ...        ...\n",
      "157314  201601    9949             1.0        0.0\n",
      "157315  201601    9950             1.0        0.0\n",
      "157316  201601    9951             0.0        1.0\n",
      "157317  201601    9955             1.0        0.0\n",
      "157320  201601    9962             1.0        0.0\n",
      "\n",
      "[54911 rows x 4 columns]\n"
     ]
    }
   ],
   "source": [
    "merged = pd.merge(logit_direction, Dream_report, on=['ddate', 'stockid'])\n",
    "# Filter rows where 'predcited_labels' are different #兩模型預測相反的結果\n",
    "result = merged[merged['predict_labels'] != merged['direction']]\n",
    "print(result)"
   ]
  },
  {
   "cell_type": "code",
   "execution_count": 120,
   "metadata": {},
   "outputs": [
    {
     "name": "stdout",
     "output_type": "stream",
     "text": [
      "        ddate stockid  predict_labels  direction\n",
      "45888  202108    1102             0.0        1.0\n",
      "45889  202108    1103             0.0        1.0\n",
      "45896  202108    1210             0.0        1.0\n",
      "45898  202108    1215             0.0        1.0\n",
      "45899  202108    1216             0.0        1.0\n",
      "...       ...     ...             ...        ...\n",
      "47618  202108    9945             0.0        1.0\n",
      "47620  202108    9949             1.0        0.0\n",
      "47624  202108    9958             0.0        1.0\n",
      "47625  202108    9960             0.0        1.0\n",
      "47626  202108    9962             1.0        0.0\n",
      "\n",
      "[813 rows x 4 columns]\n"
     ]
    }
   ],
   "source": [
    "print(result[result['ddate'] == 202108])"
   ]
  },
  {
   "cell_type": "code",
   "execution_count": 72,
   "metadata": {},
   "outputs": [
    {
     "name": "stdout",
     "output_type": "stream",
     "text": [
      "year\n",
      "2021    7824\n",
      "2020    7375\n",
      "2022    6848\n",
      "2016    6739\n",
      "2018    6678\n",
      "2017    6671\n",
      "2023    6412\n",
      "2019    6364\n",
      "Name: count, dtype: int64\n"
     ]
    },
    {
     "name": "stderr",
     "output_type": "stream",
     "text": [
      "C:\\Users\\user1\\AppData\\Local\\Temp\\ipykernel_25272\\891335564.py:1: SettingWithCopyWarning: \n",
      "A value is trying to be set on a copy of a slice from a DataFrame.\n",
      "Try using .loc[row_indexer,col_indexer] = value instead\n",
      "\n",
      "See the caveats in the documentation: https://pandas.pydata.org/pandas-docs/stable/user_guide/indexing.html#returning-a-view-versus-a-copy\n",
      "  result['year'] = result['ddate'].astype(str).str[:4]\n"
     ]
    }
   ],
   "source": [
    "result['year'] = result['ddate'].astype(str).str[:4]\n",
    "\n",
    "# Count the number of occurences for each year\n",
    "year_counts = result['year'].value_counts()\n",
    "\n",
    "print(year_counts)"
   ]
  },
  {
   "cell_type": "code",
   "execution_count": 82,
   "metadata": {},
   "outputs": [
    {
     "name": "stdout",
     "output_type": "stream",
     "text": [
      "month\n",
      "08    5492\n",
      "04    5146\n",
      "10    5122\n",
      "09    5114\n",
      "06    4980\n",
      "07    4927\n",
      "05    4913\n",
      "11    4376\n",
      "02    4144\n",
      "12    4119\n",
      "01    3774\n",
      "03    2804\n",
      "Name: count, dtype: int64\n"
     ]
    },
    {
     "name": "stderr",
     "output_type": "stream",
     "text": [
      "C:\\Users\\user1\\AppData\\Local\\Temp\\ipykernel_25272\\3621829736.py:1: SettingWithCopyWarning: \n",
      "A value is trying to be set on a copy of a slice from a DataFrame.\n",
      "Try using .loc[row_indexer,col_indexer] = value instead\n",
      "\n",
      "See the caveats in the documentation: https://pandas.pydata.org/pandas-docs/stable/user_guide/indexing.html#returning-a-view-versus-a-copy\n",
      "  result['month'] = result['ddate'].astype(str).str[4:6]\n"
     ]
    }
   ],
   "source": [
    "result['month'] = result['ddate'].astype(str).str[4:6]\n",
    "\n",
    "# Count the number of occurences for each month\n",
    "month_counts = result['month'].value_counts()\n",
    "\n",
    "print(month_counts)"
   ]
  },
  {
   "cell_type": "code",
   "execution_count": 84,
   "metadata": {},
   "outputs": [
    {
     "name": "stdout",
     "output_type": "stream",
     "text": [
      "ddate\n",
      "202303    455\n",
      "202003    420\n",
      "202203    400\n",
      "202103    393\n",
      "201703    368\n",
      "201603    288\n",
      "201803    257\n",
      "201903    223\n",
      "Name: count, dtype: int64\n"
     ]
    }
   ],
   "source": [
    "march_rows = result[result['month'] == '03']\n",
    "\n",
    "march_counts = march_rows['ddate'].value_counts()\n",
    "\n",
    "print(march_counts)"
   ]
  },
  {
   "cell_type": "code",
   "execution_count": 85,
   "metadata": {},
   "outputs": [
    {
     "name": "stdout",
     "output_type": "stream",
     "text": [
      "ddate\n",
      "202108    813\n",
      "202308    744\n",
      "201808    717\n",
      "201908    670\n",
      "202008    663\n",
      "201608    644\n",
      "202208    629\n",
      "201708    612\n",
      "Name: count, dtype: int64\n"
     ]
    }
   ],
   "source": [
    "aug_rows = result[result['month'] == '08']\n",
    "\n",
    "aug_counts = aug_rows['ddate'].value_counts()\n",
    "\n",
    "print(aug_counts)"
   ]
  },
  {
   "cell_type": "code",
   "execution_count": 80,
   "metadata": {},
   "outputs": [
    {
     "name": "stdout",
     "output_type": "stream",
     "text": [
      "ddate\n",
      "202108    813\n",
      "202110    763\n",
      "202304    749\n",
      "202011    748\n",
      "202310    746\n",
      "         ... \n",
      "202103    393\n",
      "201703    368\n",
      "201603    288\n",
      "201803    257\n",
      "201903    223\n",
      "Name: count, Length: 94, dtype: int64\n"
     ]
    }
   ],
   "source": [
    "date_counts = result['ddate'].value_counts()\n",
    "\n",
    "print(date_counts)"
   ]
  },
  {
   "cell_type": "code",
   "execution_count": 95,
   "metadata": {},
   "outputs": [
    {
     "name": "stdout",
     "output_type": "stream",
     "text": [
      "Y\n",
      "2022    21105\n",
      "2021    20820\n",
      "2020    20447\n",
      "2019    19993\n",
      "2018    19570\n",
      "2017    19109\n",
      "2016    18477\n",
      "2023    17800\n",
      "Name: count, dtype: int64\n",
      "M\n",
      "10    13507\n",
      "09    13480\n",
      "08    13452\n",
      "07    13420\n",
      "06    13378\n",
      "05    13353\n",
      "04    13328\n",
      "03    13318\n",
      "02    13297\n",
      "01    13288\n",
      "12    11769\n",
      "11    11731\n",
      "Name: count, dtype: int64\n"
     ]
    }
   ],
   "source": [
    "origin_counts = merged['ddate'].value_counts()\n",
    "#print(origin_counts)\n",
    "\n",
    "merged['Y'] = merged['ddate'].astype(str).str[:4]\n",
    "origin_Ycounts = merged['Y'].value_counts()\n",
    "print(origin_Ycounts)\n",
    "\n",
    "merged['M'] = merged['ddate'].astype(str).str[4:6]\n",
    "origin_Mcounts = merged['M'].value_counts()\n",
    "print(origin_Mcounts) "
   ]
  },
  {
   "cell_type": "code",
   "execution_count": 108,
   "metadata": {},
   "outputs": [
    {
     "data": {
      "text/plain": [
       "01    28.401565\n",
       "02    31.164924\n",
       "03    21.054212\n",
       "04    38.610444\n",
       "05    36.793230\n",
       "06    37.225295\n",
       "07    36.713860\n",
       "08    40.826643\n",
       "09    37.937685\n",
       "10    37.921078\n",
       "11    37.302873\n",
       "12    34.998725\n",
       "Name: count, dtype: float64"
      ]
     },
     "execution_count": 108,
     "metadata": {},
     "output_type": "execute_result"
    }
   ],
   "source": [
    "type(month_counts)\n",
    "type(origin_Mcounts)\n",
    "month_counts/origin_Mcounts*100"
   ]
  },
  {
   "cell_type": "code",
   "execution_count": 117,
   "metadata": {},
   "outputs": [
    {
     "name": "stdout",
     "output_type": "stream",
     "text": [
      "202108\n",
      "201903\n"
     ]
    }
   ],
   "source": [
    "year_counts/origin_Ycounts*100\n",
    "max_date = (date_counts/origin_counts*100).idxmax()\n",
    "min_date = (date_counts/origin_counts*100).idxmin()\n",
    "\n",
    "print(max_date)\n",
    "print(min_date)"
   ]
  }
 ],
 "metadata": {
  "kernelspec": {
   "display_name": "Python 3",
   "language": "python",
   "name": "python3"
  },
  "language_info": {
   "codemirror_mode": {
    "name": "ipython",
    "version": 3
   },
   "file_extension": ".py",
   "mimetype": "text/x-python",
   "name": "python",
   "nbconvert_exporter": "python",
   "pygments_lexer": "ipython3",
   "version": "3.10.13"
  }
 },
 "nbformat": 4,
 "nbformat_minor": 2
}
