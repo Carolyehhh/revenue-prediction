{
 "cells": [
  {
   "cell_type": "code",
   "execution_count": 2,
   "metadata": {},
   "outputs": [],
   "source": [
    "import pandas as pd"
   ]
  },
  {
   "cell_type": "code",
   "execution_count": 3,
   "metadata": {},
   "outputs": [
    {
     "name": "stderr",
     "output_type": "stream",
     "text": [
      "c:\\Users\\user1\\Desktop\\repo2\\revenue-prediction\\data.py:48: UserWarning: pandas only supports SQLAlchemy connectable (engine/connection) or database string URI or sqlite3 DBAPI2 connection. Other DBAPI2 objects are not tested. Please consider using SQLAlchemy.\n",
      "  Dream_report = pd.read_sql(qr_sub, conn)\n",
      "c:\\Users\\user1\\Desktop\\repo2\\revenue-prediction\\data.py:72: UserWarning: pandas only supports SQLAlchemy connectable (engine/connection) or database string URI or sqlite3 DBAPI2 connection. Other DBAPI2 objects are not tested. Please consider using SQLAlchemy.\n",
      "  stock_info = pd.read_sql(stock_qr_sub, conn)\n",
      "c:\\Users\\user1\\anaconda3\\envs\\rev_pred_env\\lib\\site-packages\\sklearn\\utils\\validation.py:1184: DataConversionWarning: A column-vector y was passed when a 1d array was expected. Please change the shape of y to (n_samples, ), for example using ravel().\n",
      "  y = column_or_1d(y, warn=True)\n",
      "c:\\Users\\user1\\anaconda3\\envs\\rev_pred_env\\lib\\site-packages\\sklearn\\linear_model\\_logistic.py:460: ConvergenceWarning: lbfgs failed to converge (status=1):\n",
      "STOP: TOTAL NO. of ITERATIONS REACHED LIMIT.\n",
      "\n",
      "Increase the number of iterations (max_iter) or scale the data as shown in:\n",
      "    https://scikit-learn.org/stable/modules/preprocessing.html\n",
      "Please also refer to the documentation for alternative solver options:\n",
      "    https://scikit-learn.org/stable/modules/linear_model.html#logistic-regression\n",
      "  n_iter_i = _check_optimize_result(\n"
     ]
    }
   ],
   "source": [
    "# Importing Data\n",
    "from data import Dream_report, df , stock_info\n",
    "# Import data logic model revenue prediction\n",
    "from main import overall_predicted_labels # 只有方向，要把ddate, stockid補上\n",
    "from DreamReport import logit_direction"
   ]
  },
  {
   "cell_type": "code",
   "execution_count": 4,
   "metadata": {},
   "outputs": [],
   "source": [
    "#type(Dream_report['stockid'][0])\n",
    "logit_direction['stockid'] = logit_direction['stockid'].astype(str)\n",
    "logit_direction['predict_labels'] = logit_direction['predict_labels'].astype(float)\n",
    "#print(logit_direction)"
   ]
  },
  {
   "cell_type": "code",
   "execution_count": 5,
   "metadata": {},
   "outputs": [],
   "source": [
    "merged = pd.merge(logit_direction, Dream_report, on=['ddate', 'stockid'])\n",
    "# Filter rows where 'predcited_labels' are different #兩模型預測相反的結果\n",
    "result = merged[merged['predict_labels'] != merged['direction']]\n",
    "#print(result)"
   ]
  },
  {
   "cell_type": "code",
   "execution_count": 6,
   "metadata": {},
   "outputs": [
    {
     "name": "stdout",
     "output_type": "stream",
     "text": [
      "        ddate stockid  predict_labels  direction\n",
      "45886  202108    1102             0.0        1.0\n",
      "45887  202108    1103             0.0        1.0\n",
      "45894  202108    1210             0.0        1.0\n",
      "45896  202108    1215             0.0        1.0\n",
      "45897  202108    1216             0.0        1.0\n",
      "...       ...     ...             ...        ...\n",
      "47615  202108    9945             0.0        1.0\n",
      "47617  202108    9949             1.0        0.0\n",
      "47621  202108    9958             0.0        1.0\n",
      "47622  202108    9960             0.0        1.0\n",
      "47623  202108    9962             1.0        0.0\n",
      "\n",
      "[813 rows x 4 columns]\n"
     ]
    }
   ],
   "source": [
    "print(result[result['ddate'] == 202108])"
   ]
  },
  {
   "cell_type": "code",
   "execution_count": 7,
   "metadata": {},
   "outputs": [
    {
     "name": "stdout",
     "output_type": "stream",
     "text": [
      "year\n",
      "2021    7832\n",
      "2020    7410\n",
      "2022    6859\n",
      "2017    6714\n",
      "2018    6709\n",
      "2016    6706\n",
      "2023    6429\n",
      "2019    6410\n",
      "Name: count, dtype: int64\n"
     ]
    },
    {
     "name": "stderr",
     "output_type": "stream",
     "text": [
      "C:\\Users\\user1\\AppData\\Local\\Temp\\ipykernel_9852\\891335564.py:1: SettingWithCopyWarning: \n",
      "A value is trying to be set on a copy of a slice from a DataFrame.\n",
      "Try using .loc[row_indexer,col_indexer] = value instead\n",
      "\n",
      "See the caveats in the documentation: https://pandas.pydata.org/pandas-docs/stable/user_guide/indexing.html#returning-a-view-versus-a-copy\n",
      "  result['year'] = result['ddate'].astype(str).str[:4]\n"
     ]
    }
   ],
   "source": [
    "result['year'] = result['ddate'].astype(str).str[:4]\n",
    "\n",
    "# Count the number of occurences for each year\n",
    "year_counts = result['year'].value_counts()\n",
    "\n",
    "print(year_counts)"
   ]
  },
  {
   "cell_type": "code",
   "execution_count": 8,
   "metadata": {},
   "outputs": [
    {
     "name": "stdout",
     "output_type": "stream",
     "text": [
      "month\n",
      "08    5511\n",
      "04    5152\n",
      "10    5130\n",
      "09    5130\n",
      "06    4996\n",
      "07    4938\n",
      "05    4923\n",
      "11    4381\n",
      "02    4156\n",
      "12    4138\n",
      "01    3788\n",
      "03    2826\n",
      "Name: count, dtype: int64\n"
     ]
    },
    {
     "name": "stderr",
     "output_type": "stream",
     "text": [
      "C:\\Users\\user1\\AppData\\Local\\Temp\\ipykernel_9852\\3621829736.py:1: SettingWithCopyWarning: \n",
      "A value is trying to be set on a copy of a slice from a DataFrame.\n",
      "Try using .loc[row_indexer,col_indexer] = value instead\n",
      "\n",
      "See the caveats in the documentation: https://pandas.pydata.org/pandas-docs/stable/user_guide/indexing.html#returning-a-view-versus-a-copy\n",
      "  result['month'] = result['ddate'].astype(str).str[4:6]\n"
     ]
    }
   ],
   "source": [
    "result['month'] = result['ddate'].astype(str).str[4:6]\n",
    "\n",
    "# Count the number of occurences for each month\n",
    "month_counts = result['month'].value_counts()\n",
    "\n",
    "print(month_counts)"
   ]
  },
  {
   "cell_type": "code",
   "execution_count": 9,
   "metadata": {},
   "outputs": [
    {
     "name": "stdout",
     "output_type": "stream",
     "text": [
      "ddate\n",
      "202303    460\n",
      "202003    426\n",
      "202203    401\n",
      "202103    396\n",
      "201703    370\n",
      "201603    287\n",
      "201803    260\n",
      "201903    226\n",
      "Name: count, dtype: int64\n"
     ]
    }
   ],
   "source": [
    "march_rows = result[result['month'] == '03']\n",
    "\n",
    "march_counts = march_rows['ddate'].value_counts()\n",
    "\n",
    "print(march_counts)"
   ]
  },
  {
   "cell_type": "code",
   "execution_count": 10,
   "metadata": {},
   "outputs": [
    {
     "name": "stdout",
     "output_type": "stream",
     "text": [
      "ddate\n",
      "202108    813\n",
      "202308    748\n",
      "201808    721\n",
      "201908    675\n",
      "202008    666\n",
      "201608    639\n",
      "202208    631\n",
      "201708    618\n",
      "Name: count, dtype: int64\n"
     ]
    }
   ],
   "source": [
    "aug_rows = result[result['month'] == '08']\n",
    "\n",
    "aug_counts = aug_rows['ddate'].value_counts()\n",
    "\n",
    "print(aug_counts)"
   ]
  },
  {
   "cell_type": "code",
   "execution_count": 11,
   "metadata": {},
   "outputs": [
    {
     "name": "stdout",
     "output_type": "stream",
     "text": [
      "ddate\n",
      "202108    813\n",
      "202110    763\n",
      "202304    753\n",
      "202011    751\n",
      "202308    748\n",
      "         ... \n",
      "202103    396\n",
      "201703    370\n",
      "201603    287\n",
      "201803    260\n",
      "201903    226\n",
      "Name: count, Length: 94, dtype: int64\n"
     ]
    }
   ],
   "source": [
    "date_counts = result['ddate'].value_counts()\n",
    "\n",
    "print(date_counts)"
   ]
  },
  {
   "cell_type": "code",
   "execution_count": 12,
   "metadata": {},
   "outputs": [
    {
     "name": "stdout",
     "output_type": "stream",
     "text": [
      "Y\n",
      "2022    21105\n",
      "2021    20816\n",
      "2020    20446\n",
      "2019    19990\n",
      "2018    19566\n",
      "2017    19080\n",
      "2016    18364\n",
      "2023    17799\n",
      "Name: count, dtype: int64\n",
      "M\n",
      "10    13492\n",
      "09    13466\n",
      "08    13440\n",
      "07    13406\n",
      "06    13363\n",
      "05    13336\n",
      "04    13313\n",
      "03    13305\n",
      "02    13283\n",
      "01    13276\n",
      "12    11766\n",
      "11    11720\n",
      "Name: count, dtype: int64\n"
     ]
    }
   ],
   "source": [
    "origin_counts = merged['ddate'].value_counts()\n",
    "#print(origin_counts)\n",
    "\n",
    "merged['Y'] = merged['ddate'].astype(str).str[:4]\n",
    "origin_Ycounts = merged['Y'].value_counts()\n",
    "print(origin_Ycounts)\n",
    "\n",
    "merged['M'] = merged['ddate'].astype(str).str[4:6]\n",
    "origin_Mcounts = merged['M'].value_counts()\n",
    "print(origin_Mcounts) "
   ]
  },
  {
   "cell_type": "code",
   "execution_count": 13,
   "metadata": {},
   "outputs": [
    {
     "data": {
      "text/plain": [
       "01    28.532691\n",
       "02    31.288113\n",
       "03    21.240135\n",
       "04    38.699016\n",
       "05    36.915117\n",
       "06    37.386814\n",
       "07    36.834253\n",
       "08    41.004464\n",
       "09    38.095945\n",
       "10    38.022532\n",
       "11    37.380546\n",
       "12    35.169131\n",
       "Name: count, dtype: float64"
      ]
     },
     "execution_count": 13,
     "metadata": {},
     "output_type": "execute_result"
    }
   ],
   "source": [
    "# \"每個月\"兩模型預測相反的個股數 / 兩模型預測的總個股數\n",
    "month_counts/origin_Mcounts*100"
   ]
  },
  {
   "cell_type": "code",
   "execution_count": 14,
   "metadata": {},
   "outputs": [
    {
     "name": "stdout",
     "output_type": "stream",
     "text": [
      "2016    36.517099\n",
      "2017    35.188679\n",
      "2018    34.289073\n",
      "2019    32.066033\n",
      "2020    36.241808\n",
      "2021    37.624904\n",
      "2022    32.499408\n",
      "2023    36.120007\n",
      "Name: count, dtype: float64\n",
      "202108\n",
      "201903\n"
     ]
    }
   ],
   "source": [
    "# \"每年\"兩模型預測相反的個股數 / 兩模型預測的總個股數\n",
    "print(year_counts/origin_Ycounts*100)\n",
    "max_date = (date_counts/origin_counts*100).idxmax()\n",
    "min_date = (date_counts/origin_counts*100).idxmin()\n",
    "\n",
    "# 預測相反比例最大、最小的日期\n",
    "print(max_date)\n",
    "print(min_date)"
   ]
  },
  {
   "cell_type": "code",
   "execution_count": 15,
   "metadata": {},
   "outputs": [],
   "source": [
    "stock_info.rename(columns={'股票代號':'stockid', '指數彙編分類代號':'classi_code'}, inplace=True)\n",
    "# 刪除重複個股資訊\n",
    "stock_info_dedup = stock_info.drop_duplicates(subset='stockid')\n",
    "# 將個股資訊加至result df\n",
    "pred_merge_code = result.merge(stock_info_dedup, on='stockid', how='left')"
   ]
  },
  {
   "cell_type": "code",
   "execution_count": 16,
   "metadata": {},
   "outputs": [
    {
     "name": "stdout",
     "output_type": "stream",
     "text": [
      "        ddate stockid  predict_labels  direction  year month 中文簡稱 上市上櫃  \\\n",
      "16202  202108    1102             0.0        1.0  2021    08   亞泥    1   \n",
      "16203  202108    1103             0.0        1.0  2021    08   嘉泥    1   \n",
      "16204  202108    1210             0.0        1.0  2021    08   大成    1   \n",
      "16205  202108    1215             0.0        1.0  2021    08   卜蜂    1   \n",
      "16206  202108    1216             0.0        1.0  2021    08   統一    1   \n",
      "...       ...     ...             ...        ...   ...   ...  ...  ...   \n",
      "17010  202108    9945             0.0        1.0  2021    08  潤泰新    1   \n",
      "17011  202108    9949             1.0        0.0  2021    08   琉園    2   \n",
      "17012  202108    9958             0.0        1.0  2021    08  世紀鋼    1   \n",
      "17013  202108    9960             0.0        1.0  2021    08  邁達康    2   \n",
      "17014  202108    9962             1.0        0.0  2021    08   有益    2   \n",
      "\n",
      "      classi_code   指數彙編分類  \n",
      "16202      C11010    傳產-水泥  \n",
      "16203      C11010    傳產-水泥  \n",
      "16204      C12010    傳產-食品  \n",
      "16205      C12010    傳產-食品  \n",
      "16206      C12010    傳產-食品  \n",
      "...           ...      ...  \n",
      "17010      C29020    傳產-其他  \n",
      "17011      C29020    傳產-其他  \n",
      "17012      C20010    傳產-鋼鐵  \n",
      "17013      C30010  傳產-高爾夫球  \n",
      "17014      C20010    傳產-鋼鐵  \n",
      "\n",
      "[813 rows x 10 columns]\n"
     ]
    }
   ],
   "source": [
    "print(pred_merge_code[pred_merge_code['ddate']==202108])"
   ]
  },
  {
   "cell_type": "code",
   "execution_count": 17,
   "metadata": {},
   "outputs": [
    {
     "name": "stdout",
     "output_type": "stream",
     "text": [
      "   classi_code          指數彙編分類  counts\n",
      "7       C17020           傳產-生技    4347\n",
      "67      C29020           傳產-其他    3932\n",
      "14      C23010      電子上游-IC-設計    3101\n",
      "59      C25010           傳產-營建    2719\n",
      "4       C15010           傳產-電機    2039\n",
      "..         ...             ...     ...\n",
      "68      C29030          傳產-自行車     152\n",
      "53      C23410       電子下游-手機製造     105\n",
      "12      C22010           傳產-汽車     103\n",
      "45      C23320       電子下游-電信服務      86\n",
      "16      C23030  電子上游-IC-DRAM製造      49\n",
      "\n",
      "[70 rows x 3 columns]\n"
     ]
    }
   ],
   "source": [
    "# 計算各種產業兩個模型判斷相反的次數，並降序排列\n",
    "count_classi = pred_merge_code.groupby(['classi_code', '指數彙編分類']).size().reset_index(name='counts').sort_values(by='counts', ascending=False)\n",
    "print(count_classi)"
   ]
  },
  {
   "cell_type": "code",
   "execution_count": 18,
   "metadata": {},
   "outputs": [
    {
     "name": "stdout",
     "output_type": "stream",
     "text": [
      "    classi_code          指數彙編分類  year  counts\n",
      "63       C17020           傳產-生技  2023     506\n",
      "543      C29020           傳產-其他  2023     485\n",
      "119      C23010      電子上游-IC-設計  2023     388\n",
      "479      C25010           傳產-營建  2023     295\n",
      "39       C15010           傳產-電機  2023     238\n",
      "..          ...             ...   ...     ...\n",
      "431      C23410       電子下游-手機製造  2023      15\n",
      "559      C30010         傳產-高爾夫球  2023      13\n",
      "343      C23290       電子下游-數位相機  2023       9\n",
      "367      C23320       電子下游-電信服務  2023       9\n",
      "135      C23030  電子上游-IC-DRAM製造  2023       6\n",
      "\n",
      "[70 rows x 4 columns]\n",
      "    classi_code          指數彙編分類  year  counts\n",
      "62       C17020           傳產-生技  2022     602\n",
      "542      C29020           傳產-其他  2022     536\n",
      "478      C25010           傳產-營建  2022     339\n",
      "118      C23010      電子上游-IC-設計  2022     336\n",
      "38       C15010           傳產-電機  2022     238\n",
      "..          ...             ...   ...     ...\n",
      "390      C23360        電子下游-掃描器  2022      14\n",
      "430      C23410       電子下游-手機製造  2022      13\n",
      "70       C18010         傳產-玻璃陶瓷  2022      10\n",
      "366      C23320       電子下游-電信服務  2022      10\n",
      "134      C23030  電子上游-IC-DRAM製造  2022       2\n",
      "\n",
      "[70 rows x 4 columns]\n"
     ]
    }
   ],
   "source": [
    "count_classi_y = pred_merge_code.groupby(['classi_code', '指數彙編分類', 'year']).size().reset_index(name='counts').sort_values(by=['year','counts'], ascending=False)\n",
    "print(count_classi_y[count_classi_y['year']=='2023'])\n",
    "\n",
    "print(count_classi_y[count_classi_y['year']=='2022'])"
   ]
  },
  {
   "cell_type": "code",
   "execution_count": 19,
   "metadata": {},
   "outputs": [],
   "source": [
    "# 將 merged(兩模型都有預測的個股)加上股票產業彙編碼\n",
    "merged_merge_code = merged.merge(stock_info_dedup, on='stockid', how='left')\n",
    "#print(merged_merge_code)"
   ]
  },
  {
   "cell_type": "code",
   "execution_count": 20,
   "metadata": {},
   "outputs": [
    {
     "name": "stdout",
     "output_type": "stream",
     "text": [
      "   classi_code          指數彙編分類  counts\n",
      "7       C17020           傳產-生技   11502\n",
      "67      C29020           傳產-其他   11068\n",
      "14      C23010      電子上游-IC-設計    8069\n",
      "59      C25010           傳產-營建    7488\n",
      "4       C15010           傳產-電機    6479\n",
      "..         ...             ...     ...\n",
      "8       C18010         傳產-玻璃陶瓷     470\n",
      "42      C23290       電子下游-數位相機     376\n",
      "53      C23410       電子下游-手機製造     285\n",
      "45      C23320       電子下游-電信服務     282\n",
      "16      C23030  電子上游-IC-DRAM製造      94\n",
      "\n",
      "[70 rows x 3 columns]\n"
     ]
    }
   ],
   "source": [
    "# 計算各產業數量(全，非僅包含預測相反者)\n",
    "merge_count = merged_merge_code.groupby(['classi_code', '指數彙編分類']).size().reset_index(name='counts').sort_values(by=['counts'], ascending=False)\n",
    "print(merge_count)"
   ]
  },
  {
   "cell_type": "code",
   "execution_count": 21,
   "metadata": {},
   "outputs": [
    {
     "name": "stdout",
     "output_type": "stream",
     "text": [
      "   classi_code          指數彙編分類      ratio\n",
      "69      C23030  電子上游-IC-DRAM製造  52.127660\n",
      "42      C23050      電子上游-IC-製造  45.042840\n",
      "48      C23020      電子上游-IC-代工  42.731278\n",
      "50      C23300        電子下游-光碟片  42.401216\n",
      "28      C23450           軟體-其他  42.161017\n",
      "..         ...             ...        ...\n",
      "21      C23430         軟體-系統整合  28.645674\n",
      "41      C28010           金融-金控  27.963526\n",
      "34      C23330       電子下游-工業電腦  27.016575\n",
      "60      C23380      電子下游-筆記型電腦  22.813239\n",
      "67      C22010           傳產-汽車  19.769674\n",
      "\n",
      "[70 rows x 3 columns]\n"
     ]
    }
   ],
   "source": [
    "# 兩模型在各產業預測相反的比例 = 各產業不分時間預測相反總數量/兩模型都有預測的數量\n",
    "\n",
    "# merge the df on 'classi_code'\n",
    "ratio_merge = pd.merge(count_classi, merge_count, on=['classi_code', '指數彙編分類'], suffixes=('_c', '_m'))\n",
    "\n",
    "# Calvulate the ratio and create new column\n",
    "ratio_merge['ratio'] = ratio_merge['counts_c'] / ratio_merge['counts_m'] *100\n",
    "\n",
    "# 依照占比降續排列\n",
    "ratio_merge = ratio_merge.sort_values('ratio', ascending=False)\n",
    "\n",
    "print(ratio_merge[['classi_code','指數彙編分類', 'ratio']])"
   ]
  },
  {
   "cell_type": "code",
   "execution_count": 33,
   "metadata": {},
   "outputs": [
    {
     "data": {
      "text/html": [
       "<div>\n",
       "<style scoped>\n",
       "    .dataframe tbody tr th:only-of-type {\n",
       "        vertical-align: middle;\n",
       "    }\n",
       "\n",
       "    .dataframe tbody tr th {\n",
       "        vertical-align: top;\n",
       "    }\n",
       "\n",
       "    .dataframe thead th {\n",
       "        text-align: right;\n",
       "    }\n",
       "</style>\n",
       "<table border=\"1\" class=\"dataframe\">\n",
       "  <thead>\n",
       "    <tr style=\"text-align: right;\">\n",
       "      <th></th>\n",
       "      <th>stockid</th>\n",
       "      <th>中文簡稱</th>\n",
       "      <th>上市上櫃</th>\n",
       "      <th>classi_code</th>\n",
       "      <th>指數彙編分類</th>\n",
       "    </tr>\n",
       "  </thead>\n",
       "  <tbody>\n",
       "    <tr>\n",
       "      <th>139</th>\n",
       "      <td>1569</td>\n",
       "      <td>濱川</td>\n",
       "      <td>2</td>\n",
       "      <td>C23070</td>\n",
       "      <td>電子上游-IC-通路</td>\n",
       "    </tr>\n",
       "    <tr>\n",
       "      <th>142</th>\n",
       "      <td>1582</td>\n",
       "      <td>信錦</td>\n",
       "      <td>1</td>\n",
       "      <td>C23110</td>\n",
       "      <td>電子上游-連接元件</td>\n",
       "    </tr>\n",
       "    <tr>\n",
       "      <th>151</th>\n",
       "      <td>1595</td>\n",
       "      <td>川寶</td>\n",
       "      <td>2</td>\n",
       "      <td>C23130</td>\n",
       "      <td>電子上游-PCB-材料設備</td>\n",
       "    </tr>\n",
       "    <tr>\n",
       "      <th>219</th>\n",
       "      <td>1815</td>\n",
       "      <td>富喬</td>\n",
       "      <td>2</td>\n",
       "      <td>C23130</td>\n",
       "      <td>電子上游-PCB-材料設備</td>\n",
       "    </tr>\n",
       "    <tr>\n",
       "      <th>295</th>\n",
       "      <td>2254</td>\n",
       "      <td>巨鎧精密-創</td>\n",
       "      <td>7</td>\n",
       "      <td>C23100</td>\n",
       "      <td>電子上游-LED及光元件</td>\n",
       "    </tr>\n",
       "    <tr>\n",
       "      <th>...</th>\n",
       "      <td>...</td>\n",
       "      <td>...</td>\n",
       "      <td>...</td>\n",
       "      <td>...</td>\n",
       "      <td>...</td>\n",
       "    </tr>\n",
       "    <tr>\n",
       "      <th>5121</th>\n",
       "      <td>6594</td>\n",
       "      <td>展匯科</td>\n",
       "      <td>2</td>\n",
       "      <td>C23010</td>\n",
       "      <td>電子上游-IC-設計</td>\n",
       "    </tr>\n",
       "    <tr>\n",
       "      <th>6170</th>\n",
       "      <td>3383</td>\n",
       "      <td>新世紀</td>\n",
       "      <td>1</td>\n",
       "      <td>C23100</td>\n",
       "      <td>電子上游-LED及光元件</td>\n",
       "    </tr>\n",
       "    <tr>\n",
       "      <th>6788</th>\n",
       "      <td>6251</td>\n",
       "      <td>定穎</td>\n",
       "      <td>1</td>\n",
       "      <td>C23120</td>\n",
       "      <td>電子上游-PCB-製造</td>\n",
       "    </tr>\n",
       "    <tr>\n",
       "      <th>6812</th>\n",
       "      <td>6289</td>\n",
       "      <td>華上</td>\n",
       "      <td>1</td>\n",
       "      <td>C23100</td>\n",
       "      <td>電子上游-LED及光元件</td>\n",
       "    </tr>\n",
       "    <tr>\n",
       "      <th>16655</th>\n",
       "      <td>4703</td>\n",
       "      <td>揚華</td>\n",
       "      <td>2</td>\n",
       "      <td>C23100</td>\n",
       "      <td>電子上游-LED及光元件</td>\n",
       "    </tr>\n",
       "  </tbody>\n",
       "</table>\n",
       "<p>404 rows × 5 columns</p>\n",
       "</div>"
      ],
      "text/plain": [
       "      stockid    中文簡稱 上市上櫃 classi_code         指數彙編分類\n",
       "139      1569      濱川    2      C23070     電子上游-IC-通路\n",
       "142      1582      信錦    1      C23110      電子上游-連接元件\n",
       "151      1595      川寶    2      C23130  電子上游-PCB-材料設備\n",
       "219      1815      富喬    2      C23130  電子上游-PCB-材料設備\n",
       "295      2254  巨鎧精密-創    7      C23100   電子上游-LED及光元件\n",
       "...       ...     ...  ...         ...            ...\n",
       "5121     6594     展匯科    2      C23010     電子上游-IC-設計\n",
       "6170     3383     新世紀    1      C23100   電子上游-LED及光元件\n",
       "6788     6251      定穎    1      C23120    電子上游-PCB-製造\n",
       "6812     6289      華上    1      C23100   電子上游-LED及光元件\n",
       "16655    4703      揚華    2      C23100   電子上游-LED及光元件\n",
       "\n",
       "[404 rows x 5 columns]"
      ]
     },
     "execution_count": 33,
     "metadata": {},
     "output_type": "execute_result"
    }
   ],
   "source": [
    "# 針對電子上游產業觀察兩模型預測1和0的數量\n",
    "stock_df = stock_info_dedup.dropna()\n",
    "stock_df[stock_df['指數彙編分類'].str.contains('電子上游')]"
   ]
  },
  {
   "cell_type": "code",
   "execution_count": null,
   "metadata": {},
   "outputs": [],
   "source": []
  }
 ],
 "metadata": {
  "kernelspec": {
   "display_name": "Python 3",
   "language": "python",
   "name": "python3"
  },
  "language_info": {
   "codemirror_mode": {
    "name": "ipython",
    "version": 3
   },
   "file_extension": ".py",
   "mimetype": "text/x-python",
   "name": "python",
   "nbconvert_exporter": "python",
   "pygments_lexer": "ipython3",
   "version": "3.10.13"
  }
 },
 "nbformat": 4,
 "nbformat_minor": 2
}
