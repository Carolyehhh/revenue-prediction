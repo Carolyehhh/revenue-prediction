{
 "cells": [
  {
   "cell_type": "code",
   "execution_count": 4,
   "metadata": {},
   "outputs": [],
   "source": [
    "import pandas as pd\n",
    "import numpy as np"
   ]
  },
  {
   "cell_type": "code",
   "execution_count": 5,
   "metadata": {},
   "outputs": [
    {
     "name": "stderr",
     "output_type": "stream",
     "text": [
      "c:\\Users\\user1\\Desktop\\repo2\\revenue-prediction\\data.py:48: UserWarning: pandas only supports SQLAlchemy connectable (engine/connection) or database string URI or sqlite3 DBAPI2 connection. Other DBAPI2 objects are not tested. Please consider using SQLAlchemy.\n",
      "  Dream_report = pd.read_sql(qr_sub, conn)\n",
      "c:\\Users\\user1\\Desktop\\repo2\\revenue-prediction\\data.py:72: UserWarning: pandas only supports SQLAlchemy connectable (engine/connection) or database string URI or sqlite3 DBAPI2 connection. Other DBAPI2 objects are not tested. Please consider using SQLAlchemy.\n",
      "  stock_info = pd.read_sql(stock_qr_sub, conn)\n",
      "c:\\Users\\user1\\anaconda3\\envs\\rev_pred_env\\lib\\site-packages\\sklearn\\utils\\validation.py:1184: DataConversionWarning: A column-vector y was passed when a 1d array was expected. Please change the shape of y to (n_samples, ), for example using ravel().\n",
      "  y = column_or_1d(y, warn=True)\n",
      "c:\\Users\\user1\\anaconda3\\envs\\rev_pred_env\\lib\\site-packages\\sklearn\\linear_model\\_logistic.py:460: ConvergenceWarning: lbfgs failed to converge (status=1):\n",
      "STOP: TOTAL NO. of ITERATIONS REACHED LIMIT.\n",
      "\n",
      "Increase the number of iterations (max_iter) or scale the data as shown in:\n",
      "    https://scikit-learn.org/stable/modules/preprocessing.html\n",
      "Please also refer to the documentation for alternative solver options:\n",
      "    https://scikit-learn.org/stable/modules/linear_model.html#logistic-regression\n",
      "  n_iter_i = _check_optimize_result(\n"
     ]
    }
   ],
   "source": [
    "# Importing Data\n",
    "from data import Dream_report, df , stock_info\n",
    "# Import data logic model revenue prediction\n",
    "#from main import overall_predicted_labels # 只有方向，要把ddate, stockid補上\n",
    "from DreamReport import logit_direction"
   ]
  },
  {
   "cell_type": "code",
   "execution_count": 6,
   "metadata": {},
   "outputs": [],
   "source": [
    "from module1 import compare_predictions"
   ]
  },
  {
   "cell_type": "code",
   "execution_count": 7,
   "metadata": {},
   "outputs": [],
   "source": [
    "#type(Dream_report['stockid'][0])\n",
    "logit_direction['stockid'] = logit_direction['stockid'].astype(str)\n",
    "logit_direction['predict_labels'] = logit_direction['predict_labels'].astype(float)\n",
    "#print(logit_direction)"
   ]
  },
  {
   "cell_type": "code",
   "execution_count": 8,
   "metadata": {},
   "outputs": [],
   "source": [
    "merged = pd.merge(logit_direction, Dream_report, on=['ddate', 'stockid'])\n",
    "# Filter rows where 'predcited_labels' are different #兩模型預測相反的結果\n",
    "result = merged[merged['predict_labels'] != merged['direction']]\n",
    "#print(result)"
   ]
  },
  {
   "cell_type": "code",
   "execution_count": 9,
   "metadata": {},
   "outputs": [
    {
     "name": "stdout",
     "output_type": "stream",
     "text": [
      "        ddate stockid  predict_labels  direction\n",
      "45886  202108    1102             0.0        1.0\n",
      "45887  202108    1103             0.0        1.0\n",
      "45894  202108    1210             0.0        1.0\n",
      "45896  202108    1215             0.0        1.0\n",
      "45897  202108    1216             0.0        1.0\n",
      "...       ...     ...             ...        ...\n",
      "47615  202108    9945             0.0        1.0\n",
      "47617  202108    9949             1.0        0.0\n",
      "47621  202108    9958             0.0        1.0\n",
      "47622  202108    9960             0.0        1.0\n",
      "47623  202108    9962             1.0        0.0\n",
      "\n",
      "[813 rows x 4 columns]\n"
     ]
    }
   ],
   "source": [
    "print(result[result['ddate'] == 202108])"
   ]
  },
  {
   "cell_type": "code",
   "execution_count": 10,
   "metadata": {},
   "outputs": [
    {
     "name": "stdout",
     "output_type": "stream",
     "text": [
      "year\n",
      "2021    7832\n",
      "2020    7410\n",
      "2022    6859\n",
      "2017    6714\n",
      "2018    6709\n",
      "2016    6706\n",
      "2023    6429\n",
      "2019    6410\n",
      "Name: count, dtype: int64\n"
     ]
    },
    {
     "name": "stderr",
     "output_type": "stream",
     "text": [
      "C:\\Users\\user1\\AppData\\Local\\Temp\\ipykernel_17128\\891335564.py:1: SettingWithCopyWarning: \n",
      "A value is trying to be set on a copy of a slice from a DataFrame.\n",
      "Try using .loc[row_indexer,col_indexer] = value instead\n",
      "\n",
      "See the caveats in the documentation: https://pandas.pydata.org/pandas-docs/stable/user_guide/indexing.html#returning-a-view-versus-a-copy\n",
      "  result['year'] = result['ddate'].astype(str).str[:4]\n"
     ]
    }
   ],
   "source": [
    "result['year'] = result['ddate'].astype(str).str[:4]\n",
    "\n",
    "# Count the number of occurences for each year\n",
    "year_counts = result['year'].value_counts()\n",
    "\n",
    "print(year_counts)"
   ]
  },
  {
   "cell_type": "code",
   "execution_count": 11,
   "metadata": {},
   "outputs": [
    {
     "name": "stdout",
     "output_type": "stream",
     "text": [
      "month\n",
      "08    5511\n",
      "04    5152\n",
      "10    5130\n",
      "09    5130\n",
      "06    4996\n",
      "07    4938\n",
      "05    4923\n",
      "11    4381\n",
      "02    4156\n",
      "12    4138\n",
      "01    3788\n",
      "03    2826\n",
      "Name: count, dtype: int64\n"
     ]
    },
    {
     "name": "stderr",
     "output_type": "stream",
     "text": [
      "C:\\Users\\user1\\AppData\\Local\\Temp\\ipykernel_17128\\3621829736.py:1: SettingWithCopyWarning: \n",
      "A value is trying to be set on a copy of a slice from a DataFrame.\n",
      "Try using .loc[row_indexer,col_indexer] = value instead\n",
      "\n",
      "See the caveats in the documentation: https://pandas.pydata.org/pandas-docs/stable/user_guide/indexing.html#returning-a-view-versus-a-copy\n",
      "  result['month'] = result['ddate'].astype(str).str[4:6]\n"
     ]
    }
   ],
   "source": [
    "result['month'] = result['ddate'].astype(str).str[4:6]\n",
    "\n",
    "# Count the number of occurences for each month\n",
    "month_counts = result['month'].value_counts()\n",
    "\n",
    "print(month_counts)"
   ]
  },
  {
   "cell_type": "code",
   "execution_count": 12,
   "metadata": {},
   "outputs": [
    {
     "name": "stdout",
     "output_type": "stream",
     "text": [
      "ddate\n",
      "202303    460\n",
      "202003    426\n",
      "202203    401\n",
      "202103    396\n",
      "201703    370\n",
      "201603    287\n",
      "201803    260\n",
      "201903    226\n",
      "Name: count, dtype: int64\n"
     ]
    }
   ],
   "source": [
    "march_rows = result[result['month'] == '03']\n",
    "\n",
    "march_counts = march_rows['ddate'].value_counts()\n",
    "\n",
    "print(march_counts)"
   ]
  },
  {
   "cell_type": "code",
   "execution_count": 13,
   "metadata": {},
   "outputs": [
    {
     "name": "stdout",
     "output_type": "stream",
     "text": [
      "ddate\n",
      "202108    813\n",
      "202308    748\n",
      "201808    721\n",
      "201908    675\n",
      "202008    666\n",
      "201608    639\n",
      "202208    631\n",
      "201708    618\n",
      "Name: count, dtype: int64\n"
     ]
    }
   ],
   "source": [
    "aug_rows = result[result['month'] == '08']\n",
    "\n",
    "aug_counts = aug_rows['ddate'].value_counts()\n",
    "\n",
    "print(aug_counts)"
   ]
  },
  {
   "cell_type": "code",
   "execution_count": 14,
   "metadata": {},
   "outputs": [
    {
     "name": "stdout",
     "output_type": "stream",
     "text": [
      "ddate\n",
      "202108    813\n",
      "202110    763\n",
      "202304    753\n",
      "202011    751\n",
      "202308    748\n",
      "         ... \n",
      "202103    396\n",
      "201703    370\n",
      "201603    287\n",
      "201803    260\n",
      "201903    226\n",
      "Name: count, Length: 94, dtype: int64\n"
     ]
    }
   ],
   "source": [
    "date_counts = result['ddate'].value_counts()\n",
    "\n",
    "print(date_counts)"
   ]
  },
  {
   "cell_type": "code",
   "execution_count": 15,
   "metadata": {},
   "outputs": [
    {
     "name": "stdout",
     "output_type": "stream",
     "text": [
      "Y\n",
      "2022    21105\n",
      "2021    20816\n",
      "2020    20446\n",
      "2019    19990\n",
      "2018    19566\n",
      "2017    19080\n",
      "2016    18364\n",
      "2023    17799\n",
      "Name: count, dtype: int64\n",
      "M\n",
      "10    13492\n",
      "09    13466\n",
      "08    13440\n",
      "07    13406\n",
      "06    13363\n",
      "05    13336\n",
      "04    13313\n",
      "03    13305\n",
      "02    13283\n",
      "01    13276\n",
      "12    11766\n",
      "11    11720\n",
      "Name: count, dtype: int64\n"
     ]
    }
   ],
   "source": [
    "origin_counts = merged['ddate'].value_counts()\n",
    "#print(origin_counts)\n",
    "\n",
    "merged['Y'] = merged['ddate'].astype(str).str[:4]\n",
    "origin_Ycounts = merged['Y'].value_counts()\n",
    "print(origin_Ycounts)\n",
    "\n",
    "merged['M'] = merged['ddate'].astype(str).str[4:6]\n",
    "origin_Mcounts = merged['M'].value_counts()\n",
    "print(origin_Mcounts) "
   ]
  },
  {
   "cell_type": "code",
   "execution_count": 16,
   "metadata": {},
   "outputs": [
    {
     "data": {
      "text/plain": [
       "01    28.532691\n",
       "02    31.288113\n",
       "03    21.240135\n",
       "04    38.699016\n",
       "05    36.915117\n",
       "06    37.386814\n",
       "07    36.834253\n",
       "08    41.004464\n",
       "09    38.095945\n",
       "10    38.022532\n",
       "11    37.380546\n",
       "12    35.169131\n",
       "Name: count, dtype: float64"
      ]
     },
     "execution_count": 16,
     "metadata": {},
     "output_type": "execute_result"
    }
   ],
   "source": [
    "# \"每個月\"兩模型預測相反的個股數 / 兩模型預測的總個股數\n",
    "month_counts/origin_Mcounts*100"
   ]
  },
  {
   "cell_type": "code",
   "execution_count": 17,
   "metadata": {},
   "outputs": [
    {
     "name": "stdout",
     "output_type": "stream",
     "text": [
      "2016    36.517099\n",
      "2017    35.188679\n",
      "2018    34.289073\n",
      "2019    32.066033\n",
      "2020    36.241808\n",
      "2021    37.624904\n",
      "2022    32.499408\n",
      "2023    36.120007\n",
      "Name: count, dtype: float64\n",
      "202108\n",
      "201903\n"
     ]
    }
   ],
   "source": [
    "# \"每年\"兩模型預測相反的個股數 / 兩模型預測的總個股數\n",
    "print(year_counts/origin_Ycounts*100)\n",
    "max_date = (date_counts/origin_counts*100).idxmax()\n",
    "min_date = (date_counts/origin_counts*100).idxmin()\n",
    "\n",
    "# 預測相反比例最大、最小的日期\n",
    "print(max_date)\n",
    "print(min_date)"
   ]
  },
  {
   "cell_type": "code",
   "execution_count": 18,
   "metadata": {},
   "outputs": [],
   "source": [
    "stock_info.rename(columns={'股票代號':'stockid', '指數彙編分類代號':'classi_code'}, inplace=True)\n",
    "# 刪除重複個股資訊\n",
    "stock_info_dedup = stock_info.drop_duplicates(subset='stockid')\n",
    "# 將個股資訊加至result df\n",
    "pred_merge_code = result.merge(stock_info_dedup, on='stockid', how='left')"
   ]
  },
  {
   "cell_type": "code",
   "execution_count": 19,
   "metadata": {},
   "outputs": [
    {
     "name": "stdout",
     "output_type": "stream",
     "text": [
      "        ddate stockid  predict_labels  direction  year month 中文簡稱 上市上櫃  \\\n",
      "16202  202108    1102             0.0        1.0  2021    08   亞泥    1   \n",
      "16203  202108    1103             0.0        1.0  2021    08   嘉泥    1   \n",
      "16204  202108    1210             0.0        1.0  2021    08   大成    1   \n",
      "16205  202108    1215             0.0        1.0  2021    08   卜蜂    1   \n",
      "16206  202108    1216             0.0        1.0  2021    08   統一    1   \n",
      "...       ...     ...             ...        ...   ...   ...  ...  ...   \n",
      "17010  202108    9945             0.0        1.0  2021    08  潤泰新    1   \n",
      "17011  202108    9949             1.0        0.0  2021    08   琉園    2   \n",
      "17012  202108    9958             0.0        1.0  2021    08  世紀鋼    1   \n",
      "17013  202108    9960             0.0        1.0  2021    08  邁達康    2   \n",
      "17014  202108    9962             1.0        0.0  2021    08   有益    2   \n",
      "\n",
      "      classi_code   指數彙編分類  \n",
      "16202      C11010    傳產-水泥  \n",
      "16203      C11010    傳產-水泥  \n",
      "16204      C12010    傳產-食品  \n",
      "16205      C12010    傳產-食品  \n",
      "16206      C12010    傳產-食品  \n",
      "...           ...      ...  \n",
      "17010      C29020    傳產-其他  \n",
      "17011      C29020    傳產-其他  \n",
      "17012      C20010    傳產-鋼鐵  \n",
      "17013      C30010  傳產-高爾夫球  \n",
      "17014      C20010    傳產-鋼鐵  \n",
      "\n",
      "[813 rows x 10 columns]\n"
     ]
    }
   ],
   "source": [
    "print(pred_merge_code[pred_merge_code['ddate']==202108])"
   ]
  },
  {
   "cell_type": "code",
   "execution_count": 20,
   "metadata": {},
   "outputs": [
    {
     "name": "stdout",
     "output_type": "stream",
     "text": [
      "   classi_code          指數彙編分類  counts\n",
      "7       C17020           傳產-生技    4347\n",
      "67      C29020           傳產-其他    3932\n",
      "14      C23010      電子上游-IC-設計    3101\n",
      "59      C25010           傳產-營建    2719\n",
      "4       C15010           傳產-電機    2039\n",
      "..         ...             ...     ...\n",
      "68      C29030          傳產-自行車     152\n",
      "53      C23410       電子下游-手機製造     105\n",
      "12      C22010           傳產-汽車     103\n",
      "45      C23320       電子下游-電信服務      86\n",
      "16      C23030  電子上游-IC-DRAM製造      49\n",
      "\n",
      "[70 rows x 3 columns]\n"
     ]
    }
   ],
   "source": [
    "# 計算各種產業兩個模型判斷相反的次數，並降序排列\n",
    "count_classi = pred_merge_code.groupby(['classi_code', '指數彙編分類']).size().reset_index(name='counts').sort_values(by='counts', ascending=False)\n",
    "print(count_classi)"
   ]
  },
  {
   "cell_type": "code",
   "execution_count": 21,
   "metadata": {},
   "outputs": [
    {
     "name": "stdout",
     "output_type": "stream",
     "text": [
      "    classi_code          指數彙編分類  year  counts\n",
      "63       C17020           傳產-生技  2023     506\n",
      "543      C29020           傳產-其他  2023     485\n",
      "119      C23010      電子上游-IC-設計  2023     388\n",
      "479      C25010           傳產-營建  2023     295\n",
      "39       C15010           傳產-電機  2023     238\n",
      "..          ...             ...   ...     ...\n",
      "431      C23410       電子下游-手機製造  2023      15\n",
      "559      C30010         傳產-高爾夫球  2023      13\n",
      "343      C23290       電子下游-數位相機  2023       9\n",
      "367      C23320       電子下游-電信服務  2023       9\n",
      "135      C23030  電子上游-IC-DRAM製造  2023       6\n",
      "\n",
      "[70 rows x 4 columns]\n",
      "    classi_code          指數彙編分類  year  counts\n",
      "62       C17020           傳產-生技  2022     602\n",
      "542      C29020           傳產-其他  2022     536\n",
      "478      C25010           傳產-營建  2022     339\n",
      "118      C23010      電子上游-IC-設計  2022     336\n",
      "38       C15010           傳產-電機  2022     238\n",
      "..          ...             ...   ...     ...\n",
      "390      C23360        電子下游-掃描器  2022      14\n",
      "430      C23410       電子下游-手機製造  2022      13\n",
      "70       C18010         傳產-玻璃陶瓷  2022      10\n",
      "366      C23320       電子下游-電信服務  2022      10\n",
      "134      C23030  電子上游-IC-DRAM製造  2022       2\n",
      "\n",
      "[70 rows x 4 columns]\n"
     ]
    }
   ],
   "source": [
    "count_classi_y = pred_merge_code.groupby(['classi_code', '指數彙編分類', 'year']).size().reset_index(name='counts').sort_values(by=['year','counts'], ascending=False)\n",
    "print(count_classi_y[count_classi_y['year']=='2023'])\n",
    "\n",
    "print(count_classi_y[count_classi_y['year']=='2022'])"
   ]
  },
  {
   "cell_type": "code",
   "execution_count": 22,
   "metadata": {},
   "outputs": [],
   "source": [
    "# 將 merged(兩模型都有預測的個股)加上股票產業彙編碼\n",
    "merged_merge_code = merged.merge(stock_info_dedup, on='stockid', how='left')\n",
    "#print(merged_merge_code)"
   ]
  },
  {
   "cell_type": "code",
   "execution_count": 23,
   "metadata": {},
   "outputs": [
    {
     "name": "stdout",
     "output_type": "stream",
     "text": [
      "   classi_code          指數彙編分類  counts\n",
      "7       C17020           傳產-生技   11502\n",
      "67      C29020           傳產-其他   11068\n",
      "14      C23010      電子上游-IC-設計    8069\n",
      "59      C25010           傳產-營建    7488\n",
      "4       C15010           傳產-電機    6479\n",
      "..         ...             ...     ...\n",
      "8       C18010         傳產-玻璃陶瓷     470\n",
      "42      C23290       電子下游-數位相機     376\n",
      "53      C23410       電子下游-手機製造     285\n",
      "45      C23320       電子下游-電信服務     282\n",
      "16      C23030  電子上游-IC-DRAM製造      94\n",
      "\n",
      "[70 rows x 3 columns]\n"
     ]
    }
   ],
   "source": [
    "# 計算各產業數量(全，非僅包含預測相反者)\n",
    "merge_count = merged_merge_code.groupby(['classi_code', '指數彙編分類']).size().reset_index(name='counts').sort_values(by=['counts'], ascending=False)\n",
    "print(merge_count)"
   ]
  },
  {
   "cell_type": "code",
   "execution_count": 24,
   "metadata": {},
   "outputs": [],
   "source": [
    "# 兩模型在各產業預測相反的比例 = 各產業不分時間預測相反總數量/兩模型都有預測的數量\n",
    "\n",
    "# merge the df on 'classi_code'\n",
    "ratio_merge = pd.merge(count_classi, merge_count, on=['classi_code', '指數彙編分類'], suffixes=('_c', '_m'))\n",
    "\n",
    "# Calvulate the ratio and create new column\n",
    "ratio_merge['ratio'] = ratio_merge['counts_c'] / ratio_merge['counts_m'] *100\n",
    "\n",
    "# 依照占比降續排列\n",
    "ratio_merge = ratio_merge.sort_values('ratio', ascending=False)\n",
    "#print(len(ratio_merge[['classi_code','指數彙編分類', 'ratio']])) #70"
   ]
  },
  {
   "cell_type": "code",
   "execution_count": 25,
   "metadata": {},
   "outputs": [
    {
     "name": "stdout",
     "output_type": "stream",
     "text": [
      "電子上游: 76.92 電子中游: 40.0 電子下游: 50.0 軟體: 66.67 傳產: 47.62\n"
     ]
    }
   ],
   "source": [
    "# 計算預測相反比例前35高的產業(共70個產業)，電子上游、中游、下游、software 與傳產的數量\n",
    "HighRatio35 = ratio_merge[['classi_code','指數彙編分類', 'ratio']][:35]\n",
    "\n",
    "count_eeupstream = round(HighRatio35['指數彙編分類'].str.contains('電子上游').sum() / ratio_merge['指數彙編分類'].str.contains('電子上游').sum() *100, 2)\n",
    "count_eemidstream = round(HighRatio35['指數彙編分類'].str.contains('電子中游').sum() / ratio_merge['指數彙編分類'].str.contains('電子中游').sum() *100, 2)\n",
    "count_eedownstream = round(HighRatio35['指數彙編分類'].str.contains('電子下游').sum() / ratio_merge['指數彙編分類'].str.contains('電子下游').sum() *100, 2)\n",
    "count_software = round(HighRatio35['指數彙編分類'].str.contains('軟體').sum() / ratio_merge['指數彙編分類'].str.contains('軟體').sum() *100, 2)\n",
    "count_traditional =round( HighRatio35['指數彙編分類'].str.contains('傳產').sum() / ratio_merge['指數彙編分類'].str.contains('傳產').sum() *100, 2)\n",
    "print('電子上游:', count_eeupstream, '電子中游:', count_eemidstream, '電子下游:', count_eedownstream, '軟體:', count_software, '傳產:', count_traditional)\n"
   ]
  },
  {
   "cell_type": "code",
   "execution_count": 26,
   "metadata": {},
   "outputs": [],
   "source": [
    "# 針對電子上游產業觀察兩模型預測1和0的數量\n",
    "stock_df = stock_info_dedup.dropna()\n",
    "ee_upstream = stock_df[stock_df['指數彙編分類'].str.contains('電子上游')] #404"
   ]
  },
  {
   "cell_type": "code",
   "execution_count": 27,
   "metadata": {},
   "outputs": [
    {
     "name": "stdout",
     "output_type": "stream",
     "text": [
      "139        電子上游-IC-通路\n",
      "142         電子上游-連接元件\n",
      "151     電子上游-PCB-材料設備\n",
      "295      電子上游-LED及光元件\n",
      "299        電子上游-IC-代工\n",
      "303       電子上游-PCB-製造\n",
      "310         電子上游-被動元件\n",
      "312        電子上游-IC-封測\n",
      "316        電子上游-IC-製造\n",
      "317        電子上游-IC-其他\n",
      "319       電子上游-DRAM銷售\n",
      "336        電子上游-IC-設計\n",
      "366    電子上游-IC-DRAM製造\n",
      "Name: 指數彙編分類, dtype: object\n"
     ]
    }
   ],
   "source": [
    "# 所有電子上游類別\n",
    "uni_up = ee_upstream['指數彙編分類'].drop_duplicates()\n",
    "print(uni_up)"
   ]
  },
  {
   "cell_type": "code",
   "execution_count": 28,
   "metadata": {},
   "outputs": [
    {
     "name": "stdout",
     "output_type": "stream",
     "text": [
      "電子上游-IC-DRAM製造\n",
      "logit_prediction: 19.0 dream report prediction: 30.0\n"
     ]
    }
   ],
   "source": [
    "# 電子上游-IC-DRAM製造 \n",
    "# 計算夢幻、logit預測的0與1數目\n",
    "logit_pred_eeupstream = pred_merge_code[pred_merge_code['指數彙編分類']=='電子上游-IC-DRAM製造']['predict_labels'].sum()\n",
    "dream_pred_eeupstream = pred_merge_code[pred_merge_code['指數彙編分類']=='電子上游-IC-DRAM製造']['direction'].sum()\n",
    "\n",
    "print('電子上游-IC-DRAM製造')\n",
    "print('logit_prediction:', logit_pred_eeupstream, 'dream report prediction:', dream_pred_eeupstream)\n",
    " # all 49"
   ]
  },
  {
   "cell_type": "code",
   "execution_count": 29,
   "metadata": {},
   "outputs": [
    {
     "name": "stdout",
     "output_type": "stream",
     "text": [
      "電子上游-IC-製造\n",
      "logit_prediction: 71.0 dream report prediction: 297.0\n"
     ]
    }
   ],
   "source": [
    "# 電子上游-IC-製造\n",
    "logit_pred_ICmanufact = pred_merge_code[pred_merge_code['指數彙編分類']=='電子上游-IC-製造']['predict_labels'].sum()\n",
    "dream_pred_ICmanufact = pred_merge_code[pred_merge_code['指數彙編分類']=='電子上游-IC-製造']['direction'].sum()\n",
    "\n",
    "print('電子上游-IC-製造')\n",
    "print('logit_prediction:', logit_pred_ICmanufact, 'dream report prediction:', dream_pred_ICmanufact)\n",
    "#len( pred_merge_code[pred_merge_code['指數彙編分類']=='電子上游-IC-製造']['direction']) # all 368\n"
   ]
  },
  {
   "cell_type": "code",
   "execution_count": 30,
   "metadata": {},
   "outputs": [
    {
     "name": "stdout",
     "output_type": "stream",
     "text": [
      "電子上游-IC-代工\n",
      "logit_prediction: 52.0 dream report prediction: 239.0\n"
     ]
    }
   ],
   "source": [
    "# 電子上游-IC-代工\n",
    "logit_pred_ICOEM = pred_merge_code[pred_merge_code['指數彙編分類']=='電子上游-IC-代工']['predict_labels'].sum()\n",
    "dream_pred_ICOEM = pred_merge_code[pred_merge_code['指數彙編分類']=='電子上游-IC-代工']['direction'].sum()\n",
    "\n",
    "print('電子上游-IC-代工')\n",
    "print('logit_prediction:', logit_pred_ICOEM, 'dream report prediction:', dream_pred_ICOEM)\n",
    "\n",
    "#len( pred_merge_code[pred_merge_code['指數彙編分類']=='電子上游-IC-代工']['direction']) # all 291"
   ]
  },
  {
   "cell_type": "code",
   "execution_count": 31,
   "metadata": {},
   "outputs": [
    {
     "name": "stdout",
     "output_type": "stream",
     "text": [
      "傳產-汽車\n",
      "logit_prediction: 66.0 dream report prediction: 37.0\n"
     ]
    }
   ],
   "source": [
    "# 意見分歧低\n",
    "# 傳產-汽車\n",
    "logit_pred_car = pred_merge_code[pred_merge_code['指數彙編分類']=='傳產-汽車']['predict_labels'].sum()\n",
    "dream_pred_car = pred_merge_code[pred_merge_code['指數彙編分類']=='傳產-汽車']['direction'].sum()\n",
    "\n",
    "print('傳產-汽車')\n",
    "print('logit_prediction:', logit_pred_car, 'dream report prediction:', dream_pred_car)"
   ]
  },
  {
   "cell_type": "code",
   "execution_count": 32,
   "metadata": {},
   "outputs": [
    {
     "name": "stdout",
     "output_type": "stream",
     "text": [
      "電子下游-筆記型電腦\n",
      "logit_prediction: 101.0 dream report prediction: 92.0\n"
     ]
    }
   ],
   "source": [
    "# 電子下游-筆記型電腦\n",
    "logit_pred_pc = pred_merge_code[pred_merge_code['指數彙編分類']=='電子下游-筆記型電腦']['predict_labels'].sum()\n",
    "dream_pred_pc = pred_merge_code[pred_merge_code['指數彙編分類']=='電子下游-筆記型電腦']['direction'].sum()\n",
    "\n",
    "print('電子下游-筆記型電腦')\n",
    "print('logit_prediction:', logit_pred_pc, 'dream report prediction:', dream_pred_pc)"
   ]
  },
  {
   "cell_type": "code",
   "execution_count": 33,
   "metadata": {},
   "outputs": [
    {
     "name": "stdout",
     "output_type": "stream",
     "text": [
      "result\n",
      "1    19\n",
      "0    16\n",
      "Name: count, dtype: int64\n",
      "                predict_labels  direction result\n",
      "指數彙編分類                                          \n",
      "電子上游-IC-DRAM製造            19.0       30.0      1\n",
      "電子上游-IC-製造                71.0      297.0      1\n",
      "電子上游-IC-代工                52.0      239.0      1\n",
      "電子下游-光碟片                 184.0       95.0      0\n",
      "軟體-其他                    213.0      384.0      1\n",
      "電子下游-數位相機                 82.0       69.0      0\n",
      "軟體-遊戲                    243.0      261.0      1\n",
      "電子中游-NB與手機零組件            472.0      591.0      1\n",
      "傳產-橡膠                    273.0      152.0      0\n",
      "電子上游-IC-設計              1034.0     2060.0      1\n",
      "電子中游-PC介面卡                72.0      142.0      1\n",
      "傳產-生技                   1162.0     2933.0      1\n",
      "電子上游-IC-封測               328.0      562.0      1\n",
      "電子下游-安全監控                319.0      160.0      0\n",
      "電子中游-其他                  501.0      460.0      0\n",
      "電子中游-LCD-TFT面板           174.0       94.0      0\n",
      "傳產-觀光                    700.0      660.0      0\n",
      "電子下游-太陽能                 203.0      195.0      0\n",
      "電子下游-手機製造                 87.0       18.0      0\n",
      "電子上游-LED及光元件             707.0      442.0      0\n",
      "電子中游-LCD-零組件             457.0      229.0      0\n",
      "電子上游-IC-通路               332.0      489.0      1\n",
      "傳產-營建                   1020.0     1595.0      1\n",
      "電子上游-PCB-製造              679.0      663.0      0\n",
      "傳產-航運                    438.0      553.0      1\n",
      "電子下游-商業自動化               123.0      147.0      1\n",
      "傳產-紙業                    106.0      102.0      0\n",
      "電子下游-顯示器                 119.0      142.0      1\n",
      "傳產-百貨                    592.0      436.0      0\n",
      "傳產-其他                   1752.0     2157.0      1\n",
      "電子中游-變壓器與UPS             265.0      239.0      0\n",
      "傳產-水泥                    145.0       87.0      0\n",
      "傳產-鋼鐵                    772.0      839.0      1\n",
      "電子上游-被動元件                442.0      703.0      1\n",
      "電子上游-IC-其他               210.0      269.0      1\n"
     ]
    }
   ],
   "source": [
    "# 計算兩模型預測相反，比例最高的前35個產業中，有多少是夢幻預測上漲(1)的數量大於 logit model\n",
    "\n",
    "# Group by '指數彙編分類' and calculate the sum of 'predict_labels' and 'direction'\n",
    "grouped = pred_merge_code.groupby('指數彙編分類')[['predict_labels', 'direction']].sum()\n",
    "\n",
    "grouped['result'] = np.where(grouped['direction'] > grouped['predict_labels'], 1, np.where(grouped['direction'] == grouped['predict_labels'], 'even', 0))\n",
    "HighRatio35_industry = HighRatio35['指數彙編分類']\n",
    "\n",
    "# Filter the grouped DataFrame\n",
    "grouped = grouped[grouped.index.isin(HighRatio35_industry)]\n",
    "\n",
    "# Reindex the grouped DataFrame to match the order of HighRatio35_industry\n",
    "grouped = grouped.reindex(HighRatio35_industry)\n",
    "\n",
    "result_counts = grouped['result'].value_counts()\n",
    "\n",
    "print(result_counts)\n",
    "print(grouped)\n"
   ]
  },
  {
   "cell_type": "code",
   "execution_count": 34,
   "metadata": {},
   "outputs": [],
   "source": [
    "# 計算兩模型預測相反，比例最高的前35個產業中，有多少是夢幻預測上漲(1)的數量小於 logit model\n",
    "\n"
   ]
  },
  {
   "cell_type": "code",
   "execution_count": 35,
   "metadata": {},
   "outputs": [
    {
     "name": "stdout",
     "output_type": "stream",
     "text": [
      "                predict_labels  direction result\n",
      "指數彙編分類                                          \n",
      "電子上游-IC-DRAM製造            19.0       30.0      1\n",
      "電子上游-IC-製造                71.0      297.0      1\n",
      "電子上游-IC-代工                52.0      239.0      1\n",
      "電子上游-IC-設計              1034.0     2060.0      1\n",
      "電子上游-IC-封測               328.0      562.0      1\n",
      "電子上游-LED及光元件             707.0      442.0      0\n",
      "電子上游-IC-通路               332.0      489.0      1\n",
      "電子上游-PCB-製造              679.0      663.0      0\n",
      "電子上游-被動元件                442.0      703.0      1\n",
      "電子上游-IC-其他               210.0      269.0      1\n",
      "        predict_labels  direction result\n",
      "指數彙編分類                                  \n",
      "傳產-橡膠            273.0      152.0      0\n",
      "傳產-生技           1162.0     2933.0      1\n",
      "傳產-觀光            700.0      660.0      0\n",
      "傳產-營建           1020.0     1595.0      1\n",
      "傳產-航運            438.0      553.0      1\n",
      "傳產-紙業            106.0      102.0      0\n",
      "傳產-百貨            592.0      436.0      0\n",
      "傳產-其他           1752.0     2157.0      1\n",
      "傳產-水泥            145.0       87.0      0\n",
      "傳產-鋼鐵            772.0      839.0      1\n"
     ]
    }
   ],
   "source": [
    "# 電子上游 - 1 居多\n",
    "print(grouped[grouped.index.str.contains('電子上游')])\n",
    "\n",
    "# 傳產 - 0&1 各半\n",
    "print(grouped[grouped.index.str.contains('傳產')])\n"
   ]
  },
  {
   "cell_type": "code",
   "execution_count": 36,
   "metadata": {},
   "outputs": [],
   "source": [
    "## 電子上游準確性"
   ]
  },
  {
   "cell_type": "code",
   "execution_count": 37,
   "metadata": {},
   "outputs": [],
   "source": [
    "# merge 2 model data frame with stock information\n",
    "Dream_report_class = Dream_report.merge(stock_info_dedup[['指數彙編分類', 'stockid']], on='stockid', how='left')\n",
    "logit_direction_class = logit_direction.merge(stock_info_dedup[['指數彙編分類', 'stockid']], on='stockid', how='left')"
   ]
  },
  {
   "cell_type": "code",
   "execution_count": 38,
   "metadata": {},
   "outputs": [],
   "source": [
    "# merge 3 dataframes and calculate the accuracy\n",
    "df_DL = Dream_report_class.merge(logit_direction_class, on=['ddate', 'stockid', '指數彙編分類'], how='inner')\n",
    "\n",
    "df_ABC = df_DL.merge(df[['stockid', 'ddate', 'direction']].astype({'stockid': str}), on=['stockid', 'ddate'], suffixes=('', '_real'))\n",
    "df_ABC['direction_real'] = df_ABC['direction_real'].astype(float)\n",
    "#print(df_ABC)\n",
    "#print(len(df_ABC)) #157166"
   ]
  },
  {
   "cell_type": "code",
   "execution_count": 39,
   "metadata": {},
   "outputs": [
    {
     "name": "stdout",
     "output_type": "stream",
     "text": [
      "夢幻報表電子上游產業準確率: 0.6052\n",
      "Logit Model 電子上游產業: 0.6081\n",
      "20340.0\n",
      "18171.0\n",
      "18009.0\n"
     ]
    }
   ],
   "source": [
    "# Filter the DataFrame for a specific classification_code\n",
    "df_filtered = df_ABC[df_ABC['指數彙編分類'].str.contains('電子上游')]\n",
    "#print(df_filtered) #34318 \n",
    "\n",
    "# Calculate the accuracy for Dream Report model \n",
    "AccuracyDream_eeup = round((df_filtered['direction'] == df_filtered['direction_real']).sum() / len(df_filtered), 4)\n",
    "print('夢幻報表電子上游產業準確率:',AccuracyDream_eeup) #0.605\n",
    "\n",
    "# Calculate the accuracy for Logit model\n",
    "AccuracyLogit_eeup = round((df_filtered['predict_labels'] == df_filtered['direction_real']).sum() / len(df_filtered), 4)\n",
    "print('Logit Model 電子上游產業:',AccuracyLogit_eeup) #0.608\n",
    "\n",
    "# 小結:兩模型對於電子上游相關產業的準確度幾乎相同61%左右，logit model微微高一些\n",
    "\n",
    "# TODO\n",
    "# 夢幻報表容易預測成上漲，但跟真實情況可能相反→針對電子上游的細分類分析\n",
    "# 夢幻報表預測上漲的次數、真實上漲的次數\n",
    "print(df_filtered['direction'].sum())\n",
    "print(df_filtered['predict_labels'].sum())\n",
    "print(df_filtered['direction_real'].sum())\n",
    "# 兩模型預測的上漲次數均高於實際值，但夢幻報表多一倍左右"
   ]
  },
  {
   "cell_type": "code",
   "execution_count": 40,
   "metadata": {},
   "outputs": [
    {
     "name": "stdout",
     "output_type": "stream",
     "text": [
      "139        電子上游-IC-通路\n",
      "142         電子上游-連接元件\n",
      "151     電子上游-PCB-材料設備\n",
      "295      電子上游-LED及光元件\n",
      "298        電子上游-IC-代工\n",
      "302       電子上游-PCB-製造\n",
      "309         電子上游-被動元件\n",
      "311        電子上游-IC-封測\n",
      "315        電子上游-IC-製造\n",
      "316        電子上游-IC-其他\n",
      "318       電子上游-DRAM銷售\n",
      "335        電子上游-IC-設計\n",
      "365    電子上游-IC-DRAM製造\n",
      "Name: 指數彙編分類, dtype: object\n",
      "13\n"
     ]
    }
   ],
   "source": [
    "# 電子上游的細分類產業\n",
    "test = df_filtered['指數彙編分類'].drop_duplicates()\n",
    "print(test)\n",
    "print(len(test))"
   ]
  },
  {
   "cell_type": "code",
   "execution_count": 69,
   "metadata": {},
   "outputs": [],
   "source": [
    "# 電子上游\n",
    "df_filtered_copy = df_filtered.copy()\n",
    "df_filtered_copy = df_filtered_copy.groupby(['ddate', '指數彙編分類']).apply(compare_predictions)\n",
    "#df_filtered_copy"
   ]
  },
  {
   "cell_type": "code",
   "execution_count": 74,
   "metadata": {},
   "outputs": [
    {
     "data": {
      "text/html": [
       "<div>\n",
       "<style scoped>\n",
       "    .dataframe tbody tr th:only-of-type {\n",
       "        vertical-align: middle;\n",
       "    }\n",
       "\n",
       "    .dataframe tbody tr th {\n",
       "        vertical-align: top;\n",
       "    }\n",
       "\n",
       "    .dataframe thead th {\n",
       "        text-align: right;\n",
       "    }\n",
       "</style>\n",
       "<table border=\"1\" class=\"dataframe\">\n",
       "  <thead>\n",
       "    <tr style=\"text-align: right;\">\n",
       "      <th></th>\n",
       "      <th>指數彙編分類</th>\n",
       "      <th>DreamPredCorrect</th>\n",
       "      <th>LogitPredCorrect</th>\n",
       "      <th>diff</th>\n",
       "      <th>diff_ratio</th>\n",
       "    </tr>\n",
       "  </thead>\n",
       "  <tbody>\n",
       "    <tr>\n",
       "      <th>0</th>\n",
       "      <td>電子上游-DRAM銷售</td>\n",
       "      <td>444</td>\n",
       "      <td>474</td>\n",
       "      <td>-30</td>\n",
       "      <td>-0.1</td>\n",
       "    </tr>\n",
       "    <tr>\n",
       "      <th>1</th>\n",
       "      <td>電子上游-IC-DRAM製造</td>\n",
       "      <td>39</td>\n",
       "      <td>38</td>\n",
       "      <td>1</td>\n",
       "      <td>0.0</td>\n",
       "    </tr>\n",
       "    <tr>\n",
       "      <th>2</th>\n",
       "      <td>電子上游-IC-代工</td>\n",
       "      <td>433</td>\n",
       "      <td>362</td>\n",
       "      <td>71</td>\n",
       "      <td>0.2</td>\n",
       "    </tr>\n",
       "    <tr>\n",
       "      <th>3</th>\n",
       "      <td>電子上游-IC-其他</td>\n",
       "      <td>854</td>\n",
       "      <td>861</td>\n",
       "      <td>-7</td>\n",
       "      <td>-0.0</td>\n",
       "    </tr>\n",
       "    <tr>\n",
       "      <th>4</th>\n",
       "      <td>電子上游-IC-封測</td>\n",
       "      <td>1336</td>\n",
       "      <td>1288</td>\n",
       "      <td>48</td>\n",
       "      <td>0.0</td>\n",
       "    </tr>\n",
       "    <tr>\n",
       "      <th>5</th>\n",
       "      <td>電子上游-IC-製造</td>\n",
       "      <td>469</td>\n",
       "      <td>451</td>\n",
       "      <td>18</td>\n",
       "      <td>0.0</td>\n",
       "    </tr>\n",
       "    <tr>\n",
       "      <th>6</th>\n",
       "      <td>電子上游-IC-設計</td>\n",
       "      <td>4800</td>\n",
       "      <td>4682</td>\n",
       "      <td>118</td>\n",
       "      <td>0.0</td>\n",
       "    </tr>\n",
       "    <tr>\n",
       "      <th>7</th>\n",
       "      <td>電子上游-IC-通路</td>\n",
       "      <td>1394</td>\n",
       "      <td>1483</td>\n",
       "      <td>-89</td>\n",
       "      <td>-0.1</td>\n",
       "    </tr>\n",
       "    <tr>\n",
       "      <th>8</th>\n",
       "      <td>電子上游-LED及光元件</td>\n",
       "      <td>1901</td>\n",
       "      <td>1920</td>\n",
       "      <td>-19</td>\n",
       "      <td>-0.0</td>\n",
       "    </tr>\n",
       "    <tr>\n",
       "      <th>9</th>\n",
       "      <td>電子上游-PCB-材料設備</td>\n",
       "      <td>1345</td>\n",
       "      <td>1370</td>\n",
       "      <td>-25</td>\n",
       "      <td>-0.0</td>\n",
       "    </tr>\n",
       "    <tr>\n",
       "      <th>10</th>\n",
       "      <td>電子上游-PCB-製造</td>\n",
       "      <td>2270</td>\n",
       "      <td>2325</td>\n",
       "      <td>-55</td>\n",
       "      <td>-0.0</td>\n",
       "    </tr>\n",
       "    <tr>\n",
       "      <th>11</th>\n",
       "      <td>電子上游-被動元件</td>\n",
       "      <td>1974</td>\n",
       "      <td>2005</td>\n",
       "      <td>-31</td>\n",
       "      <td>-0.0</td>\n",
       "    </tr>\n",
       "    <tr>\n",
       "      <th>12</th>\n",
       "      <td>電子上游-連接元件</td>\n",
       "      <td>3509</td>\n",
       "      <td>3609</td>\n",
       "      <td>-100</td>\n",
       "      <td>-0.0</td>\n",
       "    </tr>\n",
       "  </tbody>\n",
       "</table>\n",
       "</div>"
      ],
      "text/plain": [
       "            指數彙編分類  DreamPredCorrect  LogitPredCorrect  diff  diff_ratio\n",
       "0      電子上游-DRAM銷售               444               474   -30        -0.1\n",
       "1   電子上游-IC-DRAM製造                39                38     1         0.0\n",
       "2       電子上游-IC-代工               433               362    71         0.2\n",
       "3       電子上游-IC-其他               854               861    -7        -0.0\n",
       "4       電子上游-IC-封測              1336              1288    48         0.0\n",
       "5       電子上游-IC-製造               469               451    18         0.0\n",
       "6       電子上游-IC-設計              4800              4682   118         0.0\n",
       "7       電子上游-IC-通路              1394              1483   -89        -0.1\n",
       "8     電子上游-LED及光元件              1901              1920   -19        -0.0\n",
       "9    電子上游-PCB-材料設備              1345              1370   -25        -0.0\n",
       "10     電子上游-PCB-製造              2270              2325   -55        -0.0\n",
       "11       電子上游-被動元件              1974              2005   -31        -0.0\n",
       "12       電子上游-連接元件              3509              3609  -100        -0.0"
      ]
     },
     "execution_count": 74,
     "metadata": {},
     "output_type": "execute_result"
    }
   ],
   "source": [
    "df_filtered_copy = df_filtered_copy.reset_index(drop=True)\n",
    "\n",
    "# 針對日期及細項產業分類的預測正確數加總\n",
    "df_sum = df_filtered_copy.groupby(['ddate', '指數彙編分類'])[['DreamPredCorrect', 'LogitPredCorrect']].sum().reset_index()\n",
    "df_sum\n",
    "\n",
    "# 僅針對細項產業分類的預測正確數加總\n",
    "df_sum2 = df_filtered_copy.groupby(['指數彙編分類'])[['DreamPredCorrect', 'LogitPredCorrect']].sum().reset_index()\n",
    "df_sum2['diff'] = df_sum2['DreamPredCorrect'] - df_sum2['LogitPredCorrect']\n",
    "df_sum2['diff_ratio'] = round(df_sum2['diff'] / df_sum2['LogitPredCorrect'], 1)\n",
    "df_sum2\n"
   ]
  },
  {
   "cell_type": "code",
   "execution_count": 72,
   "metadata": {},
   "outputs": [
    {
     "data": {
      "text/html": [
       "<div>\n",
       "<style scoped>\n",
       "    .dataframe tbody tr th:only-of-type {\n",
       "        vertical-align: middle;\n",
       "    }\n",
       "\n",
       "    .dataframe tbody tr th {\n",
       "        vertical-align: top;\n",
       "    }\n",
       "\n",
       "    .dataframe thead th {\n",
       "        text-align: right;\n",
       "    }\n",
       "</style>\n",
       "<table border=\"1\" class=\"dataframe\">\n",
       "  <thead>\n",
       "    <tr style=\"text-align: right;\">\n",
       "      <th></th>\n",
       "      <th>ddate</th>\n",
       "      <th>指數彙編分類</th>\n",
       "      <th>DreamPredCorrect</th>\n",
       "      <th>LogitPredCorrect</th>\n",
       "    </tr>\n",
       "  </thead>\n",
       "  <tbody>\n",
       "    <tr>\n",
       "      <th>0</th>\n",
       "      <td>201601</td>\n",
       "      <td>電子上游-DRAM銷售</td>\n",
       "      <td>6</td>\n",
       "      <td>5</td>\n",
       "    </tr>\n",
       "    <tr>\n",
       "      <th>1</th>\n",
       "      <td>201601</td>\n",
       "      <td>電子上游-IC-DRAM製造</td>\n",
       "      <td>0</td>\n",
       "      <td>1</td>\n",
       "    </tr>\n",
       "    <tr>\n",
       "      <th>2</th>\n",
       "      <td>201601</td>\n",
       "      <td>電子上游-IC-代工</td>\n",
       "      <td>4</td>\n",
       "      <td>4</td>\n",
       "    </tr>\n",
       "    <tr>\n",
       "      <th>3</th>\n",
       "      <td>201601</td>\n",
       "      <td>電子上游-IC-其他</td>\n",
       "      <td>9</td>\n",
       "      <td>7</td>\n",
       "    </tr>\n",
       "    <tr>\n",
       "      <th>4</th>\n",
       "      <td>201601</td>\n",
       "      <td>電子上游-IC-封測</td>\n",
       "      <td>14</td>\n",
       "      <td>14</td>\n",
       "    </tr>\n",
       "    <tr>\n",
       "      <th>...</th>\n",
       "      <td>...</td>\n",
       "      <td>...</td>\n",
       "      <td>...</td>\n",
       "      <td>...</td>\n",
       "    </tr>\n",
       "    <tr>\n",
       "      <th>1217</th>\n",
       "      <td>202310</td>\n",
       "      <td>電子上游-LED及光元件</td>\n",
       "      <td>20</td>\n",
       "      <td>22</td>\n",
       "    </tr>\n",
       "    <tr>\n",
       "      <th>1218</th>\n",
       "      <td>202310</td>\n",
       "      <td>電子上游-PCB-材料設備</td>\n",
       "      <td>19</td>\n",
       "      <td>15</td>\n",
       "    </tr>\n",
       "    <tr>\n",
       "      <th>1219</th>\n",
       "      <td>202310</td>\n",
       "      <td>電子上游-PCB-製造</td>\n",
       "      <td>28</td>\n",
       "      <td>25</td>\n",
       "    </tr>\n",
       "    <tr>\n",
       "      <th>1220</th>\n",
       "      <td>202310</td>\n",
       "      <td>電子上游-被動元件</td>\n",
       "      <td>24</td>\n",
       "      <td>22</td>\n",
       "    </tr>\n",
       "    <tr>\n",
       "      <th>1221</th>\n",
       "      <td>202310</td>\n",
       "      <td>電子上游-連接元件</td>\n",
       "      <td>45</td>\n",
       "      <td>31</td>\n",
       "    </tr>\n",
       "  </tbody>\n",
       "</table>\n",
       "<p>1222 rows × 4 columns</p>\n",
       "</div>"
      ],
      "text/plain": [
       "       ddate          指數彙編分類  DreamPredCorrect  LogitPredCorrect\n",
       "0     201601     電子上游-DRAM銷售                 6                 5\n",
       "1     201601  電子上游-IC-DRAM製造                 0                 1\n",
       "2     201601      電子上游-IC-代工                 4                 4\n",
       "3     201601      電子上游-IC-其他                 9                 7\n",
       "4     201601      電子上游-IC-封測                14                14\n",
       "...      ...             ...               ...               ...\n",
       "1217  202310    電子上游-LED及光元件                20                22\n",
       "1218  202310   電子上游-PCB-材料設備                19                15\n",
       "1219  202310     電子上游-PCB-製造                28                25\n",
       "1220  202310       電子上游-被動元件                24                22\n",
       "1221  202310       電子上游-連接元件                45                31\n",
       "\n",
       "[1222 rows x 4 columns]"
      ]
     },
     "execution_count": 72,
     "metadata": {},
     "output_type": "execute_result"
    }
   ],
   "source": [
    "df_sum"
   ]
  }
 ],
 "metadata": {
  "kernelspec": {
   "display_name": "Python 3",
   "language": "python",
   "name": "python3"
  },
  "language_info": {
   "codemirror_mode": {
    "name": "ipython",
    "version": 3
   },
   "file_extension": ".py",
   "mimetype": "text/x-python",
   "name": "python",
   "nbconvert_exporter": "python",
   "pygments_lexer": "ipython3",
   "version": "3.10.13"
  }
 },
 "nbformat": 4,
 "nbformat_minor": 2
}
