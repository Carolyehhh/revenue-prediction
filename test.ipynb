{
 "cells": [
  {
   "cell_type": "code",
   "execution_count": 190,
   "metadata": {},
   "outputs": [],
   "source": [
    "import pandas as pd\n",
    "import numpy as np"
   ]
  },
  {
   "cell_type": "code",
   "execution_count": 191,
   "metadata": {},
   "outputs": [],
   "source": [
    "# Importing Data\n",
    "from data import Dream_report, df , stock_info\n",
    "# Import data logic model revenue prediction\n",
    "#from main import overall_predicted_labels # 只有方向，要把ddate, stockid補上\n",
    "from DreamReport import logit_direction"
   ]
  },
  {
   "cell_type": "code",
   "execution_count": 192,
   "metadata": {},
   "outputs": [],
   "source": [
    "#type(Dream_report['stockid'][0])\n",
    "logit_direction['stockid'] = logit_direction['stockid'].astype(str)\n",
    "logit_direction['predict_labels'] = logit_direction['predict_labels'].astype(float)\n",
    "#print(logit_direction)"
   ]
  },
  {
   "cell_type": "code",
   "execution_count": 193,
   "metadata": {},
   "outputs": [],
   "source": [
    "merged = pd.merge(logit_direction, Dream_report, on=['ddate', 'stockid'])\n",
    "# Filter rows where 'predcited_labels' are different #兩模型預測相反的結果\n",
    "result = merged[merged['predict_labels'] != merged['direction']]\n",
    "#print(result)"
   ]
  },
  {
   "cell_type": "code",
   "execution_count": 194,
   "metadata": {},
   "outputs": [
    {
     "name": "stdout",
     "output_type": "stream",
     "text": [
      "        ddate stockid  predict_labels  direction\n",
      "45886  202108    1102             0.0        1.0\n",
      "45887  202108    1103             0.0        1.0\n",
      "45894  202108    1210             0.0        1.0\n",
      "45896  202108    1215             0.0        1.0\n",
      "45897  202108    1216             0.0        1.0\n",
      "...       ...     ...             ...        ...\n",
      "47615  202108    9945             0.0        1.0\n",
      "47617  202108    9949             1.0        0.0\n",
      "47621  202108    9958             0.0        1.0\n",
      "47622  202108    9960             0.0        1.0\n",
      "47623  202108    9962             1.0        0.0\n",
      "\n",
      "[813 rows x 4 columns]\n"
     ]
    }
   ],
   "source": [
    "print(result[result['ddate'] == 202108])"
   ]
  },
  {
   "cell_type": "code",
   "execution_count": 195,
   "metadata": {},
   "outputs": [
    {
     "name": "stdout",
     "output_type": "stream",
     "text": [
      "year\n",
      "2021    7832\n",
      "2020    7410\n",
      "2022    6859\n",
      "2017    6714\n",
      "2018    6709\n",
      "2016    6706\n",
      "2023    6429\n",
      "2019    6410\n",
      "Name: count, dtype: int64\n"
     ]
    },
    {
     "name": "stderr",
     "output_type": "stream",
     "text": [
      "C:\\Users\\user1\\AppData\\Local\\Temp\\ipykernel_9852\\891335564.py:1: SettingWithCopyWarning: \n",
      "A value is trying to be set on a copy of a slice from a DataFrame.\n",
      "Try using .loc[row_indexer,col_indexer] = value instead\n",
      "\n",
      "See the caveats in the documentation: https://pandas.pydata.org/pandas-docs/stable/user_guide/indexing.html#returning-a-view-versus-a-copy\n",
      "  result['year'] = result['ddate'].astype(str).str[:4]\n"
     ]
    }
   ],
   "source": [
    "result['year'] = result['ddate'].astype(str).str[:4]\n",
    "\n",
    "# Count the number of occurences for each year\n",
    "year_counts = result['year'].value_counts()\n",
    "\n",
    "print(year_counts)"
   ]
  },
  {
   "cell_type": "code",
   "execution_count": 196,
   "metadata": {},
   "outputs": [
    {
     "name": "stdout",
     "output_type": "stream",
     "text": [
      "month\n",
      "08    5511\n",
      "04    5152\n",
      "10    5130\n",
      "09    5130\n",
      "06    4996\n",
      "07    4938\n",
      "05    4923\n",
      "11    4381\n",
      "02    4156\n",
      "12    4138\n",
      "01    3788\n",
      "03    2826\n",
      "Name: count, dtype: int64\n"
     ]
    },
    {
     "name": "stderr",
     "output_type": "stream",
     "text": [
      "C:\\Users\\user1\\AppData\\Local\\Temp\\ipykernel_9852\\3621829736.py:1: SettingWithCopyWarning: \n",
      "A value is trying to be set on a copy of a slice from a DataFrame.\n",
      "Try using .loc[row_indexer,col_indexer] = value instead\n",
      "\n",
      "See the caveats in the documentation: https://pandas.pydata.org/pandas-docs/stable/user_guide/indexing.html#returning-a-view-versus-a-copy\n",
      "  result['month'] = result['ddate'].astype(str).str[4:6]\n"
     ]
    }
   ],
   "source": [
    "result['month'] = result['ddate'].astype(str).str[4:6]\n",
    "\n",
    "# Count the number of occurences for each month\n",
    "month_counts = result['month'].value_counts()\n",
    "\n",
    "print(month_counts)"
   ]
  },
  {
   "cell_type": "code",
   "execution_count": 197,
   "metadata": {},
   "outputs": [
    {
     "name": "stdout",
     "output_type": "stream",
     "text": [
      "ddate\n",
      "202303    460\n",
      "202003    426\n",
      "202203    401\n",
      "202103    396\n",
      "201703    370\n",
      "201603    287\n",
      "201803    260\n",
      "201903    226\n",
      "Name: count, dtype: int64\n"
     ]
    }
   ],
   "source": [
    "march_rows = result[result['month'] == '03']\n",
    "\n",
    "march_counts = march_rows['ddate'].value_counts()\n",
    "\n",
    "print(march_counts)"
   ]
  },
  {
   "cell_type": "code",
   "execution_count": 198,
   "metadata": {},
   "outputs": [
    {
     "name": "stdout",
     "output_type": "stream",
     "text": [
      "ddate\n",
      "202108    813\n",
      "202308    748\n",
      "201808    721\n",
      "201908    675\n",
      "202008    666\n",
      "201608    639\n",
      "202208    631\n",
      "201708    618\n",
      "Name: count, dtype: int64\n"
     ]
    }
   ],
   "source": [
    "aug_rows = result[result['month'] == '08']\n",
    "\n",
    "aug_counts = aug_rows['ddate'].value_counts()\n",
    "\n",
    "print(aug_counts)"
   ]
  },
  {
   "cell_type": "code",
   "execution_count": 199,
   "metadata": {},
   "outputs": [
    {
     "name": "stdout",
     "output_type": "stream",
     "text": [
      "ddate\n",
      "202108    813\n",
      "202110    763\n",
      "202304    753\n",
      "202011    751\n",
      "202308    748\n",
      "         ... \n",
      "202103    396\n",
      "201703    370\n",
      "201603    287\n",
      "201803    260\n",
      "201903    226\n",
      "Name: count, Length: 94, dtype: int64\n"
     ]
    }
   ],
   "source": [
    "date_counts = result['ddate'].value_counts()\n",
    "\n",
    "print(date_counts)"
   ]
  },
  {
   "cell_type": "code",
   "execution_count": 200,
   "metadata": {},
   "outputs": [
    {
     "name": "stdout",
     "output_type": "stream",
     "text": [
      "Y\n",
      "2022    21105\n",
      "2021    20816\n",
      "2020    20446\n",
      "2019    19990\n",
      "2018    19566\n",
      "2017    19080\n",
      "2016    18364\n",
      "2023    17799\n",
      "Name: count, dtype: int64\n",
      "M\n",
      "10    13492\n",
      "09    13466\n",
      "08    13440\n",
      "07    13406\n",
      "06    13363\n",
      "05    13336\n",
      "04    13313\n",
      "03    13305\n",
      "02    13283\n",
      "01    13276\n",
      "12    11766\n",
      "11    11720\n",
      "Name: count, dtype: int64\n"
     ]
    }
   ],
   "source": [
    "origin_counts = merged['ddate'].value_counts()\n",
    "#print(origin_counts)\n",
    "\n",
    "merged['Y'] = merged['ddate'].astype(str).str[:4]\n",
    "origin_Ycounts = merged['Y'].value_counts()\n",
    "print(origin_Ycounts)\n",
    "\n",
    "merged['M'] = merged['ddate'].astype(str).str[4:6]\n",
    "origin_Mcounts = merged['M'].value_counts()\n",
    "print(origin_Mcounts) "
   ]
  },
  {
   "cell_type": "code",
   "execution_count": 201,
   "metadata": {},
   "outputs": [
    {
     "data": {
      "text/plain": [
       "01    28.532691\n",
       "02    31.288113\n",
       "03    21.240135\n",
       "04    38.699016\n",
       "05    36.915117\n",
       "06    37.386814\n",
       "07    36.834253\n",
       "08    41.004464\n",
       "09    38.095945\n",
       "10    38.022532\n",
       "11    37.380546\n",
       "12    35.169131\n",
       "Name: count, dtype: float64"
      ]
     },
     "execution_count": 201,
     "metadata": {},
     "output_type": "execute_result"
    }
   ],
   "source": [
    "# \"每個月\"兩模型預測相反的個股數 / 兩模型預測的總個股數\n",
    "month_counts/origin_Mcounts*100"
   ]
  },
  {
   "cell_type": "code",
   "execution_count": 202,
   "metadata": {},
   "outputs": [
    {
     "name": "stdout",
     "output_type": "stream",
     "text": [
      "2016    36.517099\n",
      "2017    35.188679\n",
      "2018    34.289073\n",
      "2019    32.066033\n",
      "2020    36.241808\n",
      "2021    37.624904\n",
      "2022    32.499408\n",
      "2023    36.120007\n",
      "Name: count, dtype: float64\n",
      "202108\n",
      "201903\n"
     ]
    }
   ],
   "source": [
    "# \"每年\"兩模型預測相反的個股數 / 兩模型預測的總個股數\n",
    "print(year_counts/origin_Ycounts*100)\n",
    "max_date = (date_counts/origin_counts*100).idxmax()\n",
    "min_date = (date_counts/origin_counts*100).idxmin()\n",
    "\n",
    "# 預測相反比例最大、最小的日期\n",
    "print(max_date)\n",
    "print(min_date)"
   ]
  },
  {
   "cell_type": "code",
   "execution_count": 203,
   "metadata": {},
   "outputs": [],
   "source": [
    "stock_info.rename(columns={'股票代號':'stockid', '指數彙編分類代號':'classi_code'}, inplace=True)\n",
    "# 刪除重複個股資訊\n",
    "stock_info_dedup = stock_info.drop_duplicates(subset='stockid')\n",
    "# 將個股資訊加至result df\n",
    "pred_merge_code = result.merge(stock_info_dedup, on='stockid', how='left')"
   ]
  },
  {
   "cell_type": "code",
   "execution_count": 204,
   "metadata": {},
   "outputs": [
    {
     "name": "stdout",
     "output_type": "stream",
     "text": [
      "        ddate stockid  predict_labels  direction  year month 中文簡稱 上市上櫃  \\\n",
      "16202  202108    1102             0.0        1.0  2021    08   亞泥    1   \n",
      "16203  202108    1103             0.0        1.0  2021    08   嘉泥    1   \n",
      "16204  202108    1210             0.0        1.0  2021    08   大成    1   \n",
      "16205  202108    1215             0.0        1.0  2021    08   卜蜂    1   \n",
      "16206  202108    1216             0.0        1.0  2021    08   統一    1   \n",
      "...       ...     ...             ...        ...   ...   ...  ...  ...   \n",
      "17010  202108    9945             0.0        1.0  2021    08  潤泰新    1   \n",
      "17011  202108    9949             1.0        0.0  2021    08   琉園    2   \n",
      "17012  202108    9958             0.0        1.0  2021    08  世紀鋼    1   \n",
      "17013  202108    9960             0.0        1.0  2021    08  邁達康    2   \n",
      "17014  202108    9962             1.0        0.0  2021    08   有益    2   \n",
      "\n",
      "      classi_code   指數彙編分類  \n",
      "16202      C11010    傳產-水泥  \n",
      "16203      C11010    傳產-水泥  \n",
      "16204      C12010    傳產-食品  \n",
      "16205      C12010    傳產-食品  \n",
      "16206      C12010    傳產-食品  \n",
      "...           ...      ...  \n",
      "17010      C29020    傳產-其他  \n",
      "17011      C29020    傳產-其他  \n",
      "17012      C20010    傳產-鋼鐵  \n",
      "17013      C30010  傳產-高爾夫球  \n",
      "17014      C20010    傳產-鋼鐵  \n",
      "\n",
      "[813 rows x 10 columns]\n"
     ]
    }
   ],
   "source": [
    "print(pred_merge_code[pred_merge_code['ddate']==202108])"
   ]
  },
  {
   "cell_type": "code",
   "execution_count": 205,
   "metadata": {},
   "outputs": [
    {
     "name": "stdout",
     "output_type": "stream",
     "text": [
      "   classi_code          指數彙編分類  counts\n",
      "7       C17020           傳產-生技    4347\n",
      "67      C29020           傳產-其他    3932\n",
      "14      C23010      電子上游-IC-設計    3101\n",
      "59      C25010           傳產-營建    2719\n",
      "4       C15010           傳產-電機    2039\n",
      "..         ...             ...     ...\n",
      "68      C29030          傳產-自行車     152\n",
      "53      C23410       電子下游-手機製造     105\n",
      "12      C22010           傳產-汽車     103\n",
      "45      C23320       電子下游-電信服務      86\n",
      "16      C23030  電子上游-IC-DRAM製造      49\n",
      "\n",
      "[70 rows x 3 columns]\n"
     ]
    }
   ],
   "source": [
    "# 計算各種產業兩個模型判斷相反的次數，並降序排列\n",
    "count_classi = pred_merge_code.groupby(['classi_code', '指數彙編分類']).size().reset_index(name='counts').sort_values(by='counts', ascending=False)\n",
    "print(count_classi)"
   ]
  },
  {
   "cell_type": "code",
   "execution_count": 206,
   "metadata": {},
   "outputs": [
    {
     "name": "stdout",
     "output_type": "stream",
     "text": [
      "    classi_code          指數彙編分類  year  counts\n",
      "63       C17020           傳產-生技  2023     506\n",
      "543      C29020           傳產-其他  2023     485\n",
      "119      C23010      電子上游-IC-設計  2023     388\n",
      "479      C25010           傳產-營建  2023     295\n",
      "39       C15010           傳產-電機  2023     238\n",
      "..          ...             ...   ...     ...\n",
      "431      C23410       電子下游-手機製造  2023      15\n",
      "559      C30010         傳產-高爾夫球  2023      13\n",
      "343      C23290       電子下游-數位相機  2023       9\n",
      "367      C23320       電子下游-電信服務  2023       9\n",
      "135      C23030  電子上游-IC-DRAM製造  2023       6\n",
      "\n",
      "[70 rows x 4 columns]\n",
      "    classi_code          指數彙編分類  year  counts\n",
      "62       C17020           傳產-生技  2022     602\n",
      "542      C29020           傳產-其他  2022     536\n",
      "478      C25010           傳產-營建  2022     339\n",
      "118      C23010      電子上游-IC-設計  2022     336\n",
      "38       C15010           傳產-電機  2022     238\n",
      "..          ...             ...   ...     ...\n",
      "390      C23360        電子下游-掃描器  2022      14\n",
      "430      C23410       電子下游-手機製造  2022      13\n",
      "70       C18010         傳產-玻璃陶瓷  2022      10\n",
      "366      C23320       電子下游-電信服務  2022      10\n",
      "134      C23030  電子上游-IC-DRAM製造  2022       2\n",
      "\n",
      "[70 rows x 4 columns]\n"
     ]
    }
   ],
   "source": [
    "count_classi_y = pred_merge_code.groupby(['classi_code', '指數彙編分類', 'year']).size().reset_index(name='counts').sort_values(by=['year','counts'], ascending=False)\n",
    "print(count_classi_y[count_classi_y['year']=='2023'])\n",
    "\n",
    "print(count_classi_y[count_classi_y['year']=='2022'])"
   ]
  },
  {
   "cell_type": "code",
   "execution_count": 207,
   "metadata": {},
   "outputs": [],
   "source": [
    "# 將 merged(兩模型都有預測的個股)加上股票產業彙編碼\n",
    "merged_merge_code = merged.merge(stock_info_dedup, on='stockid', how='left')\n",
    "#print(merged_merge_code)"
   ]
  },
  {
   "cell_type": "code",
   "execution_count": 208,
   "metadata": {},
   "outputs": [
    {
     "name": "stdout",
     "output_type": "stream",
     "text": [
      "   classi_code          指數彙編分類  counts\n",
      "7       C17020           傳產-生技   11502\n",
      "67      C29020           傳產-其他   11068\n",
      "14      C23010      電子上游-IC-設計    8069\n",
      "59      C25010           傳產-營建    7488\n",
      "4       C15010           傳產-電機    6479\n",
      "..         ...             ...     ...\n",
      "8       C18010         傳產-玻璃陶瓷     470\n",
      "42      C23290       電子下游-數位相機     376\n",
      "53      C23410       電子下游-手機製造     285\n",
      "45      C23320       電子下游-電信服務     282\n",
      "16      C23030  電子上游-IC-DRAM製造      94\n",
      "\n",
      "[70 rows x 3 columns]\n"
     ]
    }
   ],
   "source": [
    "# 計算各產業數量(全，非僅包含預測相反者)\n",
    "merge_count = merged_merge_code.groupby(['classi_code', '指數彙編分類']).size().reset_index(name='counts').sort_values(by=['counts'], ascending=False)\n",
    "print(merge_count)"
   ]
  },
  {
   "cell_type": "code",
   "execution_count": 209,
   "metadata": {},
   "outputs": [],
   "source": [
    "# 兩模型在各產業預測相反的比例 = 各產業不分時間預測相反總數量/兩模型都有預測的數量\n",
    "\n",
    "# merge the df on 'classi_code'\n",
    "ratio_merge = pd.merge(count_classi, merge_count, on=['classi_code', '指數彙編分類'], suffixes=('_c', '_m'))\n",
    "\n",
    "# Calvulate the ratio and create new column\n",
    "ratio_merge['ratio'] = ratio_merge['counts_c'] / ratio_merge['counts_m'] *100\n",
    "\n",
    "# 依照占比降續排列\n",
    "ratio_merge = ratio_merge.sort_values('ratio', ascending=False)\n",
    "#print(len(ratio_merge[['classi_code','指數彙編分類', 'ratio']])) #70"
   ]
  },
  {
   "cell_type": "code",
   "execution_count": 210,
   "metadata": {},
   "outputs": [
    {
     "name": "stdout",
     "output_type": "stream",
     "text": [
      "電子上游: 76.92 電子中游: 40.0 電子下游: 50.0 軟體: 66.67 傳產: 47.62\n"
     ]
    }
   ],
   "source": [
    "# 計算預測相反比例前35高的產業(共70個產業)，電子上游、中游、下游、software 與傳產的數量\n",
    "HighRatio35 = ratio_merge[['classi_code','指數彙編分類', 'ratio']][:35]\n",
    "\n",
    "count_eeupstream = round(HighRatio35['指數彙編分類'].str.contains('電子上游').sum() / ratio_merge['指數彙編分類'].str.contains('電子上游').sum() *100, 2)\n",
    "count_eemidstream = round(HighRatio35['指數彙編分類'].str.contains('電子中游').sum() / ratio_merge['指數彙編分類'].str.contains('電子中游').sum() *100, 2)\n",
    "count_eedownstream = round(HighRatio35['指數彙編分類'].str.contains('電子下游').sum() / ratio_merge['指數彙編分類'].str.contains('電子下游').sum() *100, 2)\n",
    "count_software = round(HighRatio35['指數彙編分類'].str.contains('軟體').sum() / ratio_merge['指數彙編分類'].str.contains('軟體').sum() *100, 2)\n",
    "count_traditional =round( HighRatio35['指數彙編分類'].str.contains('傳產').sum() / ratio_merge['指數彙編分類'].str.contains('傳產').sum() *100, 2)\n",
    "print('電子上游:', count_eeupstream, '電子中游:', count_eemidstream, '電子下游:', count_eedownstream, '軟體:', count_software, '傳產:', count_traditional)\n"
   ]
  },
  {
   "cell_type": "code",
   "execution_count": 211,
   "metadata": {},
   "outputs": [],
   "source": [
    "# 針對電子上游產業觀察兩模型預測1和0的數量\n",
    "stock_df = stock_info_dedup.dropna()\n",
    "ee_upstream = stock_df[stock_df['指數彙編分類'].str.contains('電子上游')] #404"
   ]
  },
  {
   "cell_type": "code",
   "execution_count": 212,
   "metadata": {},
   "outputs": [
    {
     "name": "stdout",
     "output_type": "stream",
     "text": [
      "139        電子上游-IC-通路\n",
      "142         電子上游-連接元件\n",
      "151     電子上游-PCB-材料設備\n",
      "295      電子上游-LED及光元件\n",
      "299        電子上游-IC-代工\n",
      "303       電子上游-PCB-製造\n",
      "310         電子上游-被動元件\n",
      "312        電子上游-IC-封測\n",
      "316        電子上游-IC-製造\n",
      "317        電子上游-IC-其他\n",
      "319       電子上游-DRAM銷售\n",
      "336        電子上游-IC-設計\n",
      "366    電子上游-IC-DRAM製造\n",
      "Name: 指數彙編分類, dtype: object\n"
     ]
    }
   ],
   "source": [
    "# 所有電子上游類別\n",
    "uni_up = ee_upstream['指數彙編分類'].drop_duplicates()\n",
    "print(uni_up)"
   ]
  },
  {
   "cell_type": "code",
   "execution_count": 213,
   "metadata": {},
   "outputs": [
    {
     "name": "stdout",
     "output_type": "stream",
     "text": [
      "電子上游-IC-DRAM製造\n",
      "logit_prediction: 19.0 dream report prediction: 30.0\n"
     ]
    }
   ],
   "source": [
    "# 電子上游-IC-DRAM製造 \n",
    "# 計算夢幻、logit預測的0與1數目\n",
    "logit_pred_eeupstream = pred_merge_code[pred_merge_code['指數彙編分類']=='電子上游-IC-DRAM製造']['predict_labels'].sum()\n",
    "dream_pred_eeupstream = pred_merge_code[pred_merge_code['指數彙編分類']=='電子上游-IC-DRAM製造']['direction'].sum()\n",
    "\n",
    "print('電子上游-IC-DRAM製造')\n",
    "print('logit_prediction:', logit_pred_eeupstream, 'dream report prediction:', dream_pred_eeupstream)\n",
    " # all 49"
   ]
  },
  {
   "cell_type": "code",
   "execution_count": 214,
   "metadata": {},
   "outputs": [
    {
     "name": "stdout",
     "output_type": "stream",
     "text": [
      "電子上游-IC-製造\n",
      "logit_prediction: 71.0 dream report prediction: 297.0\n"
     ]
    }
   ],
   "source": [
    "# 電子上游-IC-製造\n",
    "logit_pred_ICmanufact = pred_merge_code[pred_merge_code['指數彙編分類']=='電子上游-IC-製造']['predict_labels'].sum()\n",
    "dream_pred_ICmanufact = pred_merge_code[pred_merge_code['指數彙編分類']=='電子上游-IC-製造']['direction'].sum()\n",
    "\n",
    "print('電子上游-IC-製造')\n",
    "print('logit_prediction:', logit_pred_ICmanufact, 'dream report prediction:', dream_pred_ICmanufact)\n",
    "#len( pred_merge_code[pred_merge_code['指數彙編分類']=='電子上游-IC-製造']['direction']) # all 368\n"
   ]
  },
  {
   "cell_type": "code",
   "execution_count": 215,
   "metadata": {},
   "outputs": [
    {
     "name": "stdout",
     "output_type": "stream",
     "text": [
      "電子上游-IC-代工\n",
      "logit_prediction: 52.0 dream report prediction: 239.0\n"
     ]
    }
   ],
   "source": [
    "# 電子上游-IC-代工\n",
    "logit_pred_ICOEM = pred_merge_code[pred_merge_code['指數彙編分類']=='電子上游-IC-代工']['predict_labels'].sum()\n",
    "dream_pred_ICOEM = pred_merge_code[pred_merge_code['指數彙編分類']=='電子上游-IC-代工']['direction'].sum()\n",
    "\n",
    "print('電子上游-IC-代工')\n",
    "print('logit_prediction:', logit_pred_ICOEM, 'dream report prediction:', dream_pred_ICOEM)\n",
    "\n",
    "#len( pred_merge_code[pred_merge_code['指數彙編分類']=='電子上游-IC-代工']['direction']) # all 291"
   ]
  },
  {
   "cell_type": "code",
   "execution_count": 216,
   "metadata": {},
   "outputs": [
    {
     "name": "stdout",
     "output_type": "stream",
     "text": [
      "傳產-汽車\n",
      "logit_prediction: 66.0 dream report prediction: 37.0\n"
     ]
    }
   ],
   "source": [
    "# 意見分歧低\n",
    "# 傳產-汽車\n",
    "logit_pred_car = pred_merge_code[pred_merge_code['指數彙編分類']=='傳產-汽車']['predict_labels'].sum()\n",
    "dream_pred_car = pred_merge_code[pred_merge_code['指數彙編分類']=='傳產-汽車']['direction'].sum()\n",
    "\n",
    "print('傳產-汽車')\n",
    "print('logit_prediction:', logit_pred_car, 'dream report prediction:', dream_pred_car)"
   ]
  },
  {
   "cell_type": "code",
   "execution_count": 217,
   "metadata": {},
   "outputs": [
    {
     "name": "stdout",
     "output_type": "stream",
     "text": [
      "電子下游-筆記型電腦\n",
      "logit_prediction: 101.0 dream report prediction: 92.0\n"
     ]
    }
   ],
   "source": [
    "# 電子下游-筆記型電腦\n",
    "logit_pred_pc = pred_merge_code[pred_merge_code['指數彙編分類']=='電子下游-筆記型電腦']['predict_labels'].sum()\n",
    "dream_pred_pc = pred_merge_code[pred_merge_code['指數彙編分類']=='電子下游-筆記型電腦']['direction'].sum()\n",
    "\n",
    "print('電子下游-筆記型電腦')\n",
    "print('logit_prediction:', logit_pred_pc, 'dream report prediction:', dream_pred_pc)"
   ]
  },
  {
   "cell_type": "code",
   "execution_count": 218,
   "metadata": {},
   "outputs": [
    {
     "name": "stdout",
     "output_type": "stream",
     "text": [
      "result\n",
      "1    19\n",
      "0    16\n",
      "Name: count, dtype: int64\n",
      "                predict_labels  direction result\n",
      "指數彙編分類                                          \n",
      "電子上游-IC-DRAM製造            19.0       30.0      1\n",
      "電子上游-IC-製造                71.0      297.0      1\n",
      "電子上游-IC-代工                52.0      239.0      1\n",
      "電子下游-光碟片                 184.0       95.0      0\n",
      "軟體-其他                    213.0      384.0      1\n",
      "電子下游-數位相機                 82.0       69.0      0\n",
      "軟體-遊戲                    243.0      261.0      1\n",
      "電子中游-NB與手機零組件            472.0      591.0      1\n",
      "傳產-橡膠                    273.0      152.0      0\n",
      "電子上游-IC-設計              1034.0     2060.0      1\n",
      "電子中游-PC介面卡                72.0      142.0      1\n",
      "傳產-生技                   1162.0     2933.0      1\n",
      "電子上游-IC-封測               328.0      562.0      1\n",
      "電子下游-安全監控                319.0      160.0      0\n",
      "電子中游-其他                  501.0      460.0      0\n",
      "電子中游-LCD-TFT面板           174.0       94.0      0\n",
      "傳產-觀光                    700.0      660.0      0\n",
      "電子下游-太陽能                 203.0      195.0      0\n",
      "電子下游-手機製造                 87.0       18.0      0\n",
      "電子上游-LED及光元件             707.0      442.0      0\n",
      "電子中游-LCD-零組件             457.0      229.0      0\n",
      "電子上游-IC-通路               332.0      489.0      1\n",
      "傳產-營建                   1020.0     1595.0      1\n",
      "電子上游-PCB-製造              679.0      663.0      0\n",
      "傳產-航運                    438.0      553.0      1\n",
      "電子下游-商業自動化               123.0      147.0      1\n",
      "傳產-紙業                    106.0      102.0      0\n",
      "電子下游-顯示器                 119.0      142.0      1\n",
      "傳產-百貨                    592.0      436.0      0\n",
      "傳產-其他                   1752.0     2157.0      1\n",
      "電子中游-變壓器與UPS             265.0      239.0      0\n",
      "傳產-水泥                    145.0       87.0      0\n",
      "傳產-鋼鐵                    772.0      839.0      1\n",
      "電子上游-被動元件                442.0      703.0      1\n",
      "電子上游-IC-其他               210.0      269.0      1\n"
     ]
    }
   ],
   "source": [
    "# 計算兩模型預測相反，比例最高的前35個產業中，有多少是夢幻預測上漲(1)的數量大於 logit model\n",
    "\n",
    "# Group by '指數彙編分類' and calculate the sum of 'predict_labels' and 'direction'\n",
    "grouped = pred_merge_code.groupby('指數彙編分類')[['predict_labels', 'direction']].sum()\n",
    "\n",
    "grouped['result'] = np.where(grouped['direction'] > grouped['predict_labels'], 1, np.where(grouped['direction'] == grouped['predict_labels'], 'even', 0))\n",
    "HighRatio35_industry = HighRatio35['指數彙編分類']\n",
    "\n",
    "# Filter the grouped DataFrame\n",
    "grouped = grouped[grouped.index.isin(HighRatio35_industry)]\n",
    "\n",
    "# Reindex the grouped DataFrame to match the order of HighRatio35_industry\n",
    "grouped = grouped.reindex(HighRatio35_industry)\n",
    "\n",
    "result_counts = grouped['result'].value_counts()\n",
    "\n",
    "print(result_counts)\n",
    "print(grouped)\n"
   ]
  },
  {
   "cell_type": "code",
   "execution_count": 219,
   "metadata": {},
   "outputs": [],
   "source": [
    "# 計算兩模型預測相反，比例最高的前35個產業中，有多少是夢幻預測上漲(1)的數量小於 logit model\n",
    "\n"
   ]
  },
  {
   "cell_type": "code",
   "execution_count": 220,
   "metadata": {},
   "outputs": [
    {
     "name": "stdout",
     "output_type": "stream",
     "text": [
      "                predict_labels  direction result\n",
      "指數彙編分類                                          \n",
      "電子上游-IC-DRAM製造            19.0       30.0      1\n",
      "電子上游-IC-製造                71.0      297.0      1\n",
      "電子上游-IC-代工                52.0      239.0      1\n",
      "電子上游-IC-設計              1034.0     2060.0      1\n",
      "電子上游-IC-封測               328.0      562.0      1\n",
      "電子上游-LED及光元件             707.0      442.0      0\n",
      "電子上游-IC-通路               332.0      489.0      1\n",
      "電子上游-PCB-製造              679.0      663.0      0\n",
      "電子上游-被動元件                442.0      703.0      1\n",
      "電子上游-IC-其他               210.0      269.0      1\n",
      "        predict_labels  direction result\n",
      "指數彙編分類                                  \n",
      "傳產-橡膠            273.0      152.0      0\n",
      "傳產-生技           1162.0     2933.0      1\n",
      "傳產-觀光            700.0      660.0      0\n",
      "傳產-營建           1020.0     1595.0      1\n",
      "傳產-航運            438.0      553.0      1\n",
      "傳產-紙業            106.0      102.0      0\n",
      "傳產-百貨            592.0      436.0      0\n",
      "傳產-其他           1752.0     2157.0      1\n",
      "傳產-水泥            145.0       87.0      0\n",
      "傳產-鋼鐵            772.0      839.0      1\n"
     ]
    }
   ],
   "source": [
    "# 電子上游 - 1 居多\n",
    "print(grouped[grouped.index.str.contains('電子上游')])\n",
    "\n",
    "# 傳產 - 0&1 各半\n",
    "print(grouped[grouped.index.str.contains('傳產')])\n"
   ]
  },
  {
   "cell_type": "code",
   "execution_count": 221,
   "metadata": {},
   "outputs": [
    {
     "name": "stdout",
     "output_type": "stream",
     "text": [
      "         ddate  stockid  direction\n",
      "0       202310     1101          1\n",
      "1       202310     1102          1\n",
      "2       202310     1103          1\n",
      "3       202310     1104          1\n",
      "4       202310     1108          1\n",
      "...        ...      ...        ...\n",
      "205195  201401     9951          1\n",
      "205196  201401     9955          0\n",
      "205197  201401     9958          0\n",
      "205198  201401     9960          0\n",
      "205199  201401     9962          0\n",
      "\n",
      "[201965 rows x 3 columns]\n"
     ]
    }
   ],
   "source": [
    "# 電子上游準確性\n",
    "\n",
    "# 營收真實發展方向\n",
    "real_direction = df[['ddate', 'stockid', 'direction']]\n",
    "print(real_direction)"
   ]
  },
  {
   "cell_type": "code",
   "execution_count": 239,
   "metadata": {},
   "outputs": [
    {
     "name": "stdout",
     "output_type": "stream",
     "text": [
      "    ddate stockid  direction 指數彙編分類\n",
      "0  202503    1213        0.0  傳產-食品\n",
      "1  202503    1220        1.0  傳產-食品\n",
      "2  202503    1225        1.0  傳產-食品\n",
      "3  202503    1236        0.0  傳產-食品\n",
      "4  202503    1256        1.0  傳產-食品\n",
      "186845\n"
     ]
    }
   ],
   "source": [
    "Dream_report_class = Dream_report.merge(stock_info_dedup[['指數彙編分類', 'stockid']], on='stockid', how='left')\n",
    "print(Dream_report_class.head())\n",
    "print(len(Dream_report_class))"
   ]
  },
  {
   "cell_type": "code",
   "execution_count": 238,
   "metadata": {},
   "outputs": [
    {
     "name": "stdout",
     "output_type": "stream",
     "text": [
      "    ddate stockid  predict_labels 指數彙編分類\n",
      "0  202310    1101             1.0  傳產-水泥\n",
      "1  202310    1102             1.0  傳產-水泥\n",
      "2  202310    1103             0.0  傳產-水泥\n",
      "3  202310    1104             1.0  傳產-水泥\n",
      "4  202310    1108             1.0  傳產-水泥\n",
      "201965\n"
     ]
    }
   ],
   "source": [
    "logit_direction_class = logit_direction.merge(stock_info_dedup[['指數彙編分類', 'stockid']], on='stockid', how='left')\n",
    "print(logit_direction_class.head())\n",
    "print(len(logit_direction_class))"
   ]
  },
  {
   "cell_type": "code",
   "execution_count": 240,
   "metadata": {},
   "outputs": [
    {
     "name": "stdout",
     "output_type": "stream",
     "text": [
      "         ddate stockid  direction    指數彙編分類  predict_labels\n",
      "0       202310    1101        1.0     傳產-水泥             1.0\n",
      "1       202310    1102        1.0     傳產-水泥             1.0\n",
      "2       202310    1103        1.0     傳產-水泥             0.0\n",
      "3       202310    1104        1.0     傳產-水泥             1.0\n",
      "4       202310    1108        1.0     傳產-水泥             1.0\n",
      "...        ...     ...        ...       ...             ...\n",
      "157161  201601    9951        1.0  傳產-汽車零組件             0.0\n",
      "157162  201601    9955        0.0     傳產-其他             1.0\n",
      "157163  201601    9958        0.0     傳產-鋼鐵             0.0\n",
      "157164  201601    9960        0.0   傳產-高爾夫球             0.0\n",
      "157165  201601    9962        0.0     傳產-鋼鐵             1.0\n",
      "\n",
      "[157166 rows x 5 columns]\n"
     ]
    }
   ],
   "source": [
    "# merge 3 dataframes and calculate the accuracy\n",
    "df_DL = Dream_report_class.merge(logit_direction_class, on=['ddate', 'stockid', '指數彙編分類'], how='inner')\n",
    "print(df_DL)"
   ]
  },
  {
   "cell_type": "code",
   "execution_count": 242,
   "metadata": {},
   "outputs": [
    {
     "ename": "ValueError",
     "evalue": "You are trying to merge on object and int64 columns for key 'stockid'. If you wish to proceed you should use pd.concat",
     "output_type": "error",
     "traceback": [
      "\u001b[1;31m---------------------------------------------------------------------------\u001b[0m",
      "\u001b[1;31mValueError\u001b[0m                                Traceback (most recent call last)",
      "Cell \u001b[1;32mIn[242], line 1\u001b[0m\n\u001b[1;32m----> 1\u001b[0m df_ABC \u001b[38;5;241m=\u001b[39m \u001b[43mdf_DL\u001b[49m\u001b[38;5;241;43m.\u001b[39;49m\u001b[43mmerge\u001b[49m\u001b[43m(\u001b[49m\u001b[43mdf\u001b[49m\u001b[43m[\u001b[49m\u001b[43m[\u001b[49m\u001b[38;5;124;43m'\u001b[39;49m\u001b[38;5;124;43mddate\u001b[39;49m\u001b[38;5;124;43m'\u001b[39;49m\u001b[43m,\u001b[49m\u001b[43m \u001b[49m\u001b[38;5;124;43m'\u001b[39;49m\u001b[38;5;124;43mstockid\u001b[39;49m\u001b[38;5;124;43m'\u001b[39;49m\u001b[43m,\u001b[49m\u001b[43m \u001b[49m\u001b[38;5;124;43m'\u001b[39;49m\u001b[38;5;124;43mdirection\u001b[39;49m\u001b[38;5;124;43m'\u001b[39;49m\u001b[43m]\u001b[49m\u001b[43m]\u001b[49m\u001b[43m,\u001b[49m\u001b[43m \u001b[49m\u001b[43mon\u001b[49m\u001b[38;5;241;43m=\u001b[39;49m\u001b[43m[\u001b[49m\u001b[38;5;124;43m'\u001b[39;49m\u001b[38;5;124;43mddate\u001b[39;49m\u001b[38;5;124;43m'\u001b[39;49m\u001b[43m,\u001b[49m\u001b[43m \u001b[49m\u001b[38;5;124;43m'\u001b[39;49m\u001b[38;5;124;43mstockid\u001b[39;49m\u001b[38;5;124;43m'\u001b[39;49m\u001b[43m]\u001b[49m\u001b[43m,\u001b[49m\u001b[43m \u001b[49m\u001b[43msuffixes\u001b[49m\u001b[38;5;241;43m=\u001b[39;49m\u001b[43m(\u001b[49m\u001b[38;5;124;43m'\u001b[39;49m\u001b[38;5;124;43m_A\u001b[39;49m\u001b[38;5;124;43m'\u001b[39;49m\u001b[43m,\u001b[49m\u001b[43m \u001b[49m\u001b[38;5;124;43m'\u001b[39;49m\u001b[38;5;124;43m_ABC\u001b[39;49m\u001b[38;5;124;43m'\u001b[39;49m\u001b[43m)\u001b[49m\u001b[43m)\u001b[49m\n\u001b[0;32m      2\u001b[0m df_ABC\n",
      "File \u001b[1;32mc:\\Users\\user1\\anaconda3\\envs\\rev_pred_env\\lib\\site-packages\\pandas\\core\\frame.py:10487\u001b[0m, in \u001b[0;36mDataFrame.merge\u001b[1;34m(self, right, how, on, left_on, right_on, left_index, right_index, sort, suffixes, copy, indicator, validate)\u001b[0m\n\u001b[0;32m  10468\u001b[0m \u001b[38;5;129m@Substitution\u001b[39m(\u001b[38;5;124m\"\u001b[39m\u001b[38;5;124m\"\u001b[39m)\n\u001b[0;32m  10469\u001b[0m \u001b[38;5;129m@Appender\u001b[39m(_merge_doc, indents\u001b[38;5;241m=\u001b[39m\u001b[38;5;241m2\u001b[39m)\n\u001b[0;32m  10470\u001b[0m \u001b[38;5;28;01mdef\u001b[39;00m \u001b[38;5;21mmerge\u001b[39m(\n\u001b[1;32m   (...)\u001b[0m\n\u001b[0;32m  10483\u001b[0m     validate: MergeValidate \u001b[38;5;241m|\u001b[39m \u001b[38;5;28;01mNone\u001b[39;00m \u001b[38;5;241m=\u001b[39m \u001b[38;5;28;01mNone\u001b[39;00m,\n\u001b[0;32m  10484\u001b[0m ) \u001b[38;5;241m-\u001b[39m\u001b[38;5;241m>\u001b[39m DataFrame:\n\u001b[0;32m  10485\u001b[0m     \u001b[38;5;28;01mfrom\u001b[39;00m \u001b[38;5;21;01mpandas\u001b[39;00m\u001b[38;5;21;01m.\u001b[39;00m\u001b[38;5;21;01mcore\u001b[39;00m\u001b[38;5;21;01m.\u001b[39;00m\u001b[38;5;21;01mreshape\u001b[39;00m\u001b[38;5;21;01m.\u001b[39;00m\u001b[38;5;21;01mmerge\u001b[39;00m \u001b[38;5;28;01mimport\u001b[39;00m merge\n\u001b[1;32m> 10487\u001b[0m     \u001b[38;5;28;01mreturn\u001b[39;00m \u001b[43mmerge\u001b[49m\u001b[43m(\u001b[49m\n\u001b[0;32m  10488\u001b[0m \u001b[43m        \u001b[49m\u001b[38;5;28;43mself\u001b[39;49m\u001b[43m,\u001b[49m\n\u001b[0;32m  10489\u001b[0m \u001b[43m        \u001b[49m\u001b[43mright\u001b[49m\u001b[43m,\u001b[49m\n\u001b[0;32m  10490\u001b[0m \u001b[43m        \u001b[49m\u001b[43mhow\u001b[49m\u001b[38;5;241;43m=\u001b[39;49m\u001b[43mhow\u001b[49m\u001b[43m,\u001b[49m\n\u001b[0;32m  10491\u001b[0m \u001b[43m        \u001b[49m\u001b[43mon\u001b[49m\u001b[38;5;241;43m=\u001b[39;49m\u001b[43mon\u001b[49m\u001b[43m,\u001b[49m\n\u001b[0;32m  10492\u001b[0m \u001b[43m        \u001b[49m\u001b[43mleft_on\u001b[49m\u001b[38;5;241;43m=\u001b[39;49m\u001b[43mleft_on\u001b[49m\u001b[43m,\u001b[49m\n\u001b[0;32m  10493\u001b[0m \u001b[43m        \u001b[49m\u001b[43mright_on\u001b[49m\u001b[38;5;241;43m=\u001b[39;49m\u001b[43mright_on\u001b[49m\u001b[43m,\u001b[49m\n\u001b[0;32m  10494\u001b[0m \u001b[43m        \u001b[49m\u001b[43mleft_index\u001b[49m\u001b[38;5;241;43m=\u001b[39;49m\u001b[43mleft_index\u001b[49m\u001b[43m,\u001b[49m\n\u001b[0;32m  10495\u001b[0m \u001b[43m        \u001b[49m\u001b[43mright_index\u001b[49m\u001b[38;5;241;43m=\u001b[39;49m\u001b[43mright_index\u001b[49m\u001b[43m,\u001b[49m\n\u001b[0;32m  10496\u001b[0m \u001b[43m        \u001b[49m\u001b[43msort\u001b[49m\u001b[38;5;241;43m=\u001b[39;49m\u001b[43msort\u001b[49m\u001b[43m,\u001b[49m\n\u001b[0;32m  10497\u001b[0m \u001b[43m        \u001b[49m\u001b[43msuffixes\u001b[49m\u001b[38;5;241;43m=\u001b[39;49m\u001b[43msuffixes\u001b[49m\u001b[43m,\u001b[49m\n\u001b[0;32m  10498\u001b[0m \u001b[43m        \u001b[49m\u001b[43mcopy\u001b[49m\u001b[38;5;241;43m=\u001b[39;49m\u001b[43mcopy\u001b[49m\u001b[43m,\u001b[49m\n\u001b[0;32m  10499\u001b[0m \u001b[43m        \u001b[49m\u001b[43mindicator\u001b[49m\u001b[38;5;241;43m=\u001b[39;49m\u001b[43mindicator\u001b[49m\u001b[43m,\u001b[49m\n\u001b[0;32m  10500\u001b[0m \u001b[43m        \u001b[49m\u001b[43mvalidate\u001b[49m\u001b[38;5;241;43m=\u001b[39;49m\u001b[43mvalidate\u001b[49m\u001b[43m,\u001b[49m\n\u001b[0;32m  10501\u001b[0m \u001b[43m    \u001b[49m\u001b[43m)\u001b[49m\n",
      "File \u001b[1;32mc:\\Users\\user1\\anaconda3\\envs\\rev_pred_env\\lib\\site-packages\\pandas\\core\\reshape\\merge.py:169\u001b[0m, in \u001b[0;36mmerge\u001b[1;34m(left, right, how, on, left_on, right_on, left_index, right_index, sort, suffixes, copy, indicator, validate)\u001b[0m\n\u001b[0;32m    154\u001b[0m     \u001b[38;5;28;01mreturn\u001b[39;00m _cross_merge(\n\u001b[0;32m    155\u001b[0m         left_df,\n\u001b[0;32m    156\u001b[0m         right_df,\n\u001b[1;32m   (...)\u001b[0m\n\u001b[0;32m    166\u001b[0m         copy\u001b[38;5;241m=\u001b[39mcopy,\n\u001b[0;32m    167\u001b[0m     )\n\u001b[0;32m    168\u001b[0m \u001b[38;5;28;01melse\u001b[39;00m:\n\u001b[1;32m--> 169\u001b[0m     op \u001b[38;5;241m=\u001b[39m \u001b[43m_MergeOperation\u001b[49m\u001b[43m(\u001b[49m\n\u001b[0;32m    170\u001b[0m \u001b[43m        \u001b[49m\u001b[43mleft_df\u001b[49m\u001b[43m,\u001b[49m\n\u001b[0;32m    171\u001b[0m \u001b[43m        \u001b[49m\u001b[43mright_df\u001b[49m\u001b[43m,\u001b[49m\n\u001b[0;32m    172\u001b[0m \u001b[43m        \u001b[49m\u001b[43mhow\u001b[49m\u001b[38;5;241;43m=\u001b[39;49m\u001b[43mhow\u001b[49m\u001b[43m,\u001b[49m\n\u001b[0;32m    173\u001b[0m \u001b[43m        \u001b[49m\u001b[43mon\u001b[49m\u001b[38;5;241;43m=\u001b[39;49m\u001b[43mon\u001b[49m\u001b[43m,\u001b[49m\n\u001b[0;32m    174\u001b[0m \u001b[43m        \u001b[49m\u001b[43mleft_on\u001b[49m\u001b[38;5;241;43m=\u001b[39;49m\u001b[43mleft_on\u001b[49m\u001b[43m,\u001b[49m\n\u001b[0;32m    175\u001b[0m \u001b[43m        \u001b[49m\u001b[43mright_on\u001b[49m\u001b[38;5;241;43m=\u001b[39;49m\u001b[43mright_on\u001b[49m\u001b[43m,\u001b[49m\n\u001b[0;32m    176\u001b[0m \u001b[43m        \u001b[49m\u001b[43mleft_index\u001b[49m\u001b[38;5;241;43m=\u001b[39;49m\u001b[43mleft_index\u001b[49m\u001b[43m,\u001b[49m\n\u001b[0;32m    177\u001b[0m \u001b[43m        \u001b[49m\u001b[43mright_index\u001b[49m\u001b[38;5;241;43m=\u001b[39;49m\u001b[43mright_index\u001b[49m\u001b[43m,\u001b[49m\n\u001b[0;32m    178\u001b[0m \u001b[43m        \u001b[49m\u001b[43msort\u001b[49m\u001b[38;5;241;43m=\u001b[39;49m\u001b[43msort\u001b[49m\u001b[43m,\u001b[49m\n\u001b[0;32m    179\u001b[0m \u001b[43m        \u001b[49m\u001b[43msuffixes\u001b[49m\u001b[38;5;241;43m=\u001b[39;49m\u001b[43msuffixes\u001b[49m\u001b[43m,\u001b[49m\n\u001b[0;32m    180\u001b[0m \u001b[43m        \u001b[49m\u001b[43mindicator\u001b[49m\u001b[38;5;241;43m=\u001b[39;49m\u001b[43mindicator\u001b[49m\u001b[43m,\u001b[49m\n\u001b[0;32m    181\u001b[0m \u001b[43m        \u001b[49m\u001b[43mvalidate\u001b[49m\u001b[38;5;241;43m=\u001b[39;49m\u001b[43mvalidate\u001b[49m\u001b[43m,\u001b[49m\n\u001b[0;32m    182\u001b[0m \u001b[43m    \u001b[49m\u001b[43m)\u001b[49m\n\u001b[0;32m    183\u001b[0m     \u001b[38;5;28;01mreturn\u001b[39;00m op\u001b[38;5;241m.\u001b[39mget_result(copy\u001b[38;5;241m=\u001b[39mcopy)\n",
      "File \u001b[1;32mc:\\Users\\user1\\anaconda3\\envs\\rev_pred_env\\lib\\site-packages\\pandas\\core\\reshape\\merge.py:804\u001b[0m, in \u001b[0;36m_MergeOperation.__init__\u001b[1;34m(self, left, right, how, on, left_on, right_on, left_index, right_index, sort, suffixes, indicator, validate)\u001b[0m\n\u001b[0;32m    800\u001b[0m \u001b[38;5;28mself\u001b[39m\u001b[38;5;241m.\u001b[39m_validate_tolerance(\u001b[38;5;28mself\u001b[39m\u001b[38;5;241m.\u001b[39mleft_join_keys)\n\u001b[0;32m    802\u001b[0m \u001b[38;5;66;03m# validate the merge keys dtypes. We may need to coerce\u001b[39;00m\n\u001b[0;32m    803\u001b[0m \u001b[38;5;66;03m# to avoid incompatible dtypes\u001b[39;00m\n\u001b[1;32m--> 804\u001b[0m \u001b[38;5;28;43mself\u001b[39;49m\u001b[38;5;241;43m.\u001b[39;49m\u001b[43m_maybe_coerce_merge_keys\u001b[49m\u001b[43m(\u001b[49m\u001b[43m)\u001b[49m\n\u001b[0;32m    806\u001b[0m \u001b[38;5;66;03m# If argument passed to validate,\u001b[39;00m\n\u001b[0;32m    807\u001b[0m \u001b[38;5;66;03m# check if columns specified as unique\u001b[39;00m\n\u001b[0;32m    808\u001b[0m \u001b[38;5;66;03m# are in fact unique.\u001b[39;00m\n\u001b[0;32m    809\u001b[0m \u001b[38;5;28;01mif\u001b[39;00m validate \u001b[38;5;129;01mis\u001b[39;00m \u001b[38;5;129;01mnot\u001b[39;00m \u001b[38;5;28;01mNone\u001b[39;00m:\n",
      "File \u001b[1;32mc:\\Users\\user1\\anaconda3\\envs\\rev_pred_env\\lib\\site-packages\\pandas\\core\\reshape\\merge.py:1479\u001b[0m, in \u001b[0;36m_MergeOperation._maybe_coerce_merge_keys\u001b[1;34m(self)\u001b[0m\n\u001b[0;32m   1473\u001b[0m     \u001b[38;5;66;03m# unless we are merging non-string-like with string-like\u001b[39;00m\n\u001b[0;32m   1474\u001b[0m     \u001b[38;5;28;01melif\u001b[39;00m (\n\u001b[0;32m   1475\u001b[0m         inferred_left \u001b[38;5;129;01min\u001b[39;00m string_types \u001b[38;5;129;01mand\u001b[39;00m inferred_right \u001b[38;5;129;01mnot\u001b[39;00m \u001b[38;5;129;01min\u001b[39;00m string_types\n\u001b[0;32m   1476\u001b[0m     ) \u001b[38;5;129;01mor\u001b[39;00m (\n\u001b[0;32m   1477\u001b[0m         inferred_right \u001b[38;5;129;01min\u001b[39;00m string_types \u001b[38;5;129;01mand\u001b[39;00m inferred_left \u001b[38;5;129;01mnot\u001b[39;00m \u001b[38;5;129;01min\u001b[39;00m string_types\n\u001b[0;32m   1478\u001b[0m     ):\n\u001b[1;32m-> 1479\u001b[0m         \u001b[38;5;28;01mraise\u001b[39;00m \u001b[38;5;167;01mValueError\u001b[39;00m(msg)\n\u001b[0;32m   1481\u001b[0m \u001b[38;5;66;03m# datetimelikes must match exactly\u001b[39;00m\n\u001b[0;32m   1482\u001b[0m \u001b[38;5;28;01melif\u001b[39;00m needs_i8_conversion(lk\u001b[38;5;241m.\u001b[39mdtype) \u001b[38;5;129;01mand\u001b[39;00m \u001b[38;5;129;01mnot\u001b[39;00m needs_i8_conversion(rk\u001b[38;5;241m.\u001b[39mdtype):\n",
      "\u001b[1;31mValueError\u001b[0m: You are trying to merge on object and int64 columns for key 'stockid'. If you wish to proceed you should use pd.concat"
     ]
    }
   ],
   "source": [
    "df_ABC = df_DL.merge(df[['ddate', 'stockid', 'direction']], on=['ddate', 'stockid'], suffixes=('_A', '_ABC'))\n",
    "df_ABC"
   ]
  },
  {
   "cell_type": "code",
   "execution_count": 248,
   "metadata": {},
   "outputs": [
    {
     "name": "stdout",
     "output_type": "stream",
     "text": [
      "         ddate stockid  direction    指數彙編分類  predict_labels  direction_real\n",
      "0       202310    1101        1.0     傳產-水泥             1.0               1\n",
      "1       202310    1102        1.0     傳產-水泥             1.0               1\n",
      "2       202310    1103        1.0     傳產-水泥             0.0               1\n",
      "3       202310    1104        1.0     傳產-水泥             1.0               1\n",
      "4       202310    1108        1.0     傳產-水泥             1.0               1\n",
      "...        ...     ...        ...       ...             ...             ...\n",
      "157161  201601    9951        1.0  傳產-汽車零組件             0.0               0\n",
      "157162  201601    9955        0.0     傳產-其他             1.0               0\n",
      "157163  201601    9958        0.0     傳產-鋼鐵             0.0               0\n",
      "157164  201601    9960        0.0   傳產-高爾夫球             0.0               0\n",
      "157165  201601    9962        0.0     傳產-鋼鐵             1.0               0\n",
      "\n",
      "[157166 rows x 6 columns]\n"
     ]
    }
   ],
   "source": [
    "df_ABC = df_DL.merge(df[['stockid', 'ddate', 'direction']].astype({'stockid': str}), on=['stockid', 'ddate'], suffixes=('', '_real'))\n",
    "\n",
    "print(df_ABC)"
   ]
  }
 ],
 "metadata": {
  "kernelspec": {
   "display_name": "Python 3",
   "language": "python",
   "name": "python3"
  },
  "language_info": {
   "codemirror_mode": {
    "name": "ipython",
    "version": 3
   },
   "file_extension": ".py",
   "mimetype": "text/x-python",
   "name": "python",
   "nbconvert_exporter": "python",
   "pygments_lexer": "ipython3",
   "version": "3.10.13"
  }
 },
 "nbformat": 4,
 "nbformat_minor": 2
}
