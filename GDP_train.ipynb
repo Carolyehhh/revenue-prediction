{
 "cells": [
  {
   "cell_type": "code",
   "execution_count": 103,
   "metadata": {},
   "outputs": [],
   "source": [
    "import pandas as pd\n",
    "import numpy as np\n",
    "# 用於二元目標變數\n",
    "from scipy.stats import pointbiserialr\n",
    "from functools import reduce\n",
    "from sklearn.model_selection import TimeSeriesSplit, cross_val_score, GridSearchCV\n",
    "from sklearn.linear_model import LogisticRegression\n",
    "from sklearn.metrics import roc_curve"
   ]
  },
  {
   "cell_type": "code",
   "execution_count": 125,
   "metadata": {},
   "outputs": [],
   "source": [
    "# Import GDP Data\n",
    "from data import OverallGeneralEcon, df, MacroInfo, JuridicalInfo\n",
    "from module1 import predict_for_month, find_best_threshold, predicted_labels, predicted_accuracy"
   ]
  },
  {
   "cell_type": "code",
   "execution_count": 5,
   "metadata": {},
   "outputs": [
    {
     "data": {
      "text/plain": [
       "'\\nMacroInfo\\n名目有效匯率指數–台灣\\n台灣消費者信心指數\\n台灣消費者信心指數–未來半年國內經濟景氣\\n台灣消費者信心指數–未來半年國內物價水準\\n美國消費者信心指數\\n經濟成長率(GDP)–全年\\n--\\n實質國內生產毛額(GDP)–台幣 -> 只更新到202009\\n實質GDP成長率(台灣) -> 只更新到202212\\n--\\n貨幣總額(M1A)日平均、貨幣總額(M2)日平均、貨幣總額年增率(M1A)日平均\\n臺灣製造業PMI - 新增出口訂單 - 基礎原物料\\n台灣外銷訂單金額–全球\\n消費者物價指數(CPI)、消費者物價指數(CPI)年增率、核心消費者物價指數\\n美國核心PPI、美國核心PPI月增率\\n進口物價指數、出口物價指數年增率\\n\\nsysallunTWESPF\\n外銷訂單_美金計價(百萬美元)_合計_年增率(%)(月)\\n景氣同時指標_工業生產指數(Index 2006=100)_年增率(%)(月)\\n\\nsysTaiStaValMAC\\n景氣指標統計_景氣領先指標不含趨勢指數(點)_年增率(%)(月)\\n\\n其他\\n財報、營收\\n'"
      ]
     },
     "execution_count": 5,
     "metadata": {},
     "output_type": "execute_result"
    }
   ],
   "source": [
    "# 名目、實質、時間\n",
    "\"\"\"\n",
    "MacroInfo\n",
    "名目有效匯率指數–台灣\n",
    "台灣消費者信心指數\n",
    "台灣消費者信心指數–未來半年國內經濟景氣\n",
    "台灣消費者信心指數–未來半年國內物價水準\n",
    "美國消費者信心指數\n",
    "經濟成長率(GDP)–全年\n",
    "--\n",
    "實質國內生產毛額(GDP)–台幣 -> 只更新到202009\n",
    "實質GDP成長率(台灣) -> 只更新到202212\n",
    "--\n",
    "貨幣總額(M1A)日平均、貨幣總額(M2)日平均、貨幣總額年增率(M1A)日平均\n",
    "臺灣製造業PMI - 新增出口訂單 - 基礎原物料\n",
    "台灣外銷訂單金額–全球\n",
    "消費者物價指數(CPI)、消費者物價指數(CPI)年增率、核心消費者物價指數\n",
    "美國核心PPI、美國核心PPI月增率\n",
    "進口物價指數、出口物價指數年增率\n",
    "\n",
    "sysallunTWESPF\n",
    "外銷訂單_美金計價(百萬美元)_合計_年增率(%)(月)\n",
    "景氣同時指標_工業生產指數(Index 2006=100)_年增率(%)(月)\n",
    "\n",
    "sysTaiStaValMAC\n",
    "景氣指標統計_景氣領先指標不含趨勢指數(點)_年增率(%)(月)\n",
    "\n",
    "其他\n",
    "財報、營收\n",
    "\"\"\""
   ]
  },
  {
   "cell_type": "markdown",
   "metadata": {},
   "source": [
    "#### *【步驟：資料處理 → 分割 train、test dataset → model fit  → 計算出機率&閾值 → 計算準確率】"
   ]
  },
  {
   "cell_type": "markdown",
   "metadata": {},
   "source": [
    "### 總經資料處理"
   ]
  },
  {
   "cell_type": "code",
   "execution_count": 6,
   "metadata": {},
   "outputs": [
    {
     "data": {
      "text/html": [
       "<div>\n",
       "<style scoped>\n",
       "    .dataframe tbody tr th:only-of-type {\n",
       "        vertical-align: middle;\n",
       "    }\n",
       "\n",
       "    .dataframe tbody tr th {\n",
       "        vertical-align: top;\n",
       "    }\n",
       "\n",
       "    .dataframe thead th {\n",
       "        text-align: right;\n",
       "    }\n",
       "</style>\n",
       "<table border=\"1\" class=\"dataframe\">\n",
       "  <thead>\n",
       "    <tr style=\"text-align: right;\">\n",
       "      <th></th>\n",
       "      <th>ddate</th>\n",
       "      <th>value</th>\n",
       "      <th>category</th>\n",
       "    </tr>\n",
       "  </thead>\n",
       "  <tbody>\n",
       "    <tr>\n",
       "      <th>1879</th>\n",
       "      <td>202311</td>\n",
       "      <td>101.05</td>\n",
       "      <td>名目有效匯率指數–台灣</td>\n",
       "    </tr>\n",
       "    <tr>\n",
       "      <th>3095</th>\n",
       "      <td>202310</td>\n",
       "      <td>100.99</td>\n",
       "      <td>名目有效匯率指數–台灣</td>\n",
       "    </tr>\n",
       "    <tr>\n",
       "      <th>4896</th>\n",
       "      <td>202309</td>\n",
       "      <td>101.07</td>\n",
       "      <td>名目有效匯率指數–台灣</td>\n",
       "    </tr>\n",
       "  </tbody>\n",
       "</table>\n",
       "</div>"
      ],
      "text/plain": [
       "       ddate   value     category\n",
       "1879  202311  101.05  名目有效匯率指數–台灣\n",
       "3095  202310  100.99  名目有效匯率指數–台灣\n",
       "4896  202309  101.07  名目有效匯率指數–台灣"
      ]
     },
     "metadata": {},
     "output_type": "display_data"
    },
    {
     "data": {
      "text/html": [
       "<div>\n",
       "<style scoped>\n",
       "    .dataframe tbody tr th:only-of-type {\n",
       "        vertical-align: middle;\n",
       "    }\n",
       "\n",
       "    .dataframe tbody tr th {\n",
       "        vertical-align: top;\n",
       "    }\n",
       "\n",
       "    .dataframe thead th {\n",
       "        text-align: right;\n",
       "    }\n",
       "</style>\n",
       "<table border=\"1\" class=\"dataframe\">\n",
       "  <thead>\n",
       "    <tr style=\"text-align: right;\">\n",
       "      <th></th>\n",
       "      <th>ddate</th>\n",
       "      <th>value</th>\n",
       "      <th>category</th>\n",
       "    </tr>\n",
       "  </thead>\n",
       "  <tbody>\n",
       "    <tr>\n",
       "      <th>258660</th>\n",
       "      <td>201403</td>\n",
       "      <td>80.96</td>\n",
       "      <td>台灣消費者信心指數</td>\n",
       "    </tr>\n",
       "    <tr>\n",
       "      <th>260975</th>\n",
       "      <td>201402</td>\n",
       "      <td>82.93</td>\n",
       "      <td>台灣消費者信心指數</td>\n",
       "    </tr>\n",
       "    <tr>\n",
       "      <th>263270</th>\n",
       "      <td>201401</td>\n",
       "      <td>80.83</td>\n",
       "      <td>台灣消費者信心指數</td>\n",
       "    </tr>\n",
       "  </tbody>\n",
       "</table>\n",
       "</div>"
      ],
      "text/plain": [
       "         ddate  value   category\n",
       "258660  201403  80.96  台灣消費者信心指數\n",
       "260975  201402  82.93  台灣消費者信心指數\n",
       "263270  201401  80.83  台灣消費者信心指數"
      ]
     },
     "metadata": {},
     "output_type": "display_data"
    },
    {
     "data": {
      "text/html": [
       "<div>\n",
       "<style scoped>\n",
       "    .dataframe tbody tr th:only-of-type {\n",
       "        vertical-align: middle;\n",
       "    }\n",
       "\n",
       "    .dataframe tbody tr th {\n",
       "        vertical-align: top;\n",
       "    }\n",
       "\n",
       "    .dataframe thead th {\n",
       "        text-align: right;\n",
       "    }\n",
       "</style>\n",
       "<table border=\"1\" class=\"dataframe\">\n",
       "  <thead>\n",
       "    <tr style=\"text-align: right;\">\n",
       "      <th></th>\n",
       "      <th>ddate</th>\n",
       "      <th>value</th>\n",
       "      <th>category</th>\n",
       "    </tr>\n",
       "  </thead>\n",
       "  <tbody>\n",
       "    <tr>\n",
       "      <th>309</th>\n",
       "      <td>202312</td>\n",
       "      <td>2.71</td>\n",
       "      <td>消費者物價指數(CPI)年增率</td>\n",
       "    </tr>\n",
       "    <tr>\n",
       "      <th>1199</th>\n",
       "      <td>202311</td>\n",
       "      <td>2.90</td>\n",
       "      <td>消費者物價指數(CPI)年增率</td>\n",
       "    </tr>\n",
       "    <tr>\n",
       "      <th>2355</th>\n",
       "      <td>202310</td>\n",
       "      <td>3.05</td>\n",
       "      <td>消費者物價指數(CPI)年增率</td>\n",
       "    </tr>\n",
       "  </tbody>\n",
       "</table>\n",
       "</div>"
      ],
      "text/plain": [
       "       ddate  value         category\n",
       "309   202312   2.71  消費者物價指數(CPI)年增率\n",
       "1199  202311   2.90  消費者物價指數(CPI)年增率\n",
       "2355  202310   3.05  消費者物價指數(CPI)年增率"
      ]
     },
     "metadata": {},
     "output_type": "display_data"
    },
    {
     "data": {
      "text/html": [
       "<div>\n",
       "<style scoped>\n",
       "    .dataframe tbody tr th:only-of-type {\n",
       "        vertical-align: middle;\n",
       "    }\n",
       "\n",
       "    .dataframe tbody tr th {\n",
       "        vertical-align: top;\n",
       "    }\n",
       "\n",
       "    .dataframe thead th {\n",
       "        text-align: right;\n",
       "    }\n",
       "</style>\n",
       "<table border=\"1\" class=\"dataframe\">\n",
       "  <thead>\n",
       "    <tr style=\"text-align: right;\">\n",
       "      <th></th>\n",
       "      <th>ddate</th>\n",
       "      <th>value</th>\n",
       "      <th>category</th>\n",
       "    </tr>\n",
       "  </thead>\n",
       "  <tbody>\n",
       "    <tr>\n",
       "      <th>0</th>\n",
       "      <td>202412</td>\n",
       "      <td>1.06</td>\n",
       "      <td>經濟成長率(GDP)–單季</td>\n",
       "    </tr>\n",
       "    <tr>\n",
       "      <th>27</th>\n",
       "      <td>202409</td>\n",
       "      <td>2.12</td>\n",
       "      <td>經濟成長率(GDP)–單季</td>\n",
       "    </tr>\n",
       "    <tr>\n",
       "      <th>42</th>\n",
       "      <td>202406</td>\n",
       "      <td>4.77</td>\n",
       "      <td>經濟成長率(GDP)–單季</td>\n",
       "    </tr>\n",
       "  </tbody>\n",
       "</table>\n",
       "</div>"
      ],
      "text/plain": [
       "     ddate  value       category\n",
       "0   202412   1.06  經濟成長率(GDP)–單季\n",
       "27  202409   2.12  經濟成長率(GDP)–單季\n",
       "42  202406   4.77  經濟成長率(GDP)–單季"
      ]
     },
     "metadata": {},
     "output_type": "display_data"
    }
   ],
   "source": [
    "# Improt data\n",
    "# 名目有效匯率指數\n",
    "NominalExchageRate = MacroInfo[MacroInfo['名稱']=='名目有效匯率指數–台灣'][['年月','數值','名稱']].rename(columns={'年月':'ddate', '數值':'value', '名稱':'category'})\n",
    "display(NominalExchageRate.head(3))\n",
    "\n",
    "# 台灣消費者信心指數\n",
    "TW_ICS = MacroInfo[MacroInfo['名稱']=='台灣消費者信心指數'][['年月','數值','名稱']].rename(columns={'年月':'ddate', '數值':'value', '名稱':'category'})\n",
    "display(TW_ICS.tail(3))\n",
    "\n",
    "# 消費者物價指數(CPI)年增率\n",
    "TW_CPIGrowth = MacroInfo[MacroInfo['名稱']=='消費者物價指數(CPI)年增率'][['年月','數值','名稱']].rename(columns={'年月':'ddate', '數值':'value', '名稱':'category'})\n",
    "display(TW_CPIGrowth.head(3))\n",
    "\n",
    "# 經濟成長率(GDP)–全年\n",
    "TW_GDPGrowth = MacroInfo[MacroInfo['名稱']=='經濟成長率(GDP)–單季'][['年月','數值','名稱']].rename(columns={'年月':'ddate', '數值':'value', '名稱':'category'})\n",
    "display(TW_GDPGrowth.head(3))"
   ]
  },
  {
   "cell_type": "code",
   "execution_count": 7,
   "metadata": {},
   "outputs": [],
   "source": [
    "#JuridicalInfo.columns\n",
    "#上市買賣超金額(百萬)、上櫃買賣超金額(百萬)、合計買進金額(百萬)"
   ]
  },
  {
   "cell_type": "code",
   "execution_count": 8,
   "metadata": {},
   "outputs": [],
   "source": [
    "TW_NominalGDP = OverallGeneralEcon[['time','Nominal_GDP']]\n",
    "TW_NominalGDP = TW_NominalGDP.rename(columns={'time':'ddate'})\n",
    "#print(TW_NominalGDP.head(3))\n",
    "TW_NominalGDP['ddate'] = TW_NominalGDP['ddate'].astype(str)"
   ]
  },
  {
   "cell_type": "code",
   "execution_count": 9,
   "metadata": {},
   "outputs": [],
   "source": [
    "# 將GDP季資料先合併\n",
    "GDP_quarterly = pd.merge(TW_NominalGDP, TW_GDPGrowth, on='ddate', how='left')\n",
    "GDP_quarterly.columns = ['ddate', 'NominalGDP', 'GDP_growth', 'category_GDPgrowth']\n",
    "#GDP_quarterly.head(3)"
   ]
  },
  {
   "cell_type": "code",
   "execution_count": 10,
   "metadata": {},
   "outputs": [],
   "source": [
    "# (月)總經資料\n",
    "dfs = [NominalExchageRate, TW_ICS, TW_CPIGrowth]\n",
    "MergedMacroData = reduce(lambda left, right: pd.merge(left, right, on='ddate', how='left'), dfs)\n",
    "\n",
    "# Rename columns\n",
    "MergedMacroData.columns = ['ddate', 'FX', 'category_FX', 'CCI',\n",
    "                          'category_CCI', 'CPI_growth', 'category_CPIgrowth']\n",
    "\n",
    "#display(MergedMacroData)\n",
    "# FX-Foriegn-exchange rate\n",
    "# CCI-台灣消費者信心指數"
   ]
  },
  {
   "cell_type": "code",
   "execution_count": 11,
   "metadata": {},
   "outputs": [],
   "source": [
    "MergedMacroData = pd.merge(MergedMacroData, GDP_quarterly, on='ddate', how='left')"
   ]
  },
  {
   "cell_type": "code",
   "execution_count": 12,
   "metadata": {},
   "outputs": [],
   "source": [
    "MergedMacroData['NominalGDP'] = MergedMacroData['NominalGDP'].ffill()\n",
    "MergedMacroData['GDP_growth'] = MergedMacroData['GDP_growth'].ffill()\n",
    "MergedMacroData['category_GDPgrowth'] = MergedMacroData['category_GDPgrowth'].ffill()"
   ]
  },
  {
   "cell_type": "code",
   "execution_count": 13,
   "metadata": {},
   "outputs": [
    {
     "data": {
      "text/html": [
       "<div>\n",
       "<style scoped>\n",
       "    .dataframe tbody tr th:only-of-type {\n",
       "        vertical-align: middle;\n",
       "    }\n",
       "\n",
       "    .dataframe tbody tr th {\n",
       "        vertical-align: top;\n",
       "    }\n",
       "\n",
       "    .dataframe thead th {\n",
       "        text-align: right;\n",
       "    }\n",
       "</style>\n",
       "<table border=\"1\" class=\"dataframe\">\n",
       "  <thead>\n",
       "    <tr style=\"text-align: right;\">\n",
       "      <th></th>\n",
       "      <th>ddate</th>\n",
       "      <th>FX</th>\n",
       "      <th>category_FX</th>\n",
       "      <th>CCI</th>\n",
       "      <th>category_CCI</th>\n",
       "      <th>CPI_growth</th>\n",
       "      <th>category_CPIgrowth</th>\n",
       "      <th>NominalGDP</th>\n",
       "      <th>GDP_growth</th>\n",
       "      <th>category_GDPgrowth</th>\n",
       "    </tr>\n",
       "  </thead>\n",
       "  <tbody>\n",
       "    <tr>\n",
       "      <th>0</th>\n",
       "      <td>202311</td>\n",
       "      <td>101.05</td>\n",
       "      <td>名目有效匯率指數–台灣</td>\n",
       "      <td>69.40</td>\n",
       "      <td>台灣消費者信心指數</td>\n",
       "      <td>2.90</td>\n",
       "      <td>消費者物價指數(CPI)年增率</td>\n",
       "      <td>NaN</td>\n",
       "      <td>NaN</td>\n",
       "      <td>NaN</td>\n",
       "    </tr>\n",
       "    <tr>\n",
       "      <th>1</th>\n",
       "      <td>202310</td>\n",
       "      <td>100.99</td>\n",
       "      <td>名目有效匯率指數–台灣</td>\n",
       "      <td>69.06</td>\n",
       "      <td>台灣消費者信心指數</td>\n",
       "      <td>3.05</td>\n",
       "      <td>消費者物價指數(CPI)年增率</td>\n",
       "      <td>NaN</td>\n",
       "      <td>NaN</td>\n",
       "      <td>NaN</td>\n",
       "    </tr>\n",
       "    <tr>\n",
       "      <th>2</th>\n",
       "      <td>202309</td>\n",
       "      <td>101.07</td>\n",
       "      <td>名目有效匯率指數–台灣</td>\n",
       "      <td>66.73</td>\n",
       "      <td>台灣消費者信心指數</td>\n",
       "      <td>2.93</td>\n",
       "      <td>消費者物價指數(CPI)年增率</td>\n",
       "      <td>6093017.0</td>\n",
       "      <td>2.54</td>\n",
       "      <td>經濟成長率(GDP)–單季</td>\n",
       "    </tr>\n",
       "    <tr>\n",
       "      <th>3</th>\n",
       "      <td>202308</td>\n",
       "      <td>100.67</td>\n",
       "      <td>名目有效匯率指數–台灣</td>\n",
       "      <td>67.51</td>\n",
       "      <td>台灣消費者信心指數</td>\n",
       "      <td>2.53</td>\n",
       "      <td>消費者物價指數(CPI)年增率</td>\n",
       "      <td>6093017.0</td>\n",
       "      <td>2.54</td>\n",
       "      <td>經濟成長率(GDP)–單季</td>\n",
       "    </tr>\n",
       "    <tr>\n",
       "      <th>4</th>\n",
       "      <td>202307</td>\n",
       "      <td>101.31</td>\n",
       "      <td>名目有效匯率指數–台灣</td>\n",
       "      <td>68.39</td>\n",
       "      <td>台灣消費者信心指數</td>\n",
       "      <td>1.88</td>\n",
       "      <td>消費者物價指數(CPI)年增率</td>\n",
       "      <td>6093017.0</td>\n",
       "      <td>2.54</td>\n",
       "      <td>經濟成長率(GDP)–單季</td>\n",
       "    </tr>\n",
       "    <tr>\n",
       "      <th>5</th>\n",
       "      <td>202306</td>\n",
       "      <td>102.80</td>\n",
       "      <td>名目有效匯率指數–台灣</td>\n",
       "      <td>66.66</td>\n",
       "      <td>台灣消費者信心指數</td>\n",
       "      <td>1.75</td>\n",
       "      <td>消費者物價指數(CPI)年增率</td>\n",
       "      <td>5697026.0</td>\n",
       "      <td>1.36</td>\n",
       "      <td>經濟成長率(GDP)–單季</td>\n",
       "    </tr>\n",
       "    <tr>\n",
       "      <th>6</th>\n",
       "      <td>202305</td>\n",
       "      <td>101.84</td>\n",
       "      <td>名目有效匯率指數–台灣</td>\n",
       "      <td>63.67</td>\n",
       "      <td>台灣消費者信心指數</td>\n",
       "      <td>2.02</td>\n",
       "      <td>消費者物價指數(CPI)年增率</td>\n",
       "      <td>5697026.0</td>\n",
       "      <td>1.36</td>\n",
       "      <td>經濟成長率(GDP)–單季</td>\n",
       "    </tr>\n",
       "    <tr>\n",
       "      <th>7</th>\n",
       "      <td>202304</td>\n",
       "      <td>101.35</td>\n",
       "      <td>名目有效匯率指數–台灣</td>\n",
       "      <td>63.18</td>\n",
       "      <td>台灣消費者信心指數</td>\n",
       "      <td>2.35</td>\n",
       "      <td>消費者物價指數(CPI)年增率</td>\n",
       "      <td>5697026.0</td>\n",
       "      <td>1.36</td>\n",
       "      <td>經濟成長率(GDP)–單季</td>\n",
       "    </tr>\n",
       "    <tr>\n",
       "      <th>8</th>\n",
       "      <td>202303</td>\n",
       "      <td>101.85</td>\n",
       "      <td>名目有效匯率指數–台灣</td>\n",
       "      <td>64.47</td>\n",
       "      <td>台灣消費者信心指數</td>\n",
       "      <td>2.35</td>\n",
       "      <td>消費者物價指數(CPI)年增率</td>\n",
       "      <td>5482976.0</td>\n",
       "      <td>-3.31</td>\n",
       "      <td>經濟成長率(GDP)–單季</td>\n",
       "    </tr>\n",
       "  </tbody>\n",
       "</table>\n",
       "</div>"
      ],
      "text/plain": [
       "    ddate      FX  category_FX    CCI category_CCI  CPI_growth  \\\n",
       "0  202311  101.05  名目有效匯率指數–台灣  69.40    台灣消費者信心指數        2.90   \n",
       "1  202310  100.99  名目有效匯率指數–台灣  69.06    台灣消費者信心指數        3.05   \n",
       "2  202309  101.07  名目有效匯率指數–台灣  66.73    台灣消費者信心指數        2.93   \n",
       "3  202308  100.67  名目有效匯率指數–台灣  67.51    台灣消費者信心指數        2.53   \n",
       "4  202307  101.31  名目有效匯率指數–台灣  68.39    台灣消費者信心指數        1.88   \n",
       "5  202306  102.80  名目有效匯率指數–台灣  66.66    台灣消費者信心指數        1.75   \n",
       "6  202305  101.84  名目有效匯率指數–台灣  63.67    台灣消費者信心指數        2.02   \n",
       "7  202304  101.35  名目有效匯率指數–台灣  63.18    台灣消費者信心指數        2.35   \n",
       "8  202303  101.85  名目有效匯率指數–台灣  64.47    台灣消費者信心指數        2.35   \n",
       "\n",
       "  category_CPIgrowth  NominalGDP  GDP_growth category_GDPgrowth  \n",
       "0    消費者物價指數(CPI)年增率         NaN         NaN                NaN  \n",
       "1    消費者物價指數(CPI)年增率         NaN         NaN                NaN  \n",
       "2    消費者物價指數(CPI)年增率   6093017.0        2.54      經濟成長率(GDP)–單季  \n",
       "3    消費者物價指數(CPI)年增率   6093017.0        2.54      經濟成長率(GDP)–單季  \n",
       "4    消費者物價指數(CPI)年增率   6093017.0        2.54      經濟成長率(GDP)–單季  \n",
       "5    消費者物價指數(CPI)年增率   5697026.0        1.36      經濟成長率(GDP)–單季  \n",
       "6    消費者物價指數(CPI)年增率   5697026.0        1.36      經濟成長率(GDP)–單季  \n",
       "7    消費者物價指數(CPI)年增率   5697026.0        1.36      經濟成長率(GDP)–單季  \n",
       "8    消費者物價指數(CPI)年增率   5482976.0       -3.31      經濟成長率(GDP)–單季  "
      ]
     },
     "execution_count": 13,
     "metadata": {},
     "output_type": "execute_result"
    }
   ],
   "source": [
    "MergedMacroData.head(9)"
   ]
  },
  {
   "cell_type": "markdown",
   "metadata": {},
   "source": [
    "### 單純以總經變數訓練模型，準確率約51%"
   ]
  },
  {
   "cell_type": "code",
   "execution_count": 38,
   "metadata": {},
   "outputs": [],
   "source": [
    "# Rename the column\n",
    "df = df.rename(columns={'direction':'real_direction'})"
   ]
  },
  {
   "cell_type": "code",
   "execution_count": 15,
   "metadata": {},
   "outputs": [],
   "source": [
    "# 合併df以及總經資料\n",
    "TheWhole = pd.merge(df[['ddate', 'stockid', 'real_direction']].astype({'ddate':'str'}), \n",
    "                    MergedMacroData, on='ddate', how='left')\n",
    "#TheWhole[TheWhole['ddate']=='202302'].head(3)"
   ]
  },
  {
   "cell_type": "code",
   "execution_count": 16,
   "metadata": {},
   "outputs": [],
   "source": [
    "#TheWhole.columns\n",
    "TheWhole = TheWhole.dropna()\n",
    "#TheWhole.head()"
   ]
  },
  {
   "cell_type": "code",
   "execution_count": 17,
   "metadata": {},
   "outputs": [],
   "source": [
    "# Split data by TimeSeriesSplit\n",
    "tscv_macro = TimeSeriesSplit(n_splits=50)\n",
    "\n",
    "# each split contains train set & test set 'index'\n",
    "splits_macro = list(tscv_macro.split(TheWhole))"
   ]
  },
  {
   "cell_type": "code",
   "execution_count": 18,
   "metadata": {},
   "outputs": [],
   "source": [
    "# 使用最後一組的 trained model index 切分 training & testing data\n",
    "train_idx_macro = splits_macro[-1][0]\n",
    "test_idx_macro = splits_macro[-1][1]"
   ]
  },
  {
   "cell_type": "code",
   "execution_count": 19,
   "metadata": {},
   "outputs": [],
   "source": [
    "TargetCol = ['real_direction']\n",
    "VarialbleCol = ['FX', 'CCI', 'CPI_growth',\n",
    "                'NominalGDP', 'GDP_growth']\n",
    "\n",
    "# Prepare data for separating\n",
    "y_macro = TheWhole[TargetCol]\n",
    "X_macro = TheWhole[VarialbleCol]"
   ]
  },
  {
   "cell_type": "code",
   "execution_count": 20,
   "metadata": {},
   "outputs": [],
   "source": [
    "# Extract test and train data from overall data\n",
    "X_train_macro, X_test_macro = X_macro.iloc[train_idx_macro], X_macro.iloc[test_idx_macro]\n",
    "y_train_macro, y_test_macro = y_macro.iloc[train_idx_macro], y_macro.iloc[test_idx_macro]"
   ]
  },
  {
   "cell_type": "code",
   "execution_count": 21,
   "metadata": {},
   "outputs": [
    {
     "name": "stderr",
     "output_type": "stream",
     "text": [
      "c:\\Users\\user1\\anaconda3\\envs\\rev_pred_env\\lib\\site-packages\\sklearn\\utils\\validation.py:1184: DataConversionWarning: A column-vector y was passed when a 1d array was expected. Please change the shape of y to (n_samples, ), for example using ravel().\n",
      "  y = column_or_1d(y, warn=True)\n"
     ]
    }
   ],
   "source": [
    "# Train model based on the training data\n",
    "model_macro = LogisticRegression()\n",
    "model_fit_macro = model_macro.fit(X_train_macro, y_train_macro)"
   ]
  },
  {
   "cell_type": "code",
   "execution_count": 22,
   "metadata": {},
   "outputs": [],
   "source": [
    "# Make predictions on the test data\n",
    "# Calculate thresholds to determine the predicted results\n",
    "# probability\n",
    "# display the results(0/1)"
   ]
  },
  {
   "cell_type": "code",
   "execution_count": 225,
   "metadata": {},
   "outputs": [
    {
     "name": "stdout",
     "output_type": "stream",
     "text": [
      "0.5102\n"
     ]
    }
   ],
   "source": [
    "# 預測結果為1的機率\n",
    "prob_macro = predict_for_month(model_fit_macro, TheWhole, VarialbleCol)\n",
    "threshold_macro = find_best_threshold(TheWhole['real_direction'], prob_macro)\n",
    "#print(round(threshold_macro, 2)) #0.51\n",
    "\n",
    "print(round(threshold_macro, 4))"
   ]
  },
  {
   "cell_type": "code",
   "execution_count": 118,
   "metadata": {},
   "outputs": [],
   "source": [
    "# 以閾值為界判斷預測值應為0或1\n",
    "pred_macro = predicted_labels(prob_macro, threshold_macro)"
   ]
  },
  {
   "cell_type": "code",
   "execution_count": 126,
   "metadata": {},
   "outputs": [
    {
     "data": {
      "text/plain": [
       "0.51"
      ]
     },
     "execution_count": 126,
     "metadata": {},
     "output_type": "execute_result"
    }
   ],
   "source": [
    "# 計算總經數值正確性\n",
    "predicted_accuracy(TheWhole['real_direction'], pred_macro) #0.51"
   ]
  },
  {
   "cell_type": "markdown",
   "metadata": {},
   "source": [
    "### 總經指數+營收 訓練+預測"
   ]
  },
  {
   "cell_type": "code",
   "execution_count": 184,
   "metadata": {},
   "outputs": [],
   "source": [
    "TheWhole['ddate'] = TheWhole['ddate'].astype(str)\n",
    "df['ddate'] = df['ddate'].astype(str)"
   ]
  },
  {
   "cell_type": "code",
   "execution_count": 213,
   "metadata": {},
   "outputs": [
    {
     "data": {
      "text/html": [
       "<div>\n",
       "<style scoped>\n",
       "    .dataframe tbody tr th:only-of-type {\n",
       "        vertical-align: middle;\n",
       "    }\n",
       "\n",
       "    .dataframe tbody tr th {\n",
       "        vertical-align: top;\n",
       "    }\n",
       "\n",
       "    .dataframe thead th {\n",
       "        text-align: right;\n",
       "    }\n",
       "</style>\n",
       "<table border=\"1\" class=\"dataframe\">\n",
       "  <thead>\n",
       "    <tr style=\"text-align: right;\">\n",
       "      <th></th>\n",
       "      <th>ddate</th>\n",
       "      <th>stockid</th>\n",
       "      <th>real_direction</th>\n",
       "      <th>rev</th>\n",
       "      <th>mom</th>\n",
       "      <th>yoy</th>\n",
       "      <th>revd1</th>\n",
       "      <th>yoyd1</th>\n",
       "      <th>mond1</th>\n",
       "      <th>revd2</th>\n",
       "      <th>...</th>\n",
       "      <th>mond12</th>\n",
       "      <th>FX</th>\n",
       "      <th>category_FX</th>\n",
       "      <th>CCI</th>\n",
       "      <th>category_CCI</th>\n",
       "      <th>CPI_growth</th>\n",
       "      <th>category_CPIgrowth</th>\n",
       "      <th>NominalGDP</th>\n",
       "      <th>GDP_growth</th>\n",
       "      <th>category_GDPgrowth</th>\n",
       "    </tr>\n",
       "  </thead>\n",
       "  <tbody>\n",
       "    <tr>\n",
       "      <th>0</th>\n",
       "      <td>202309</td>\n",
       "      <td>1101</td>\n",
       "      <td>0</td>\n",
       "      <td>8735157.0</td>\n",
       "      <td>-6.87</td>\n",
       "      <td>-16.05</td>\n",
       "      <td>9379408.0</td>\n",
       "      <td>-12.26</td>\n",
       "      <td>4.76</td>\n",
       "      <td>8953462.0</td>\n",
       "      <td>...</td>\n",
       "      <td>-2.67</td>\n",
       "      <td>101.07</td>\n",
       "      <td>名目有效匯率指數–台灣</td>\n",
       "      <td>66.73</td>\n",
       "      <td>台灣消費者信心指數</td>\n",
       "      <td>2.93</td>\n",
       "      <td>消費者物價指數(CPI)年增率</td>\n",
       "      <td>6093017.0</td>\n",
       "      <td>2.54</td>\n",
       "      <td>經濟成長率(GDP)–單季</td>\n",
       "    </tr>\n",
       "    <tr>\n",
       "      <th>1</th>\n",
       "      <td>202309</td>\n",
       "      <td>1102</td>\n",
       "      <td>1</td>\n",
       "      <td>6691905.0</td>\n",
       "      <td>3.43</td>\n",
       "      <td>-4.32</td>\n",
       "      <td>6469836.0</td>\n",
       "      <td>-8.48</td>\n",
       "      <td>-4.72</td>\n",
       "      <td>6790125.0</td>\n",
       "      <td>...</td>\n",
       "      <td>-1.06</td>\n",
       "      <td>101.07</td>\n",
       "      <td>名目有效匯率指數–台灣</td>\n",
       "      <td>66.73</td>\n",
       "      <td>台灣消費者信心指數</td>\n",
       "      <td>2.93</td>\n",
       "      <td>消費者物價指數(CPI)年增率</td>\n",
       "      <td>6093017.0</td>\n",
       "      <td>2.54</td>\n",
       "      <td>經濟成長率(GDP)–單季</td>\n",
       "    </tr>\n",
       "    <tr>\n",
       "      <th>2</th>\n",
       "      <td>202309</td>\n",
       "      <td>1103</td>\n",
       "      <td>0</td>\n",
       "      <td>232979.0</td>\n",
       "      <td>-2.49</td>\n",
       "      <td>13.50</td>\n",
       "      <td>238917.0</td>\n",
       "      <td>31.01</td>\n",
       "      <td>-10.39</td>\n",
       "      <td>266631.0</td>\n",
       "      <td>...</td>\n",
       "      <td>12.55</td>\n",
       "      <td>101.07</td>\n",
       "      <td>名目有效匯率指數–台灣</td>\n",
       "      <td>66.73</td>\n",
       "      <td>台灣消費者信心指數</td>\n",
       "      <td>2.93</td>\n",
       "      <td>消費者物價指數(CPI)年增率</td>\n",
       "      <td>6093017.0</td>\n",
       "      <td>2.54</td>\n",
       "      <td>經濟成長率(GDP)–單季</td>\n",
       "    </tr>\n",
       "    <tr>\n",
       "      <th>3</th>\n",
       "      <td>202309</td>\n",
       "      <td>1104</td>\n",
       "      <td>1</td>\n",
       "      <td>618592.0</td>\n",
       "      <td>0.23</td>\n",
       "      <td>3.59</td>\n",
       "      <td>617197.0</td>\n",
       "      <td>1.93</td>\n",
       "      <td>-3.15</td>\n",
       "      <td>637246.0</td>\n",
       "      <td>...</td>\n",
       "      <td>-1.38</td>\n",
       "      <td>101.07</td>\n",
       "      <td>名目有效匯率指數–台灣</td>\n",
       "      <td>66.73</td>\n",
       "      <td>台灣消費者信心指數</td>\n",
       "      <td>2.93</td>\n",
       "      <td>消費者物價指數(CPI)年增率</td>\n",
       "      <td>6093017.0</td>\n",
       "      <td>2.54</td>\n",
       "      <td>經濟成長率(GDP)–單季</td>\n",
       "    </tr>\n",
       "    <tr>\n",
       "      <th>4</th>\n",
       "      <td>202309</td>\n",
       "      <td>1108</td>\n",
       "      <td>0</td>\n",
       "      <td>404171.0</td>\n",
       "      <td>-6.10</td>\n",
       "      <td>16.60</td>\n",
       "      <td>430420.0</td>\n",
       "      <td>10.35</td>\n",
       "      <td>-2.43</td>\n",
       "      <td>441143.0</td>\n",
       "      <td>...</td>\n",
       "      <td>-11.13</td>\n",
       "      <td>101.07</td>\n",
       "      <td>名目有效匯率指數–台灣</td>\n",
       "      <td>66.73</td>\n",
       "      <td>台灣消費者信心指數</td>\n",
       "      <td>2.93</td>\n",
       "      <td>消費者物價指數(CPI)年增率</td>\n",
       "      <td>6093017.0</td>\n",
       "      <td>2.54</td>\n",
       "      <td>經濟成長率(GDP)–單季</td>\n",
       "    </tr>\n",
       "  </tbody>\n",
       "</table>\n",
       "<p>5 rows × 51 columns</p>\n",
       "</div>"
      ],
      "text/plain": [
       "    ddate  stockid  real_direction        rev   mom    yoy      revd1  yoyd1  \\\n",
       "0  202309     1101               0  8735157.0 -6.87 -16.05  9379408.0 -12.26   \n",
       "1  202309     1102               1  6691905.0  3.43  -4.32  6469836.0  -8.48   \n",
       "2  202309     1103               0   232979.0 -2.49  13.50   238917.0  31.01   \n",
       "3  202309     1104               1   618592.0  0.23   3.59   617197.0   1.93   \n",
       "4  202309     1108               0   404171.0 -6.10  16.60   430420.0  10.35   \n",
       "\n",
       "   mond1      revd2  ...  mond12      FX  category_FX    CCI  category_CCI  \\\n",
       "0   4.76  8953462.0  ...   -2.67  101.07  名目有效匯率指數–台灣  66.73     台灣消費者信心指數   \n",
       "1  -4.72  6790125.0  ...   -1.06  101.07  名目有效匯率指數–台灣  66.73     台灣消費者信心指數   \n",
       "2 -10.39   266631.0  ...   12.55  101.07  名目有效匯率指數–台灣  66.73     台灣消費者信心指數   \n",
       "3  -3.15   637246.0  ...   -1.38  101.07  名目有效匯率指數–台灣  66.73     台灣消費者信心指數   \n",
       "4  -2.43   441143.0  ...  -11.13  101.07  名目有效匯率指數–台灣  66.73     台灣消費者信心指數   \n",
       "\n",
       "   CPI_growth  category_CPIgrowth  NominalGDP  GDP_growth  category_GDPgrowth  \n",
       "0        2.93     消費者物價指數(CPI)年增率   6093017.0        2.54       經濟成長率(GDP)–單季  \n",
       "1        2.93     消費者物價指數(CPI)年增率   6093017.0        2.54       經濟成長率(GDP)–單季  \n",
       "2        2.93     消費者物價指數(CPI)年增率   6093017.0        2.54       經濟成長率(GDP)–單季  \n",
       "3        2.93     消費者物價指數(CPI)年增率   6093017.0        2.54       經濟成長率(GDP)–單季  \n",
       "4        2.93     消費者物價指數(CPI)年增率   6093017.0        2.54       經濟成長率(GDP)–單季  \n",
       "\n",
       "[5 rows x 51 columns]"
      ]
     },
     "execution_count": 213,
     "metadata": {},
     "output_type": "execute_result"
    }
   ],
   "source": [
    "df = df.rename({'direction':'real_direction'}, axis='columns')\n",
    "TheWhole_rev = pd.merge(df, TheWhole, on=('ddate', 'stockid', 'real_direction'), how='inner')\n",
    "TheWhole_rev.head(5)"
   ]
  },
  {
   "cell_type": "code",
   "execution_count": 215,
   "metadata": {},
   "outputs": [],
   "source": [
    "Varialble_MacroRev = ['revd1', 'yoyd1',\n",
    "                         'mond1', 'revd2', 'yoyd2', 'mond2', 'revd3', 'yoyd3', 'mond3', 'revd4',\n",
    "                         'yoyd4', 'mond4', 'revd5', 'yoyd5', 'mond5', 'revd6', 'yoyd6', 'mond6',\n",
    "                         'revd7', 'yoyd7', 'mond7', 'revd8', 'yoyd8', 'mond8', 'revd9', 'yoyd9',\n",
    "                         'mond9', 'revd10', 'yoyd10', 'mond10', 'revd11', 'yoyd11', 'mond11',\n",
    "                         'revd12', 'yoyd12', 'mond12', 'FX', 'CCI', 'CPI_growth',\n",
    "                         'NominalGDP', 'GDP_growth']\n",
    "\n",
    "Target_MacroRev = ['real_direction']"
   ]
  },
  {
   "cell_type": "code",
   "execution_count": 216,
   "metadata": {},
   "outputs": [],
   "source": [
    "# Prepare data for separating\n",
    "y_MacroRev = TheWhole_rev[Target_MacroRev]\n",
    "X_MacroRev = TheWhole_rev[Varialble_MacroRev]\n",
    "\n",
    "# Extract test and train data from overall data\n",
    "X_train_MacroRev, X_test_MacroRev = X_MacroRev.iloc[train_idx_macro], X_MacroRev.iloc[test_idx_macro]\n",
    "y_train_MacroRev, y_test_MacroRev = y_MacroRev.iloc[train_idx_macro], y_MacroRev.iloc[test_idx_macro]"
   ]
  },
  {
   "cell_type": "code",
   "execution_count": 219,
   "metadata": {},
   "outputs": [
    {
     "name": "stderr",
     "output_type": "stream",
     "text": [
      "c:\\Users\\user1\\anaconda3\\envs\\rev_pred_env\\lib\\site-packages\\sklearn\\utils\\validation.py:1184: DataConversionWarning: A column-vector y was passed when a 1d array was expected. Please change the shape of y to (n_samples, ), for example using ravel().\n",
      "  y = column_or_1d(y, warn=True)\n",
      "c:\\Users\\user1\\anaconda3\\envs\\rev_pred_env\\lib\\site-packages\\sklearn\\linear_model\\_logistic.py:460: ConvergenceWarning: lbfgs failed to converge (status=1):\n",
      "STOP: TOTAL NO. of ITERATIONS REACHED LIMIT.\n",
      "\n",
      "Increase the number of iterations (max_iter) or scale the data as shown in:\n",
      "    https://scikit-learn.org/stable/modules/preprocessing.html\n",
      "Please also refer to the documentation for alternative solver options:\n",
      "    https://scikit-learn.org/stable/modules/linear_model.html#logistic-regression\n",
      "  n_iter_i = _check_optimize_result(\n"
     ]
    }
   ],
   "source": [
    "# Train model based on the training data\n",
    "model_MacroRev = LogisticRegression()\n",
    "model_fit_MacroRev = model_MacroRev.fit(X_train_MacroRev, y_train_MacroRev)"
   ]
  },
  {
   "cell_type": "code",
   "execution_count": 229,
   "metadata": {},
   "outputs": [],
   "source": [
    "# 預測結果為1的機率\n",
    "prob_MacroRev = predict_for_month(model_fit_MacroRev, TheWhole_rev, Varialble_MacroRev)\n",
    "threshold_MacroRev = find_best_threshold(TheWhole_rev['real_direction'], prob_MacroRev) # 0.5092\n",
    "#print(round(threshold_MacroRev, 4))\n",
    "\n",
    "# 以閾值為界判斷預測值應為0或1\n",
    "pred_MacroRev = predicted_labels(prob_MacroRev, threshold_MacroRev)"
   ]
  },
  {
   "cell_type": "code",
   "execution_count": 230,
   "metadata": {},
   "outputs": [
    {
     "data": {
      "text/plain": [
       "0.62"
      ]
     },
     "execution_count": 230,
     "metadata": {},
     "output_type": "execute_result"
    }
   ],
   "source": [
    "# 計算總經數值正確性\n",
    "predicted_accuracy(TheWhole_rev['real_direction'], pred_MacroRev) # 0.62"
   ]
  }
 ],
 "metadata": {
  "kernelspec": {
   "display_name": "Python 3",
   "language": "python",
   "name": "python3"
  },
  "language_info": {
   "codemirror_mode": {
    "name": "ipython",
    "version": 3
   },
   "file_extension": ".py",
   "mimetype": "text/x-python",
   "name": "python",
   "nbconvert_exporter": "python",
   "pygments_lexer": "ipython3",
   "version": "3.10.13"
  }
 },
 "nbformat": 4,
 "nbformat_minor": 2
}
