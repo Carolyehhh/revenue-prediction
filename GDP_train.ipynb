{
 "cells": [
  {
   "cell_type": "code",
   "execution_count": 2,
   "metadata": {},
   "outputs": [],
   "source": [
    "import pandas as pd\n",
    "import numpy as np\n",
    "# 用於二元目標變數\n",
    "from scipy.stats import pointbiserialr"
   ]
  },
  {
   "cell_type": "code",
   "execution_count": 4,
   "metadata": {},
   "outputs": [],
   "source": [
    "# Import GDP Data\n",
    "from data import OverallGeneralEcon, df, MacroInfo"
   ]
  },
  {
   "cell_type": "code",
   "execution_count": 5,
   "metadata": {},
   "outputs": [
    {
     "data": {
      "text/html": [
       "<div>\n",
       "<style scoped>\n",
       "    .dataframe tbody tr th:only-of-type {\n",
       "        vertical-align: middle;\n",
       "    }\n",
       "\n",
       "    .dataframe tbody tr th {\n",
       "        vertical-align: top;\n",
       "    }\n",
       "\n",
       "    .dataframe thead th {\n",
       "        text-align: right;\n",
       "    }\n",
       "</style>\n",
       "<table border=\"1\" class=\"dataframe\">\n",
       "  <thead>\n",
       "    <tr style=\"text-align: right;\">\n",
       "      <th></th>\n",
       "      <th>年月</th>\n",
       "      <th>代號</th>\n",
       "      <th>數值</th>\n",
       "      <th>名稱</th>\n",
       "    </tr>\n",
       "  </thead>\n",
       "  <tbody>\n",
       "    <tr>\n",
       "      <th>0</th>\n",
       "      <td>202412</td>\n",
       "      <td>19600</td>\n",
       "      <td>1.06</td>\n",
       "      <td>經濟成長率(GDP)–單季</td>\n",
       "    </tr>\n",
       "    <tr>\n",
       "      <th>1</th>\n",
       "      <td>202412</td>\n",
       "      <td>19700</td>\n",
       "      <td>201644.00</td>\n",
       "      <td>國內生產毛額(GDP)–美元</td>\n",
       "    </tr>\n",
       "    <tr>\n",
       "      <th>2</th>\n",
       "      <td>202412</td>\n",
       "      <td>19710</td>\n",
       "      <td>6404219.00</td>\n",
       "      <td>國內生產毛額(GDP)–台幣</td>\n",
       "    </tr>\n",
       "    <tr>\n",
       "      <th>3</th>\n",
       "      <td>202412</td>\n",
       "      <td>19750</td>\n",
       "      <td>8567.00</td>\n",
       "      <td>平均每人國內生產毛額(GDP)–美元</td>\n",
       "    </tr>\n",
       "    <tr>\n",
       "      <th>4</th>\n",
       "      <td>202412</td>\n",
       "      <td>19760</td>\n",
       "      <td>272086.00</td>\n",
       "      <td>平均每人國內生產毛額(GDP)–台幣</td>\n",
       "    </tr>\n",
       "    <tr>\n",
       "      <th>...</th>\n",
       "      <td>...</td>\n",
       "      <td>...</td>\n",
       "      <td>...</td>\n",
       "      <td>...</td>\n",
       "    </tr>\n",
       "    <tr>\n",
       "      <th>679498</th>\n",
       "      <td>169502</td>\n",
       "      <td>ENG17</td>\n",
       "      <td>4.50</td>\n",
       "      <td>英國基準利率</td>\n",
       "    </tr>\n",
       "    <tr>\n",
       "      <th>679499</th>\n",
       "      <td>169501</td>\n",
       "      <td>ENG17</td>\n",
       "      <td>4.50</td>\n",
       "      <td>英國基準利率</td>\n",
       "    </tr>\n",
       "    <tr>\n",
       "      <th>679500</th>\n",
       "      <td>169412</td>\n",
       "      <td>ENG17</td>\n",
       "      <td>6.00</td>\n",
       "      <td>英國基準利率</td>\n",
       "    </tr>\n",
       "    <tr>\n",
       "      <th>679501</th>\n",
       "      <td>169411</td>\n",
       "      <td>ENG17</td>\n",
       "      <td>6.00</td>\n",
       "      <td>英國基準利率</td>\n",
       "    </tr>\n",
       "    <tr>\n",
       "      <th>679502</th>\n",
       "      <td>169410</td>\n",
       "      <td>ENG17</td>\n",
       "      <td>6.00</td>\n",
       "      <td>英國基準利率</td>\n",
       "    </tr>\n",
       "  </tbody>\n",
       "</table>\n",
       "<p>679503 rows × 4 columns</p>\n",
       "</div>"
      ],
      "text/plain": [
       "            年月     代號          數值                  名稱\n",
       "0       202412  19600        1.06       經濟成長率(GDP)–單季\n",
       "1       202412  19700   201644.00      國內生產毛額(GDP)–美元\n",
       "2       202412  19710  6404219.00      國內生產毛額(GDP)–台幣\n",
       "3       202412  19750     8567.00  平均每人國內生產毛額(GDP)–美元\n",
       "4       202412  19760   272086.00  平均每人國內生產毛額(GDP)–台幣\n",
       "...        ...    ...         ...                 ...\n",
       "679498  169502  ENG17        4.50              英國基準利率\n",
       "679499  169501  ENG17        4.50              英國基準利率\n",
       "679500  169412  ENG17        6.00              英國基準利率\n",
       "679501  169411  ENG17        6.00              英國基準利率\n",
       "679502  169410  ENG17        6.00              英國基準利率\n",
       "\n",
       "[679503 rows x 4 columns]"
      ]
     },
     "execution_count": 5,
     "metadata": {},
     "output_type": "execute_result"
    }
   ],
   "source": [
    "# 名目、實質、時間\n",
    "名目有效匯率指數–台灣\n",
    "台灣消費者信心指數\n",
    "台灣消費者信心指數–未來半年國內經濟景氣\n",
    "台灣消費者信心指數–未來半年國內物價水準\n",
    "美國消費者信心指數\n",
    "經濟成長率(GDP)–全年\n",
    "實質國內生產毛額(GDP)–台幣\n",
    "實質GDP成長率(台灣)\n",
    "貨幣總額(M1A)日平均、貨幣總額(M2)日平均、貨幣總額年增率(M1A)日平均\n",
    "臺灣製造業PMI - 新增出口訂單 - 基礎原物料\n",
    "台灣外銷訂單金額–全球\n",
    "消費者物價指數(CPI)、消費者物價指數(CPI)年增率、核心消費者物價指數\n",
    "美國核心PPI、美國核心PPI月增率\n",
    "進口物價指數、出口物價指數年增率\n",
    "\n",
    "\n",
    "\n",
    "\n"
   ]
  },
  {
   "cell_type": "code",
   "execution_count": 16,
   "metadata": {},
   "outputs": [],
   "source": [
    "NominalGDP = OverallGeneralEcon[['time','Nominal_GDP']]\n",
    "NominalGDP = NominalGDP.rename(columns={'time':'quarter'})\n",
    "#print(NominalGDP)\n",
    "#print(type(NominalGDP))"
   ]
  },
  {
   "cell_type": "code",
   "execution_count": 17,
   "metadata": {},
   "outputs": [],
   "source": [
    "# 將df的日期轉換為季度\n",
    "df_copy = df.copy()\n",
    "df_copy['quarter'] = (pd.to_datetime(df_copy['ddate'], format='%Y%m').dt.year.astype(str) + 'Q' + pd.to_datetime(df_copy['ddate'], format='%Y%m').dt.quarter.astype(str))\n",
    "\n",
    "# 使用merge方法合併兩個data frame\n",
    "df_copy = pd.merge(df_copy, NominalGDP, on='quarter', how='left').dropna()"
   ]
  },
  {
   "cell_type": "code",
   "execution_count": 19,
   "metadata": {},
   "outputs": [
    {
     "data": {
      "text/plain": [
       "Index(['ddate', 'stockid', 'direction', 'rev', 'mom', 'yoy', 'revd1', 'yoyd1',\n",
       "       'mond1', 'revd2', 'yoyd2', 'mond2', 'revd3', 'yoyd3', 'mond3', 'revd4',\n",
       "       'yoyd4', 'mond4', 'revd5', 'yoyd5', 'mond5', 'revd6', 'yoyd6', 'mond6',\n",
       "       'revd7', 'yoyd7', 'mond7', 'revd8', 'yoyd8', 'mond8', 'revd9', 'yoyd9',\n",
       "       'mond9', 'revd10', 'yoyd10', 'mond10', 'revd11', 'yoyd11', 'mond11',\n",
       "       'revd12', 'yoyd12', 'mond12', 'quarter', 'Nominal_GDP'],\n",
       "      dtype='object')"
      ]
     },
     "execution_count": 19,
     "metadata": {},
     "output_type": "execute_result"
    }
   ],
   "source": [
    "df_copy.columns"
   ]
  },
  {
   "cell_type": "code",
   "execution_count": 21,
   "metadata": {},
   "outputs": [],
   "source": [
    "# variable and target columns\n",
    "target_col_GDP =  ['direction']\n",
    "variable_col_GDP = ['revd1', 'yoyd1',\n",
    "                         'mond1', 'revd2', 'yoyd2', 'mond2', 'revd3', 'yoyd3', 'mond3', 'revd4',\n",
    "                         'yoyd4', 'mond4', 'revd5', 'yoyd5', 'mond5', 'revd6', 'yoyd6', 'mond6',\n",
    "                         'revd7', 'yoyd7', 'mond7', 'revd8', 'yoyd8', 'mond8', 'revd9', 'yoyd9',\n",
    "                         'mond9', 'revd10', 'yoyd10', 'mond10', 'revd11', 'yoyd11', 'mond11',\n",
    "                         'revd12', 'yoyd12', 'mond12','Nominal_GDP' ]\n",
    "\n",
    "y_GDP = df_copy[target_col_GDP] # overall y\n",
    "X_GDP = df_copy[variable_col_GDP] # overall X"
   ]
  },
  {
   "cell_type": "code",
   "execution_count": 27,
   "metadata": {},
   "outputs": [
    {
     "name": "stdout",
     "output_type": "stream",
     "text": [
      "0.009671734212467519\n",
      "-0.0023818022480477617\n"
     ]
    }
   ],
   "source": [
    "# 計算變數相關性，用以決定變數\n",
    "correlation, _ = pointbiserialr(df_copy['direction'], df_copy['Nominal_GDP'])\n",
    "\n",
    "print(correlation)\n",
    "\n",
    "correlation2, _ = pointbiserialr(df_copy['direction'], df_copy['revd1'])\n",
    "print(correlation2)"
   ]
  },
  {
   "cell_type": "code",
   "execution_count": 44,
   "metadata": {},
   "outputs": [
    {
     "name": "stdout",
     "output_type": "stream",
     "text": [
      "revd12\n",
      "Variable with highest correlation: revd12, correlation: 0.0105\n",
      "Variable with lowest correlation: yoyd1, correlation: -0.0105\n"
     ]
    }
   ],
   "source": [
    "# 計算每個變數與目標變數的點二序列相關係數，並儲存到一個字典中\n",
    "correlations = {}\n",
    "for variable in variable_col_GDP:\n",
    "    if variable != 'direction':\n",
    "        correlation, _ = pointbiserialr(df_copy['direction'], df_copy[variable])\n",
    "        correlation = round(correlation, 4)\n",
    "        correlations[variable] = correlation\n",
    "        #print(f'Correlation between target and {variable}: {correlation}')\n",
    "\n",
    "#print(correlations)\n",
    "\n",
    "# 找出相關性最大和最小的變數\n",
    "max_corr_var = max(correlations, key=correlations.get)\n",
    "min_corr_var = min(correlations, key=correlations.get)\n",
    "print(max_corr_var)\n",
    "print(f'Variable with highest correlation: {max_corr_var}, correlation: {correlations[max_corr_var]}')\n",
    "print(f'Variable with lowest correlation: {min_corr_var}, correlation: {correlations[min_corr_var]}')\n"
   ]
  },
  {
   "cell_type": "code",
   "execution_count": null,
   "metadata": {},
   "outputs": [],
   "source": []
  }
 ],
 "metadata": {
  "kernelspec": {
   "display_name": "Python 3",
   "language": "python",
   "name": "python3"
  },
  "language_info": {
   "codemirror_mode": {
    "name": "ipython",
    "version": 3
   },
   "file_extension": ".py",
   "mimetype": "text/x-python",
   "name": "python",
   "nbconvert_exporter": "python",
   "pygments_lexer": "ipython3",
   "version": "3.10.13"
  }
 },
 "nbformat": 4,
 "nbformat_minor": 2
}
