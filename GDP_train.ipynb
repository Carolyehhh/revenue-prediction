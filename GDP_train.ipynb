{
 "cells": [
  {
   "cell_type": "code",
   "execution_count": 1,
   "metadata": {},
   "outputs": [],
   "source": [
    "import pandas as pd\n",
    "import numpy as np\n",
    "# 用於二元目標變數\n",
    "from scipy.stats import pointbiserialr"
   ]
  },
  {
   "cell_type": "code",
   "execution_count": 2,
   "metadata": {},
   "outputs": [
    {
     "name": "stderr",
     "output_type": "stream",
     "text": [
      "c:\\Users\\user1\\Desktop\\repo2\\revenue-prediction\\data.py:48: UserWarning: pandas only supports SQLAlchemy connectable (engine/connection) or database string URI or sqlite3 DBAPI2 connection. Other DBAPI2 objects are not tested. Please consider using SQLAlchemy.\n",
      "  Dream_report = pd.read_sql(qr_sub, conn)\n",
      "c:\\Users\\user1\\Desktop\\repo2\\revenue-prediction\\data.py:72: UserWarning: pandas only supports SQLAlchemy connectable (engine/connection) or database string URI or sqlite3 DBAPI2 connection. Other DBAPI2 objects are not tested. Please consider using SQLAlchemy.\n",
      "  stock_info = pd.read_sql(stock_qr_sub, conn)\n",
      "c:\\Users\\user1\\Desktop\\repo2\\revenue-prediction\\data.py:94: UserWarning: pandas only supports SQLAlchemy connectable (engine/connection) or database string URI or sqlite3 DBAPI2 connection. Other DBAPI2 objects are not tested. Please consider using SQLAlchemy.\n",
      "  MacroInfo = pd.read_sql(macro_qr_sub, conn)\n",
      "c:\\Users\\user1\\Desktop\\repo2\\revenue-prediction\\data.py:106: UserWarning: pandas only supports SQLAlchemy connectable (engine/connection) or database string URI or sqlite3 DBAPI2 connection. Other DBAPI2 objects are not tested. Please consider using SQLAlchemy.\n",
      "  JuridicalInfo = pd.read_sql(juridical_qr_sub, conn)\n"
     ]
    }
   ],
   "source": [
    "# Import GDP Data\n",
    "from data import OverallGeneralEcon, df, MacroInfo, JuridicalInfo"
   ]
  },
  {
   "cell_type": "code",
   "execution_count": 6,
   "metadata": {},
   "outputs": [
    {
     "data": {
      "text/plain": [
       "'\\n名目有效匯率指數–台灣\\n台灣消費者信心指數\\n台灣消費者信心指數–未來半年國內經濟景氣\\n台灣消費者信心指數–未來半年國內物價水準\\n美國消費者信心指數\\n經濟成長率(GDP)–全年\\n實質國內生產毛額(GDP)–台幣\\n實質GDP成長率(台灣)\\n貨幣總額(M1A)日平均、貨幣總額(M2)日平均、貨幣總額年增率(M1A)日平均\\n臺灣製造業PMI - 新增出口訂單 - 基礎原物料\\n台灣外銷訂單金額–全球\\n消費者物價指數(CPI)、消費者物價指數(CPI)年增率、核心消費者物價指數\\n美國核心PPI、美國核心PPI月增率\\n進口物價指數、出口物價指數年增率\\n'"
      ]
     },
     "execution_count": 6,
     "metadata": {},
     "output_type": "execute_result"
    }
   ],
   "source": [
    "# 名目、實質、時間\n",
    "\"\"\"\n",
    "MacroInfo\n",
    "名目有效匯率指數–台灣\n",
    "台灣消費者信心指數\n",
    "台灣消費者信心指數–未來半年國內經濟景氣\n",
    "台灣消費者信心指數–未來半年國內物價水準\n",
    "美國消費者信心指數\n",
    "經濟成長率(GDP)–全年\n",
    "--\n",
    "實質國內生產毛額(GDP)–台幣 -> 只更新到202009\n",
    "實質GDP成長率(台灣) -> 只更新到202212\n",
    "--\n",
    "貨幣總額(M1A)日平均、貨幣總額(M2)日平均、貨幣總額年增率(M1A)日平均\n",
    "臺灣製造業PMI - 新增出口訂單 - 基礎原物料\n",
    "台灣外銷訂單金額–全球\n",
    "消費者物價指數(CPI)、消費者物價指數(CPI)年增率、核心消費者物價指數\n",
    "美國核心PPI、美國核心PPI月增率\n",
    "進口物價指數、出口物價指數年增率\n",
    "\n",
    "sysallunTWESPF\n",
    "外銷訂單_美金計價(百萬美元)_合計_年增率(%)(月)\n",
    "景氣同時指標_工業生產指數(Index 2006=100)_年增率(%)(月)\n",
    "\n",
    "sysTaiStaValMAC\n",
    "景氣指標統計_景氣領先指標不含趨勢指數(點)_年增率(%)(月)\n",
    "\n",
    "其他\n",
    "財報、營收\n",
    "\"\"\""
   ]
  },
  {
   "cell_type": "code",
   "execution_count": 18,
   "metadata": {},
   "outputs": [
    {
     "data": {
      "text/html": [
       "<div>\n",
       "<style scoped>\n",
       "    .dataframe tbody tr th:only-of-type {\n",
       "        vertical-align: middle;\n",
       "    }\n",
       "\n",
       "    .dataframe tbody tr th {\n",
       "        vertical-align: top;\n",
       "    }\n",
       "\n",
       "    .dataframe thead th {\n",
       "        text-align: right;\n",
       "    }\n",
       "</style>\n",
       "<table border=\"1\" class=\"dataframe\">\n",
       "  <thead>\n",
       "    <tr style=\"text-align: right;\">\n",
       "      <th></th>\n",
       "      <th>年月</th>\n",
       "      <th>數值</th>\n",
       "      <th>名稱</th>\n",
       "    </tr>\n",
       "  </thead>\n",
       "  <tbody>\n",
       "    <tr>\n",
       "      <th>1848</th>\n",
       "      <td>202311</td>\n",
       "      <td>101.05</td>\n",
       "      <td>名目有效匯率指數–台灣</td>\n",
       "    </tr>\n",
       "    <tr>\n",
       "      <th>3064</th>\n",
       "      <td>202310</td>\n",
       "      <td>100.99</td>\n",
       "      <td>名目有效匯率指數–台灣</td>\n",
       "    </tr>\n",
       "    <tr>\n",
       "      <th>4865</th>\n",
       "      <td>202309</td>\n",
       "      <td>101.07</td>\n",
       "      <td>名目有效匯率指數–台灣</td>\n",
       "    </tr>\n",
       "  </tbody>\n",
       "</table>\n",
       "</div>"
      ],
      "text/plain": [
       "          年月      數值           名稱\n",
       "1848  202311  101.05  名目有效匯率指數–台灣\n",
       "3064  202310  100.99  名目有效匯率指數–台灣\n",
       "4865  202309  101.07  名目有效匯率指數–台灣"
      ]
     },
     "metadata": {},
     "output_type": "display_data"
    },
    {
     "data": {
      "text/html": [
       "<div>\n",
       "<style scoped>\n",
       "    .dataframe tbody tr th:only-of-type {\n",
       "        vertical-align: middle;\n",
       "    }\n",
       "\n",
       "    .dataframe tbody tr th {\n",
       "        vertical-align: top;\n",
       "    }\n",
       "\n",
       "    .dataframe thead th {\n",
       "        text-align: right;\n",
       "    }\n",
       "</style>\n",
       "<table border=\"1\" class=\"dataframe\">\n",
       "  <thead>\n",
       "    <tr style=\"text-align: right;\">\n",
       "      <th></th>\n",
       "      <th>年月</th>\n",
       "      <th>數值</th>\n",
       "      <th>名稱</th>\n",
       "    </tr>\n",
       "  </thead>\n",
       "  <tbody>\n",
       "    <tr>\n",
       "      <th>1042</th>\n",
       "      <td>202312</td>\n",
       "      <td>70.06</td>\n",
       "      <td>台灣消費者信心指數</td>\n",
       "    </tr>\n",
       "    <tr>\n",
       "      <th>2110</th>\n",
       "      <td>202311</td>\n",
       "      <td>69.40</td>\n",
       "      <td>台灣消費者信心指數</td>\n",
       "    </tr>\n",
       "    <tr>\n",
       "      <th>3327</th>\n",
       "      <td>202310</td>\n",
       "      <td>69.06</td>\n",
       "      <td>台灣消費者信心指數</td>\n",
       "    </tr>\n",
       "  </tbody>\n",
       "</table>\n",
       "</div>"
      ],
      "text/plain": [
       "          年月     數值         名稱\n",
       "1042  202312  70.06  台灣消費者信心指數\n",
       "2110  202311  69.40  台灣消費者信心指數\n",
       "3327  202310  69.06  台灣消費者信心指數"
      ]
     },
     "metadata": {},
     "output_type": "display_data"
    },
    {
     "data": {
      "text/html": [
       "<div>\n",
       "<style scoped>\n",
       "    .dataframe tbody tr th:only-of-type {\n",
       "        vertical-align: middle;\n",
       "    }\n",
       "\n",
       "    .dataframe tbody tr th {\n",
       "        vertical-align: top;\n",
       "    }\n",
       "\n",
       "    .dataframe thead th {\n",
       "        text-align: right;\n",
       "    }\n",
       "</style>\n",
       "<table border=\"1\" class=\"dataframe\">\n",
       "  <thead>\n",
       "    <tr style=\"text-align: right;\">\n",
       "      <th></th>\n",
       "      <th>年月</th>\n",
       "      <th>數值</th>\n",
       "      <th>名稱</th>\n",
       "    </tr>\n",
       "  </thead>\n",
       "  <tbody>\n",
       "    <tr>\n",
       "      <th>309</th>\n",
       "      <td>202312</td>\n",
       "      <td>2.71</td>\n",
       "      <td>消費者物價指數(CPI)年增率</td>\n",
       "    </tr>\n",
       "    <tr>\n",
       "      <th>1170</th>\n",
       "      <td>202311</td>\n",
       "      <td>2.90</td>\n",
       "      <td>消費者物價指數(CPI)年增率</td>\n",
       "    </tr>\n",
       "    <tr>\n",
       "      <th>2324</th>\n",
       "      <td>202310</td>\n",
       "      <td>3.05</td>\n",
       "      <td>消費者物價指數(CPI)年增率</td>\n",
       "    </tr>\n",
       "  </tbody>\n",
       "</table>\n",
       "</div>"
      ],
      "text/plain": [
       "          年月    數值               名稱\n",
       "309   202312  2.71  消費者物價指數(CPI)年增率\n",
       "1170  202311  2.90  消費者物價指數(CPI)年增率\n",
       "2324  202310  3.05  消費者物價指數(CPI)年增率"
      ]
     },
     "metadata": {},
     "output_type": "display_data"
    },
    {
     "data": {
      "text/html": [
       "<div>\n",
       "<style scoped>\n",
       "    .dataframe tbody tr th:only-of-type {\n",
       "        vertical-align: middle;\n",
       "    }\n",
       "\n",
       "    .dataframe tbody tr th {\n",
       "        vertical-align: top;\n",
       "    }\n",
       "\n",
       "    .dataframe thead th {\n",
       "        text-align: right;\n",
       "    }\n",
       "</style>\n",
       "<table border=\"1\" class=\"dataframe\">\n",
       "  <thead>\n",
       "    <tr style=\"text-align: right;\">\n",
       "      <th></th>\n",
       "      <th>年月</th>\n",
       "      <th>數值</th>\n",
       "      <th>名稱</th>\n",
       "    </tr>\n",
       "  </thead>\n",
       "  <tbody>\n",
       "    <tr>\n",
       "      <th>0</th>\n",
       "      <td>202412</td>\n",
       "      <td>1.06</td>\n",
       "      <td>經濟成長率(GDP)–單季</td>\n",
       "    </tr>\n",
       "    <tr>\n",
       "      <th>27</th>\n",
       "      <td>202409</td>\n",
       "      <td>2.12</td>\n",
       "      <td>經濟成長率(GDP)–單季</td>\n",
       "    </tr>\n",
       "    <tr>\n",
       "      <th>42</th>\n",
       "      <td>202406</td>\n",
       "      <td>4.77</td>\n",
       "      <td>經濟成長率(GDP)–單季</td>\n",
       "    </tr>\n",
       "  </tbody>\n",
       "</table>\n",
       "</div>"
      ],
      "text/plain": [
       "        年月    數值             名稱\n",
       "0   202412  1.06  經濟成長率(GDP)–單季\n",
       "27  202409  2.12  經濟成長率(GDP)–單季\n",
       "42  202406  4.77  經濟成長率(GDP)–單季"
      ]
     },
     "metadata": {},
     "output_type": "display_data"
    }
   ],
   "source": [
    "# Improt data\n",
    "# 名目有效匯率指數\n",
    "NominalExchageRate = MacroInfo[MacroInfo['名稱']=='名目有效匯率指數–台灣'][['年月','數值','名稱']]\n",
    "display(NominalExchageRate.head(3))\n",
    "\n",
    "# 台灣消費者信心指數\n",
    "TW_ICS = MacroInfo[MacroInfo['名稱']=='台灣消費者信心指數'][['年月','數值','名稱']]\n",
    "display(TW_ICS.head(3))\n",
    "\n",
    "# 消費者物價指數(CPI)年增率\n",
    "TW_CPIGrowth = MacroInfo[MacroInfo['名稱']=='消費者物價指數(CPI)年增率'][['年月','數值','名稱']]\n",
    "display(TW_CPIGrowth.head(3))\n",
    "\n",
    "# 經濟成長率(GDP)–全年\n",
    "TW_GDPGrowth = MacroInfo[MacroInfo['名稱']=='經濟成長率(GDP)–單季'][['年月','數值','名稱']]\n",
    "display(TW_GDPGrowth.head(3))"
   ]
  },
  {
   "cell_type": "code",
   "execution_count": 20,
   "metadata": {},
   "outputs": [
    {
     "data": {
      "text/plain": [
       "Index(['日期', '代號', '名稱', '上市買進金額(百萬)', '上市賣出金額(百萬)', '上市買賣超金額(百萬)',\n",
       "       '上櫃買進金額(百萬)', '上櫃賣出金額(百萬)', '上櫃買賣超金額(百萬)', '合計買進金額(百萬)', '合計賣出金額(百萬)',\n",
       "       '合計買賣超金額(百萬)', '上櫃股票買進金額(百萬)', '上櫃股票賣出金額(百萬)', '上櫃股票買賣超金額(百萬)',\n",
       "       '興櫃買進金額(百萬)', '興櫃賣出金額(百萬)', '興櫃買賣超金額(百萬)', 'RTIME'],\n",
       "      dtype='object')"
      ]
     },
     "execution_count": 20,
     "metadata": {},
     "output_type": "execute_result"
    }
   ],
   "source": [
    "JuridicalInfo.columns\n",
    "#上市買賣超金額(百萬)、上櫃買賣超金額(百萬)、合計買進金額(百萬)"
   ]
  },
  {
   "cell_type": "code",
   "execution_count": 16,
   "metadata": {},
   "outputs": [],
   "source": [
    "NominalGDP = OverallGeneralEcon[['time','Nominal_GDP']]\n",
    "NominalGDP = NominalGDP.rename(columns={'time':'quarter'})\n",
    "#print(NominalGDP)\n",
    "#print(type(NominalGDP))"
   ]
  },
  {
   "cell_type": "code",
   "execution_count": 17,
   "metadata": {},
   "outputs": [],
   "source": [
    "# 將df的日期轉換為季度\n",
    "df_copy = df.copy()\n",
    "df_copy['quarter'] = (pd.to_datetime(df_copy['ddate'], format='%Y%m').dt.year.astype(str) + 'Q' + pd.to_datetime(df_copy['ddate'], format='%Y%m').dt.quarter.astype(str))\n",
    "\n",
    "# 使用merge方法合併兩個data frame\n",
    "df_copy = pd.merge(df_copy, NominalGDP, on='quarter', how='left').dropna()"
   ]
  },
  {
   "cell_type": "code",
   "execution_count": 19,
   "metadata": {},
   "outputs": [
    {
     "data": {
      "text/plain": [
       "Index(['ddate', 'stockid', 'direction', 'rev', 'mom', 'yoy', 'revd1', 'yoyd1',\n",
       "       'mond1', 'revd2', 'yoyd2', 'mond2', 'revd3', 'yoyd3', 'mond3', 'revd4',\n",
       "       'yoyd4', 'mond4', 'revd5', 'yoyd5', 'mond5', 'revd6', 'yoyd6', 'mond6',\n",
       "       'revd7', 'yoyd7', 'mond7', 'revd8', 'yoyd8', 'mond8', 'revd9', 'yoyd9',\n",
       "       'mond9', 'revd10', 'yoyd10', 'mond10', 'revd11', 'yoyd11', 'mond11',\n",
       "       'revd12', 'yoyd12', 'mond12', 'quarter', 'Nominal_GDP'],\n",
       "      dtype='object')"
      ]
     },
     "execution_count": 19,
     "metadata": {},
     "output_type": "execute_result"
    }
   ],
   "source": [
    "df_copy.columns"
   ]
  },
  {
   "cell_type": "code",
   "execution_count": 21,
   "metadata": {},
   "outputs": [],
   "source": [
    "# variable and target columns\n",
    "target_col_GDP =  ['direction']\n",
    "variable_col_GDP = ['revd1', 'yoyd1',\n",
    "                         'mond1', 'revd2', 'yoyd2', 'mond2', 'revd3', 'yoyd3', 'mond3', 'revd4',\n",
    "                         'yoyd4', 'mond4', 'revd5', 'yoyd5', 'mond5', 'revd6', 'yoyd6', 'mond6',\n",
    "                         'revd7', 'yoyd7', 'mond7', 'revd8', 'yoyd8', 'mond8', 'revd9', 'yoyd9',\n",
    "                         'mond9', 'revd10', 'yoyd10', 'mond10', 'revd11', 'yoyd11', 'mond11',\n",
    "                         'revd12', 'yoyd12', 'mond12','Nominal_GDP' ]\n",
    "\n",
    "y_GDP = df_copy[target_col_GDP] # overall y\n",
    "X_GDP = df_copy[variable_col_GDP] # overall X"
   ]
  },
  {
   "cell_type": "code",
   "execution_count": 27,
   "metadata": {},
   "outputs": [
    {
     "name": "stdout",
     "output_type": "stream",
     "text": [
      "0.009671734212467519\n",
      "-0.0023818022480477617\n"
     ]
    }
   ],
   "source": [
    "# 計算變數相關性，用以決定變數\n",
    "correlation, _ = pointbiserialr(df_copy['direction'], df_copy['Nominal_GDP'])\n",
    "\n",
    "print(correlation)\n",
    "\n",
    "correlation2, _ = pointbiserialr(df_copy['direction'], df_copy['revd1'])\n",
    "print(correlation2)"
   ]
  },
  {
   "cell_type": "code",
   "execution_count": 44,
   "metadata": {},
   "outputs": [
    {
     "name": "stdout",
     "output_type": "stream",
     "text": [
      "revd12\n",
      "Variable with highest correlation: revd12, correlation: 0.0105\n",
      "Variable with lowest correlation: yoyd1, correlation: -0.0105\n"
     ]
    }
   ],
   "source": [
    "# 計算每個變數與目標變數的點二序列相關係數，並儲存到一個字典中\n",
    "correlations = {}\n",
    "for variable in variable_col_GDP:\n",
    "    if variable != 'direction':\n",
    "        correlation, _ = pointbiserialr(df_copy['direction'], df_copy[variable])\n",
    "        correlation = round(correlation, 4)\n",
    "        correlations[variable] = correlation\n",
    "        #print(f'Correlation between target and {variable}: {correlation}')\n",
    "\n",
    "#print(correlations)\n",
    "\n",
    "# 找出相關性最大和最小的變數\n",
    "max_corr_var = max(correlations, key=correlations.get)\n",
    "min_corr_var = min(correlations, key=correlations.get)\n",
    "print(max_corr_var)\n",
    "print(f'Variable with highest correlation: {max_corr_var}, correlation: {correlations[max_corr_var]}')\n",
    "print(f'Variable with lowest correlation: {min_corr_var}, correlation: {correlations[min_corr_var]}')\n"
   ]
  },
  {
   "cell_type": "code",
   "execution_count": null,
   "metadata": {},
   "outputs": [],
   "source": []
  }
 ],
 "metadata": {
  "kernelspec": {
   "display_name": "Python 3",
   "language": "python",
   "name": "python3"
  },
  "language_info": {
   "codemirror_mode": {
    "name": "ipython",
    "version": 3
   },
   "file_extension": ".py",
   "mimetype": "text/x-python",
   "name": "python",
   "nbconvert_exporter": "python",
   "pygments_lexer": "ipython3",
   "version": "3.10.13"
  }
 },
 "nbformat": 4,
 "nbformat_minor": 2
}
