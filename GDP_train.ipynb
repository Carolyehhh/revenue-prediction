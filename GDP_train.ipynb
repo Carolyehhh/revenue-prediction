{
 "cells": [
  {
   "cell_type": "code",
   "execution_count": 1,
   "metadata": {},
   "outputs": [],
   "source": [
    "import pandas as pd\n",
    "import numpy as np\n",
    "# 用於二元目標變數\n",
    "from scipy.stats import pointbiserialr\n",
    "from functools import reduce"
   ]
  },
  {
   "cell_type": "code",
   "execution_count": 2,
   "metadata": {},
   "outputs": [
    {
     "name": "stderr",
     "output_type": "stream",
     "text": [
      "c:\\Users\\user1\\Desktop\\repo2\\revenue-prediction\\data.py:48: UserWarning: pandas only supports SQLAlchemy connectable (engine/connection) or database string URI or sqlite3 DBAPI2 connection. Other DBAPI2 objects are not tested. Please consider using SQLAlchemy.\n",
      "  Dream_report = pd.read_sql(qr_sub, conn)\n",
      "c:\\Users\\user1\\Desktop\\repo2\\revenue-prediction\\data.py:72: UserWarning: pandas only supports SQLAlchemy connectable (engine/connection) or database string URI or sqlite3 DBAPI2 connection. Other DBAPI2 objects are not tested. Please consider using SQLAlchemy.\n",
      "  stock_info = pd.read_sql(stock_qr_sub, conn)\n",
      "c:\\Users\\user1\\Desktop\\repo2\\revenue-prediction\\data.py:95: UserWarning: pandas only supports SQLAlchemy connectable (engine/connection) or database string URI or sqlite3 DBAPI2 connection. Other DBAPI2 objects are not tested. Please consider using SQLAlchemy.\n",
      "  MacroInfo = pd.read_sql(macro_qr_sub, conn)\n"
     ]
    },
    {
     "name": "stdout",
     "output_type": "stream",
     "text": [
      "            年月     代號           數值                  名稱\n",
      "0       202412  19600        1.060       經濟成長率(GDP)–單季\n",
      "1       202412  19700   201644.000      國內生產毛額(GDP)–美元\n",
      "2       202412  19710  6404219.000      國內生產毛額(GDP)–台幣\n",
      "3       202412  19750     8567.000  平均每人國內生產毛額(GDP)–美元\n",
      "4       202412  19760   272086.000  平均每人國內生產毛額(GDP)–台幣\n",
      "...        ...    ...          ...                 ...\n",
      "263426  201401  USA96      954.642              美國營建支出\n",
      "263427  201401  USA97        0.000           美國新屋開工年增率\n",
      "263428  201401  USA98     1723.614             美國企業存貨額\n",
      "263429  201401  USA99        1.600          美國核心CPI年增率\n",
      "263430  201401  ZAF00      100.300        OECD領先指標(南非)\n",
      "\n",
      "[263431 rows x 4 columns]\n"
     ]
    },
    {
     "name": "stderr",
     "output_type": "stream",
     "text": [
      "c:\\Users\\user1\\Desktop\\repo2\\revenue-prediction\\data.py:107: UserWarning: pandas only supports SQLAlchemy connectable (engine/connection) or database string URI or sqlite3 DBAPI2 connection. Other DBAPI2 objects are not tested. Please consider using SQLAlchemy.\n",
      "  JuridicalInfo = pd.read_sql(juridical_qr_sub, conn)\n"
     ]
    }
   ],
   "source": [
    "# Import GDP Data\n",
    "from data import OverallGeneralEcon, df, MacroInfo, JuridicalInfo"
   ]
  },
  {
   "cell_type": "code",
   "execution_count": 6,
   "metadata": {},
   "outputs": [
    {
     "data": {
      "text/plain": [
       "'\\n名目有效匯率指數–台灣\\n台灣消費者信心指數\\n台灣消費者信心指數–未來半年國內經濟景氣\\n台灣消費者信心指數–未來半年國內物價水準\\n美國消費者信心指數\\n經濟成長率(GDP)–全年\\n實質國內生產毛額(GDP)–台幣\\n實質GDP成長率(台灣)\\n貨幣總額(M1A)日平均、貨幣總額(M2)日平均、貨幣總額年增率(M1A)日平均\\n臺灣製造業PMI - 新增出口訂單 - 基礎原物料\\n台灣外銷訂單金額–全球\\n消費者物價指數(CPI)、消費者物價指數(CPI)年增率、核心消費者物價指數\\n美國核心PPI、美國核心PPI月增率\\n進口物價指數、出口物價指數年增率\\n'"
      ]
     },
     "execution_count": 6,
     "metadata": {},
     "output_type": "execute_result"
    }
   ],
   "source": [
    "# 名目、實質、時間\n",
    "\"\"\"\n",
    "MacroInfo\n",
    "名目有效匯率指數–台灣\n",
    "台灣消費者信心指數\n",
    "台灣消費者信心指數–未來半年國內經濟景氣\n",
    "台灣消費者信心指數–未來半年國內物價水準\n",
    "美國消費者信心指數\n",
    "經濟成長率(GDP)–全年\n",
    "--\n",
    "實質國內生產毛額(GDP)–台幣 -> 只更新到202009\n",
    "實質GDP成長率(台灣) -> 只更新到202212\n",
    "--\n",
    "貨幣總額(M1A)日平均、貨幣總額(M2)日平均、貨幣總額年增率(M1A)日平均\n",
    "臺灣製造業PMI - 新增出口訂單 - 基礎原物料\n",
    "台灣外銷訂單金額–全球\n",
    "消費者物價指數(CPI)、消費者物價指數(CPI)年增率、核心消費者物價指數\n",
    "美國核心PPI、美國核心PPI月增率\n",
    "進口物價指數、出口物價指數年增率\n",
    "\n",
    "sysallunTWESPF\n",
    "外銷訂單_美金計價(百萬美元)_合計_年增率(%)(月)\n",
    "景氣同時指標_工業生產指數(Index 2006=100)_年增率(%)(月)\n",
    "\n",
    "sysTaiStaValMAC\n",
    "景氣指標統計_景氣領先指標不含趨勢指數(點)_年增率(%)(月)\n",
    "\n",
    "其他\n",
    "財報、營收\n",
    "\"\"\""
   ]
  },
  {
   "cell_type": "code",
   "execution_count": 5,
   "metadata": {},
   "outputs": [
    {
     "data": {
      "text/html": [
       "<div>\n",
       "<style scoped>\n",
       "    .dataframe tbody tr th:only-of-type {\n",
       "        vertical-align: middle;\n",
       "    }\n",
       "\n",
       "    .dataframe tbody tr th {\n",
       "        vertical-align: top;\n",
       "    }\n",
       "\n",
       "    .dataframe thead th {\n",
       "        text-align: right;\n",
       "    }\n",
       "</style>\n",
       "<table border=\"1\" class=\"dataframe\">\n",
       "  <thead>\n",
       "    <tr style=\"text-align: right;\">\n",
       "      <th></th>\n",
       "      <th>ddate</th>\n",
       "      <th>value</th>\n",
       "      <th>category</th>\n",
       "    </tr>\n",
       "  </thead>\n",
       "  <tbody>\n",
       "    <tr>\n",
       "      <th>1850</th>\n",
       "      <td>202311</td>\n",
       "      <td>101.05</td>\n",
       "      <td>名目有效匯率指數–台灣</td>\n",
       "    </tr>\n",
       "    <tr>\n",
       "      <th>3066</th>\n",
       "      <td>202310</td>\n",
       "      <td>100.99</td>\n",
       "      <td>名目有效匯率指數–台灣</td>\n",
       "    </tr>\n",
       "    <tr>\n",
       "      <th>4867</th>\n",
       "      <td>202309</td>\n",
       "      <td>101.07</td>\n",
       "      <td>名目有效匯率指數–台灣</td>\n",
       "    </tr>\n",
       "  </tbody>\n",
       "</table>\n",
       "</div>"
      ],
      "text/plain": [
       "       ddate   value     category\n",
       "1850  202311  101.05  名目有效匯率指數–台灣\n",
       "3066  202310  100.99  名目有效匯率指數–台灣\n",
       "4867  202309  101.07  名目有效匯率指數–台灣"
      ]
     },
     "metadata": {},
     "output_type": "display_data"
    },
    {
     "data": {
      "text/html": [
       "<div>\n",
       "<style scoped>\n",
       "    .dataframe tbody tr th:only-of-type {\n",
       "        vertical-align: middle;\n",
       "    }\n",
       "\n",
       "    .dataframe tbody tr th {\n",
       "        vertical-align: top;\n",
       "    }\n",
       "\n",
       "    .dataframe thead th {\n",
       "        text-align: right;\n",
       "    }\n",
       "</style>\n",
       "<table border=\"1\" class=\"dataframe\">\n",
       "  <thead>\n",
       "    <tr style=\"text-align: right;\">\n",
       "      <th></th>\n",
       "      <th>ddate</th>\n",
       "      <th>value</th>\n",
       "      <th>category</th>\n",
       "    </tr>\n",
       "  </thead>\n",
       "  <tbody>\n",
       "    <tr>\n",
       "      <th>258631</th>\n",
       "      <td>201403</td>\n",
       "      <td>80.96</td>\n",
       "      <td>台灣消費者信心指數</td>\n",
       "    </tr>\n",
       "    <tr>\n",
       "      <th>260946</th>\n",
       "      <td>201402</td>\n",
       "      <td>82.93</td>\n",
       "      <td>台灣消費者信心指數</td>\n",
       "    </tr>\n",
       "    <tr>\n",
       "      <th>263241</th>\n",
       "      <td>201401</td>\n",
       "      <td>80.83</td>\n",
       "      <td>台灣消費者信心指數</td>\n",
       "    </tr>\n",
       "  </tbody>\n",
       "</table>\n",
       "</div>"
      ],
      "text/plain": [
       "         ddate  value   category\n",
       "258631  201403  80.96  台灣消費者信心指數\n",
       "260946  201402  82.93  台灣消費者信心指數\n",
       "263241  201401  80.83  台灣消費者信心指數"
      ]
     },
     "metadata": {},
     "output_type": "display_data"
    },
    {
     "data": {
      "text/html": [
       "<div>\n",
       "<style scoped>\n",
       "    .dataframe tbody tr th:only-of-type {\n",
       "        vertical-align: middle;\n",
       "    }\n",
       "\n",
       "    .dataframe tbody tr th {\n",
       "        vertical-align: top;\n",
       "    }\n",
       "\n",
       "    .dataframe thead th {\n",
       "        text-align: right;\n",
       "    }\n",
       "</style>\n",
       "<table border=\"1\" class=\"dataframe\">\n",
       "  <thead>\n",
       "    <tr style=\"text-align: right;\">\n",
       "      <th></th>\n",
       "      <th>ddate</th>\n",
       "      <th>value</th>\n",
       "      <th>category</th>\n",
       "    </tr>\n",
       "  </thead>\n",
       "  <tbody>\n",
       "    <tr>\n",
       "      <th>309</th>\n",
       "      <td>202312</td>\n",
       "      <td>2.71</td>\n",
       "      <td>消費者物價指數(CPI)年增率</td>\n",
       "    </tr>\n",
       "    <tr>\n",
       "      <th>1170</th>\n",
       "      <td>202311</td>\n",
       "      <td>2.90</td>\n",
       "      <td>消費者物價指數(CPI)年增率</td>\n",
       "    </tr>\n",
       "    <tr>\n",
       "      <th>2326</th>\n",
       "      <td>202310</td>\n",
       "      <td>3.05</td>\n",
       "      <td>消費者物價指數(CPI)年增率</td>\n",
       "    </tr>\n",
       "  </tbody>\n",
       "</table>\n",
       "</div>"
      ],
      "text/plain": [
       "       ddate  value         category\n",
       "309   202312   2.71  消費者物價指數(CPI)年增率\n",
       "1170  202311   2.90  消費者物價指數(CPI)年增率\n",
       "2326  202310   3.05  消費者物價指數(CPI)年增率"
      ]
     },
     "metadata": {},
     "output_type": "display_data"
    },
    {
     "data": {
      "text/html": [
       "<div>\n",
       "<style scoped>\n",
       "    .dataframe tbody tr th:only-of-type {\n",
       "        vertical-align: middle;\n",
       "    }\n",
       "\n",
       "    .dataframe tbody tr th {\n",
       "        vertical-align: top;\n",
       "    }\n",
       "\n",
       "    .dataframe thead th {\n",
       "        text-align: right;\n",
       "    }\n",
       "</style>\n",
       "<table border=\"1\" class=\"dataframe\">\n",
       "  <thead>\n",
       "    <tr style=\"text-align: right;\">\n",
       "      <th></th>\n",
       "      <th>ddate</th>\n",
       "      <th>value</th>\n",
       "      <th>category</th>\n",
       "    </tr>\n",
       "  </thead>\n",
       "  <tbody>\n",
       "    <tr>\n",
       "      <th>0</th>\n",
       "      <td>202412</td>\n",
       "      <td>1.06</td>\n",
       "      <td>經濟成長率(GDP)–單季</td>\n",
       "    </tr>\n",
       "    <tr>\n",
       "      <th>27</th>\n",
       "      <td>202409</td>\n",
       "      <td>2.12</td>\n",
       "      <td>經濟成長率(GDP)–單季</td>\n",
       "    </tr>\n",
       "    <tr>\n",
       "      <th>42</th>\n",
       "      <td>202406</td>\n",
       "      <td>4.77</td>\n",
       "      <td>經濟成長率(GDP)–單季</td>\n",
       "    </tr>\n",
       "  </tbody>\n",
       "</table>\n",
       "</div>"
      ],
      "text/plain": [
       "     ddate  value       category\n",
       "0   202412   1.06  經濟成長率(GDP)–單季\n",
       "27  202409   2.12  經濟成長率(GDP)–單季\n",
       "42  202406   4.77  經濟成長率(GDP)–單季"
      ]
     },
     "metadata": {},
     "output_type": "display_data"
    }
   ],
   "source": [
    "# Improt data\n",
    "# 名目有效匯率指數\n",
    "NominalExchageRate = MacroInfo[MacroInfo['名稱']=='名目有效匯率指數–台灣'][['年月','數值','名稱']].rename(columns={'年月':'ddate', '數值':'value', '名稱':'category'})\n",
    "display(NominalExchageRate.head(3))\n",
    "\n",
    "# 台灣消費者信心指數\n",
    "TW_ICS = MacroInfo[MacroInfo['名稱']=='台灣消費者信心指數'][['年月','數值','名稱']].rename(columns={'年月':'ddate', '數值':'value', '名稱':'category'})\n",
    "display(TW_ICS.tail(3))\n",
    "\n",
    "# 消費者物價指數(CPI)年增率\n",
    "TW_CPIGrowth = MacroInfo[MacroInfo['名稱']=='消費者物價指數(CPI)年增率'][['年月','數值','名稱']].rename(columns={'年月':'ddate', '數值':'value', '名稱':'category'})\n",
    "display(TW_CPIGrowth.head(3))\n",
    "\n",
    "# 經濟成長率(GDP)–全年\n",
    "TW_GDPGrowth = MacroInfo[MacroInfo['名稱']=='經濟成長率(GDP)–單季'][['年月','數值','名稱']].rename(columns={'年月':'ddate', '數值':'value', '名稱':'category'})\n",
    "display(TW_GDPGrowth.head(3))"
   ]
  },
  {
   "cell_type": "code",
   "execution_count": 20,
   "metadata": {},
   "outputs": [
    {
     "data": {
      "text/plain": [
       "Index(['日期', '代號', '名稱', '上市買進金額(百萬)', '上市賣出金額(百萬)', '上市買賣超金額(百萬)',\n",
       "       '上櫃買進金額(百萬)', '上櫃賣出金額(百萬)', '上櫃買賣超金額(百萬)', '合計買進金額(百萬)', '合計賣出金額(百萬)',\n",
       "       '合計買賣超金額(百萬)', '上櫃股票買進金額(百萬)', '上櫃股票賣出金額(百萬)', '上櫃股票買賣超金額(百萬)',\n",
       "       '興櫃買進金額(百萬)', '興櫃賣出金額(百萬)', '興櫃買賣超金額(百萬)', 'RTIME'],\n",
       "      dtype='object')"
      ]
     },
     "execution_count": 20,
     "metadata": {},
     "output_type": "execute_result"
    }
   ],
   "source": [
    "#JuridicalInfo.columns\n",
    "#上市買賣超金額(百萬)、上櫃買賣超金額(百萬)、合計買進金額(百萬)"
   ]
  },
  {
   "cell_type": "code",
   "execution_count": 15,
   "metadata": {},
   "outputs": [],
   "source": [
    "TW_NominalGDP = OverallGeneralEcon[['time','Nominal_GDP']]\n",
    "TW_NominalGDP = TW_NominalGDP.rename(columns={'time':'ddate'})\n",
    "#print(TW_NominalGDP.head(3))\n",
    "TW_NominalGDP['ddate'] = TW_NominalGDP['ddate'].astype(str)"
   ]
  },
  {
   "cell_type": "code",
   "execution_count": 47,
   "metadata": {},
   "outputs": [],
   "source": [
    "# 將GDP季資料先合併\n",
    "TW_NominalGDP\n",
    "TW_GDPGrowth\n",
    "GDP_quarterly = pd.merge(TW_NominalGDP, TW_GDPGrowth, on='ddate', how='left')\n",
    "GDP_quarterly.columns = ['ddate', 'NominalGDP', 'GDP_growth', 'category_GDPgrowth']\n",
    "#GDP_quarterly.head(3)"
   ]
  },
  {
   "cell_type": "code",
   "execution_count": 53,
   "metadata": {},
   "outputs": [
    {
     "data": {
      "text/html": [
       "<div>\n",
       "<style scoped>\n",
       "    .dataframe tbody tr th:only-of-type {\n",
       "        vertical-align: middle;\n",
       "    }\n",
       "\n",
       "    .dataframe tbody tr th {\n",
       "        vertical-align: top;\n",
       "    }\n",
       "\n",
       "    .dataframe thead th {\n",
       "        text-align: right;\n",
       "    }\n",
       "</style>\n",
       "<table border=\"1\" class=\"dataframe\">\n",
       "  <thead>\n",
       "    <tr style=\"text-align: right;\">\n",
       "      <th></th>\n",
       "      <th>ddate</th>\n",
       "      <th>FX</th>\n",
       "      <th>category_FX</th>\n",
       "      <th>CCI</th>\n",
       "      <th>category_CCI</th>\n",
       "      <th>CPI_growth</th>\n",
       "      <th>category_CPIgrowth</th>\n",
       "    </tr>\n",
       "  </thead>\n",
       "  <tbody>\n",
       "    <tr>\n",
       "      <th>0</th>\n",
       "      <td>202311</td>\n",
       "      <td>101.05</td>\n",
       "      <td>名目有效匯率指數–台灣</td>\n",
       "      <td>69.40</td>\n",
       "      <td>台灣消費者信心指數</td>\n",
       "      <td>2.90</td>\n",
       "      <td>消費者物價指數(CPI)年增率</td>\n",
       "    </tr>\n",
       "    <tr>\n",
       "      <th>1</th>\n",
       "      <td>202310</td>\n",
       "      <td>100.99</td>\n",
       "      <td>名目有效匯率指數–台灣</td>\n",
       "      <td>69.06</td>\n",
       "      <td>台灣消費者信心指數</td>\n",
       "      <td>3.05</td>\n",
       "      <td>消費者物價指數(CPI)年增率</td>\n",
       "    </tr>\n",
       "    <tr>\n",
       "      <th>2</th>\n",
       "      <td>202309</td>\n",
       "      <td>101.07</td>\n",
       "      <td>名目有效匯率指數–台灣</td>\n",
       "      <td>66.73</td>\n",
       "      <td>台灣消費者信心指數</td>\n",
       "      <td>2.93</td>\n",
       "      <td>消費者物價指數(CPI)年增率</td>\n",
       "    </tr>\n",
       "    <tr>\n",
       "      <th>3</th>\n",
       "      <td>202308</td>\n",
       "      <td>100.67</td>\n",
       "      <td>名目有效匯率指數–台灣</td>\n",
       "      <td>67.51</td>\n",
       "      <td>台灣消費者信心指數</td>\n",
       "      <td>2.53</td>\n",
       "      <td>消費者物價指數(CPI)年增率</td>\n",
       "    </tr>\n",
       "    <tr>\n",
       "      <th>4</th>\n",
       "      <td>202307</td>\n",
       "      <td>101.31</td>\n",
       "      <td>名目有效匯率指數–台灣</td>\n",
       "      <td>68.39</td>\n",
       "      <td>台灣消費者信心指數</td>\n",
       "      <td>1.88</td>\n",
       "      <td>消費者物價指數(CPI)年增率</td>\n",
       "    </tr>\n",
       "    <tr>\n",
       "      <th>...</th>\n",
       "      <td>...</td>\n",
       "      <td>...</td>\n",
       "      <td>...</td>\n",
       "      <td>...</td>\n",
       "      <td>...</td>\n",
       "      <td>...</td>\n",
       "      <td>...</td>\n",
       "    </tr>\n",
       "    <tr>\n",
       "      <th>114</th>\n",
       "      <td>201405</td>\n",
       "      <td>86.41</td>\n",
       "      <td>名目有效匯率指數–台灣</td>\n",
       "      <td>85.59</td>\n",
       "      <td>台灣消費者信心指數</td>\n",
       "      <td>1.62</td>\n",
       "      <td>消費者物價指數(CPI)年增率</td>\n",
       "    </tr>\n",
       "    <tr>\n",
       "      <th>115</th>\n",
       "      <td>201404</td>\n",
       "      <td>86.35</td>\n",
       "      <td>名目有效匯率指數–台灣</td>\n",
       "      <td>83.73</td>\n",
       "      <td>台灣消費者信心指數</td>\n",
       "      <td>1.65</td>\n",
       "      <td>消費者物價指數(CPI)年增率</td>\n",
       "    </tr>\n",
       "    <tr>\n",
       "      <th>116</th>\n",
       "      <td>201403</td>\n",
       "      <td>85.79</td>\n",
       "      <td>名目有效匯率指數–台灣</td>\n",
       "      <td>80.96</td>\n",
       "      <td>台灣消費者信心指數</td>\n",
       "      <td>1.61</td>\n",
       "      <td>消費者物價指數(CPI)年增率</td>\n",
       "    </tr>\n",
       "    <tr>\n",
       "      <th>117</th>\n",
       "      <td>201402</td>\n",
       "      <td>85.87</td>\n",
       "      <td>名目有效匯率指數–台灣</td>\n",
       "      <td>82.93</td>\n",
       "      <td>台灣消費者信心指數</td>\n",
       "      <td>-0.04</td>\n",
       "      <td>消費者物價指數(CPI)年增率</td>\n",
       "    </tr>\n",
       "    <tr>\n",
       "      <th>118</th>\n",
       "      <td>201401</td>\n",
       "      <td>86.46</td>\n",
       "      <td>名目有效匯率指數–台灣</td>\n",
       "      <td>80.83</td>\n",
       "      <td>台灣消費者信心指數</td>\n",
       "      <td>0.82</td>\n",
       "      <td>消費者物價指數(CPI)年增率</td>\n",
       "    </tr>\n",
       "  </tbody>\n",
       "</table>\n",
       "<p>119 rows × 7 columns</p>\n",
       "</div>"
      ],
      "text/plain": [
       "      ddate      FX  category_FX    CCI category_CCI  CPI_growth  \\\n",
       "0    202311  101.05  名目有效匯率指數–台灣  69.40    台灣消費者信心指數        2.90   \n",
       "1    202310  100.99  名目有效匯率指數–台灣  69.06    台灣消費者信心指數        3.05   \n",
       "2    202309  101.07  名目有效匯率指數–台灣  66.73    台灣消費者信心指數        2.93   \n",
       "3    202308  100.67  名目有效匯率指數–台灣  67.51    台灣消費者信心指數        2.53   \n",
       "4    202307  101.31  名目有效匯率指數–台灣  68.39    台灣消費者信心指數        1.88   \n",
       "..      ...     ...          ...    ...          ...         ...   \n",
       "114  201405   86.41  名目有效匯率指數–台灣  85.59    台灣消費者信心指數        1.62   \n",
       "115  201404   86.35  名目有效匯率指數–台灣  83.73    台灣消費者信心指數        1.65   \n",
       "116  201403   85.79  名目有效匯率指數–台灣  80.96    台灣消費者信心指數        1.61   \n",
       "117  201402   85.87  名目有效匯率指數–台灣  82.93    台灣消費者信心指數       -0.04   \n",
       "118  201401   86.46  名目有效匯率指數–台灣  80.83    台灣消費者信心指數        0.82   \n",
       "\n",
       "    category_CPIgrowth  \n",
       "0      消費者物價指數(CPI)年增率  \n",
       "1      消費者物價指數(CPI)年增率  \n",
       "2      消費者物價指數(CPI)年增率  \n",
       "3      消費者物價指數(CPI)年增率  \n",
       "4      消費者物價指數(CPI)年增率  \n",
       "..                 ...  \n",
       "114    消費者物價指數(CPI)年增率  \n",
       "115    消費者物價指數(CPI)年增率  \n",
       "116    消費者物價指數(CPI)年增率  \n",
       "117    消費者物價指數(CPI)年增率  \n",
       "118    消費者物價指數(CPI)年增率  \n",
       "\n",
       "[119 rows x 7 columns]"
      ]
     },
     "metadata": {},
     "output_type": "display_data"
    }
   ],
   "source": [
    "# (月)總經資料\n",
    "dfs = [NominalExchageRate, TW_ICS, TW_CPIGrowth]\n",
    "MergedMacroData = reduce(lambda left, right: pd.merge(left, right, on='ddate', how='left'), dfs)\n",
    "\n",
    "# Rename columns\n",
    "MergedMacroData.columns = ['ddate', 'FX', 'category_FX', 'CCI',\n",
    "                          'category_CCI', 'CPI_growth', 'category_CPIgrowth']\n",
    "\n",
    "display(MergedMacroData)\n",
    "\n",
    "# FX-Foriegn-exchange rate\n",
    "# CCI-台灣消費者信心指數"
   ]
  },
  {
   "cell_type": "code",
   "execution_count": 6,
   "metadata": {},
   "outputs": [],
   "source": [
    "# 單純以總經變數訓練模型\n"
   ]
  },
  {
   "cell_type": "code",
   "execution_count": 5,
   "metadata": {},
   "outputs": [
    {
     "ename": "KeyError",
     "evalue": "'quarter'",
     "output_type": "error",
     "traceback": [
      "\u001b[1;31m---------------------------------------------------------------------------\u001b[0m",
      "\u001b[1;31mKeyError\u001b[0m                                  Traceback (most recent call last)",
      "\u001b[1;32m~\\AppData\\Local\\Temp\\ipykernel_12388\\1821477987.py\u001b[0m in \u001b[0;36m?\u001b[1;34m()\u001b[0m\n\u001b[0;32m      2\u001b[0m \u001b[0mdf_copy\u001b[0m \u001b[1;33m=\u001b[0m \u001b[0mdf\u001b[0m\u001b[1;33m.\u001b[0m\u001b[0mcopy\u001b[0m\u001b[1;33m(\u001b[0m\u001b[1;33m)\u001b[0m\u001b[1;33m\u001b[0m\u001b[1;33m\u001b[0m\u001b[0m\n\u001b[0;32m      3\u001b[0m \u001b[0mdf_copy\u001b[0m\u001b[1;33m[\u001b[0m\u001b[1;34m'quarter'\u001b[0m\u001b[1;33m]\u001b[0m \u001b[1;33m=\u001b[0m \u001b[1;33m(\u001b[0m\u001b[0mpd\u001b[0m\u001b[1;33m.\u001b[0m\u001b[0mto_datetime\u001b[0m\u001b[1;33m(\u001b[0m\u001b[0mdf_copy\u001b[0m\u001b[1;33m[\u001b[0m\u001b[1;34m'ddate'\u001b[0m\u001b[1;33m]\u001b[0m\u001b[1;33m,\u001b[0m \u001b[0mformat\u001b[0m\u001b[1;33m=\u001b[0m\u001b[1;34m'%Y%m'\u001b[0m\u001b[1;33m)\u001b[0m\u001b[1;33m.\u001b[0m\u001b[0mdt\u001b[0m\u001b[1;33m.\u001b[0m\u001b[0myear\u001b[0m\u001b[1;33m.\u001b[0m\u001b[0mastype\u001b[0m\u001b[1;33m(\u001b[0m\u001b[0mstr\u001b[0m\u001b[1;33m)\u001b[0m \u001b[1;33m+\u001b[0m \u001b[1;34m'Q'\u001b[0m \u001b[1;33m+\u001b[0m \u001b[0mpd\u001b[0m\u001b[1;33m.\u001b[0m\u001b[0mto_datetime\u001b[0m\u001b[1;33m(\u001b[0m\u001b[0mdf_copy\u001b[0m\u001b[1;33m[\u001b[0m\u001b[1;34m'ddate'\u001b[0m\u001b[1;33m]\u001b[0m\u001b[1;33m,\u001b[0m \u001b[0mformat\u001b[0m\u001b[1;33m=\u001b[0m\u001b[1;34m'%Y%m'\u001b[0m\u001b[1;33m)\u001b[0m\u001b[1;33m.\u001b[0m\u001b[0mdt\u001b[0m\u001b[1;33m.\u001b[0m\u001b[0mquarter\u001b[0m\u001b[1;33m.\u001b[0m\u001b[0mastype\u001b[0m\u001b[1;33m(\u001b[0m\u001b[0mstr\u001b[0m\u001b[1;33m)\u001b[0m\u001b[1;33m)\u001b[0m\u001b[1;33m\u001b[0m\u001b[1;33m\u001b[0m\u001b[0m\n\u001b[0;32m      4\u001b[0m \u001b[1;33m\u001b[0m\u001b[0m\n\u001b[0;32m      5\u001b[0m \u001b[1;31m# 使用merge方法合併兩個data frame\u001b[0m\u001b[1;33m\u001b[0m\u001b[1;33m\u001b[0m\u001b[0m\n\u001b[1;32m----> 6\u001b[1;33m \u001b[0mdf_copy\u001b[0m \u001b[1;33m=\u001b[0m \u001b[0mpd\u001b[0m\u001b[1;33m.\u001b[0m\u001b[0mmerge\u001b[0m\u001b[1;33m(\u001b[0m\u001b[0mdf_copy\u001b[0m\u001b[1;33m,\u001b[0m \u001b[0mNominalGDP\u001b[0m\u001b[1;33m,\u001b[0m \u001b[0mon\u001b[0m\u001b[1;33m=\u001b[0m\u001b[1;34m'quarter'\u001b[0m\u001b[1;33m,\u001b[0m \u001b[0mhow\u001b[0m\u001b[1;33m=\u001b[0m\u001b[1;34m'left'\u001b[0m\u001b[1;33m)\u001b[0m\u001b[1;33m.\u001b[0m\u001b[0mdropna\u001b[0m\u001b[1;33m(\u001b[0m\u001b[1;33m)\u001b[0m\u001b[1;33m\u001b[0m\u001b[1;33m\u001b[0m\u001b[0m\n\u001b[0m",
      "\u001b[1;32mc:\\Users\\user1\\anaconda3\\envs\\rev_pred_env\\lib\\site-packages\\pandas\\core\\reshape\\merge.py\u001b[0m in \u001b[0;36m?\u001b[1;34m(left, right, how, on, left_on, right_on, left_index, right_index, sort, suffixes, copy, indicator, validate)\u001b[0m\n\u001b[0;32m    165\u001b[0m             \u001b[0mvalidate\u001b[0m\u001b[1;33m=\u001b[0m\u001b[0mvalidate\u001b[0m\u001b[1;33m,\u001b[0m\u001b[1;33m\u001b[0m\u001b[1;33m\u001b[0m\u001b[0m\n\u001b[0;32m    166\u001b[0m             \u001b[0mcopy\u001b[0m\u001b[1;33m=\u001b[0m\u001b[0mcopy\u001b[0m\u001b[1;33m,\u001b[0m\u001b[1;33m\u001b[0m\u001b[1;33m\u001b[0m\u001b[0m\n\u001b[0;32m    167\u001b[0m         )\n\u001b[0;32m    168\u001b[0m     \u001b[1;32melse\u001b[0m\u001b[1;33m:\u001b[0m\u001b[1;33m\u001b[0m\u001b[1;33m\u001b[0m\u001b[0m\n\u001b[1;32m--> 169\u001b[1;33m         op = _MergeOperation(\n\u001b[0m\u001b[0;32m    170\u001b[0m             \u001b[0mleft_df\u001b[0m\u001b[1;33m,\u001b[0m\u001b[1;33m\u001b[0m\u001b[1;33m\u001b[0m\u001b[0m\n\u001b[0;32m    171\u001b[0m             \u001b[0mright_df\u001b[0m\u001b[1;33m,\u001b[0m\u001b[1;33m\u001b[0m\u001b[1;33m\u001b[0m\u001b[0m\n\u001b[0;32m    172\u001b[0m             \u001b[0mhow\u001b[0m\u001b[1;33m=\u001b[0m\u001b[0mhow\u001b[0m\u001b[1;33m,\u001b[0m\u001b[1;33m\u001b[0m\u001b[1;33m\u001b[0m\u001b[0m\n",
      "\u001b[1;32mc:\\Users\\user1\\anaconda3\\envs\\rev_pred_env\\lib\\site-packages\\pandas\\core\\reshape\\merge.py\u001b[0m in \u001b[0;36m?\u001b[1;34m(self, left, right, how, on, left_on, right_on, left_index, right_index, sort, suffixes, indicator, validate)\u001b[0m\n\u001b[0;32m    787\u001b[0m             \u001b[0mself\u001b[0m\u001b[1;33m.\u001b[0m\u001b[0mright_join_keys\u001b[0m\u001b[1;33m,\u001b[0m\u001b[1;33m\u001b[0m\u001b[1;33m\u001b[0m\u001b[0m\n\u001b[0;32m    788\u001b[0m             \u001b[0mself\u001b[0m\u001b[1;33m.\u001b[0m\u001b[0mjoin_names\u001b[0m\u001b[1;33m,\u001b[0m\u001b[1;33m\u001b[0m\u001b[1;33m\u001b[0m\u001b[0m\n\u001b[0;32m    789\u001b[0m             \u001b[0mleft_drop\u001b[0m\u001b[1;33m,\u001b[0m\u001b[1;33m\u001b[0m\u001b[1;33m\u001b[0m\u001b[0m\n\u001b[0;32m    790\u001b[0m             \u001b[0mright_drop\u001b[0m\u001b[1;33m,\u001b[0m\u001b[1;33m\u001b[0m\u001b[1;33m\u001b[0m\u001b[0m\n\u001b[1;32m--> 791\u001b[1;33m         ) = self._get_merge_keys()\n\u001b[0m\u001b[0;32m    792\u001b[0m \u001b[1;33m\u001b[0m\u001b[0m\n\u001b[0;32m    793\u001b[0m         \u001b[1;32mif\u001b[0m \u001b[0mleft_drop\u001b[0m\u001b[1;33m:\u001b[0m\u001b[1;33m\u001b[0m\u001b[1;33m\u001b[0m\u001b[0m\n\u001b[0;32m    794\u001b[0m             \u001b[0mself\u001b[0m\u001b[1;33m.\u001b[0m\u001b[0mleft\u001b[0m \u001b[1;33m=\u001b[0m \u001b[0mself\u001b[0m\u001b[1;33m.\u001b[0m\u001b[0mleft\u001b[0m\u001b[1;33m.\u001b[0m\u001b[0m_drop_labels_or_levels\u001b[0m\u001b[1;33m(\u001b[0m\u001b[0mleft_drop\u001b[0m\u001b[1;33m)\u001b[0m\u001b[1;33m\u001b[0m\u001b[1;33m\u001b[0m\u001b[0m\n",
      "\u001b[1;32mc:\\Users\\user1\\anaconda3\\envs\\rev_pred_env\\lib\\site-packages\\pandas\\core\\reshape\\merge.py\u001b[0m in \u001b[0;36m?\u001b[1;34m(self)\u001b[0m\n\u001b[0;32m   1265\u001b[0m                         \u001b[1;31m# Then we're either Hashable or a wrong-length arraylike,\u001b[0m\u001b[1;33m\u001b[0m\u001b[1;33m\u001b[0m\u001b[0m\n\u001b[0;32m   1266\u001b[0m                         \u001b[1;31m#  the latter of which will raise\u001b[0m\u001b[1;33m\u001b[0m\u001b[1;33m\u001b[0m\u001b[0m\n\u001b[0;32m   1267\u001b[0m                         \u001b[0mrk\u001b[0m \u001b[1;33m=\u001b[0m \u001b[0mcast\u001b[0m\u001b[1;33m(\u001b[0m\u001b[0mHashable\u001b[0m\u001b[1;33m,\u001b[0m \u001b[0mrk\u001b[0m\u001b[1;33m)\u001b[0m\u001b[1;33m\u001b[0m\u001b[1;33m\u001b[0m\u001b[0m\n\u001b[0;32m   1268\u001b[0m                         \u001b[1;32mif\u001b[0m \u001b[0mrk\u001b[0m \u001b[1;32mis\u001b[0m \u001b[1;32mnot\u001b[0m \u001b[1;32mNone\u001b[0m\u001b[1;33m:\u001b[0m\u001b[1;33m\u001b[0m\u001b[1;33m\u001b[0m\u001b[0m\n\u001b[1;32m-> 1269\u001b[1;33m                             \u001b[0mright_keys\u001b[0m\u001b[1;33m.\u001b[0m\u001b[0mappend\u001b[0m\u001b[1;33m(\u001b[0m\u001b[0mright\u001b[0m\u001b[1;33m.\u001b[0m\u001b[0m_get_label_or_level_values\u001b[0m\u001b[1;33m(\u001b[0m\u001b[0mrk\u001b[0m\u001b[1;33m)\u001b[0m\u001b[1;33m)\u001b[0m\u001b[1;33m\u001b[0m\u001b[1;33m\u001b[0m\u001b[0m\n\u001b[0m\u001b[0;32m   1270\u001b[0m                         \u001b[1;32melse\u001b[0m\u001b[1;33m:\u001b[0m\u001b[1;33m\u001b[0m\u001b[1;33m\u001b[0m\u001b[0m\n\u001b[0;32m   1271\u001b[0m                             \u001b[1;31m# work-around for merge_asof(right_index=True)\u001b[0m\u001b[1;33m\u001b[0m\u001b[1;33m\u001b[0m\u001b[0m\n\u001b[0;32m   1272\u001b[0m                             \u001b[0mright_keys\u001b[0m\u001b[1;33m.\u001b[0m\u001b[0mappend\u001b[0m\u001b[1;33m(\u001b[0m\u001b[0mright\u001b[0m\u001b[1;33m.\u001b[0m\u001b[0mindex\u001b[0m\u001b[1;33m.\u001b[0m\u001b[0m_values\u001b[0m\u001b[1;33m)\u001b[0m\u001b[1;33m\u001b[0m\u001b[1;33m\u001b[0m\u001b[0m\n",
      "\u001b[1;32mc:\\Users\\user1\\anaconda3\\envs\\rev_pred_env\\lib\\site-packages\\pandas\\core\\generic.py\u001b[0m in \u001b[0;36m?\u001b[1;34m(self, key, axis)\u001b[0m\n\u001b[0;32m   1840\u001b[0m             \u001b[0mvalues\u001b[0m \u001b[1;33m=\u001b[0m \u001b[0mself\u001b[0m\u001b[1;33m.\u001b[0m\u001b[0mxs\u001b[0m\u001b[1;33m(\u001b[0m\u001b[0mkey\u001b[0m\u001b[1;33m,\u001b[0m \u001b[0maxis\u001b[0m\u001b[1;33m=\u001b[0m\u001b[0mother_axes\u001b[0m\u001b[1;33m[\u001b[0m\u001b[1;36m0\u001b[0m\u001b[1;33m]\u001b[0m\u001b[1;33m)\u001b[0m\u001b[1;33m.\u001b[0m\u001b[0m_values\u001b[0m\u001b[1;33m\u001b[0m\u001b[1;33m\u001b[0m\u001b[0m\n\u001b[0;32m   1841\u001b[0m         \u001b[1;32melif\u001b[0m \u001b[0mself\u001b[0m\u001b[1;33m.\u001b[0m\u001b[0m_is_level_reference\u001b[0m\u001b[1;33m(\u001b[0m\u001b[0mkey\u001b[0m\u001b[1;33m,\u001b[0m \u001b[0maxis\u001b[0m\u001b[1;33m=\u001b[0m\u001b[0maxis\u001b[0m\u001b[1;33m)\u001b[0m\u001b[1;33m:\u001b[0m\u001b[1;33m\u001b[0m\u001b[1;33m\u001b[0m\u001b[0m\n\u001b[0;32m   1842\u001b[0m             \u001b[0mvalues\u001b[0m \u001b[1;33m=\u001b[0m \u001b[0mself\u001b[0m\u001b[1;33m.\u001b[0m\u001b[0maxes\u001b[0m\u001b[1;33m[\u001b[0m\u001b[0maxis\u001b[0m\u001b[1;33m]\u001b[0m\u001b[1;33m.\u001b[0m\u001b[0mget_level_values\u001b[0m\u001b[1;33m(\u001b[0m\u001b[0mkey\u001b[0m\u001b[1;33m)\u001b[0m\u001b[1;33m.\u001b[0m\u001b[0m_values\u001b[0m\u001b[1;33m\u001b[0m\u001b[1;33m\u001b[0m\u001b[0m\n\u001b[0;32m   1843\u001b[0m         \u001b[1;32melse\u001b[0m\u001b[1;33m:\u001b[0m\u001b[1;33m\u001b[0m\u001b[1;33m\u001b[0m\u001b[0m\n\u001b[1;32m-> 1844\u001b[1;33m             \u001b[1;32mraise\u001b[0m \u001b[0mKeyError\u001b[0m\u001b[1;33m(\u001b[0m\u001b[0mkey\u001b[0m\u001b[1;33m)\u001b[0m\u001b[1;33m\u001b[0m\u001b[1;33m\u001b[0m\u001b[0m\n\u001b[0m\u001b[0;32m   1845\u001b[0m \u001b[1;33m\u001b[0m\u001b[0m\n\u001b[0;32m   1846\u001b[0m         \u001b[1;31m# Check for duplicates\u001b[0m\u001b[1;33m\u001b[0m\u001b[1;33m\u001b[0m\u001b[0m\n\u001b[0;32m   1847\u001b[0m         \u001b[1;32mif\u001b[0m \u001b[0mvalues\u001b[0m\u001b[1;33m.\u001b[0m\u001b[0mndim\u001b[0m \u001b[1;33m>\u001b[0m \u001b[1;36m1\u001b[0m\u001b[1;33m:\u001b[0m\u001b[1;33m\u001b[0m\u001b[1;33m\u001b[0m\u001b[0m\n",
      "\u001b[1;31mKeyError\u001b[0m: 'quarter'"
     ]
    }
   ],
   "source": [
    "# 將df的日期轉換為季度\n",
    "df_copy = df.copy()\n",
    "df_copy['quarter'] = (pd.to_datetime(df_copy['ddate'], format='%Y%m').dt.year.astype(str) + 'Q' + pd.to_datetime(df_copy['ddate'], format='%Y%m').dt.quarter.astype(str))\n",
    "\n",
    "# 使用merge方法合併兩個data frame\n",
    "df_copy = pd.merge(df_copy, NominalGDP, on='quarter', how='left').dropna()"
   ]
  },
  {
   "cell_type": "code",
   "execution_count": 19,
   "metadata": {},
   "outputs": [
    {
     "data": {
      "text/plain": [
       "Index(['ddate', 'stockid', 'direction', 'rev', 'mom', 'yoy', 'revd1', 'yoyd1',\n",
       "       'mond1', 'revd2', 'yoyd2', 'mond2', 'revd3', 'yoyd3', 'mond3', 'revd4',\n",
       "       'yoyd4', 'mond4', 'revd5', 'yoyd5', 'mond5', 'revd6', 'yoyd6', 'mond6',\n",
       "       'revd7', 'yoyd7', 'mond7', 'revd8', 'yoyd8', 'mond8', 'revd9', 'yoyd9',\n",
       "       'mond9', 'revd10', 'yoyd10', 'mond10', 'revd11', 'yoyd11', 'mond11',\n",
       "       'revd12', 'yoyd12', 'mond12', 'quarter', 'Nominal_GDP'],\n",
       "      dtype='object')"
      ]
     },
     "execution_count": 19,
     "metadata": {},
     "output_type": "execute_result"
    }
   ],
   "source": [
    "df_copy.columns"
   ]
  },
  {
   "cell_type": "code",
   "execution_count": 21,
   "metadata": {},
   "outputs": [],
   "source": [
    "# variable and target columns\n",
    "target_col_GDP =  ['direction']\n",
    "variable_col_GDP = ['revd1', 'yoyd1',\n",
    "                         'mond1', 'revd2', 'yoyd2', 'mond2', 'revd3', 'yoyd3', 'mond3', 'revd4',\n",
    "                         'yoyd4', 'mond4', 'revd5', 'yoyd5', 'mond5', 'revd6', 'yoyd6', 'mond6',\n",
    "                         'revd7', 'yoyd7', 'mond7', 'revd8', 'yoyd8', 'mond8', 'revd9', 'yoyd9',\n",
    "                         'mond9', 'revd10', 'yoyd10', 'mond10', 'revd11', 'yoyd11', 'mond11',\n",
    "                         'revd12', 'yoyd12', 'mond12','Nominal_GDP' ]\n",
    "\n",
    "y_GDP = df_copy[target_col_GDP] # overall y\n",
    "X_GDP = df_copy[variable_col_GDP] # overall X"
   ]
  },
  {
   "cell_type": "code",
   "execution_count": 27,
   "metadata": {},
   "outputs": [
    {
     "name": "stdout",
     "output_type": "stream",
     "text": [
      "0.009671734212467519\n",
      "-0.0023818022480477617\n"
     ]
    }
   ],
   "source": [
    "# 計算變數相關性，用以決定變數\n",
    "correlation, _ = pointbiserialr(df_copy['direction'], df_copy['Nominal_GDP'])\n",
    "\n",
    "print(correlation)\n",
    "\n",
    "correlation2, _ = pointbiserialr(df_copy['direction'], df_copy['revd1'])\n",
    "print(correlation2)"
   ]
  },
  {
   "cell_type": "code",
   "execution_count": 44,
   "metadata": {},
   "outputs": [
    {
     "name": "stdout",
     "output_type": "stream",
     "text": [
      "revd12\n",
      "Variable with highest correlation: revd12, correlation: 0.0105\n",
      "Variable with lowest correlation: yoyd1, correlation: -0.0105\n"
     ]
    }
   ],
   "source": [
    "# 計算每個變數與目標變數的點二序列相關係數，並儲存到一個字典中\n",
    "correlations = {}\n",
    "for variable in variable_col_GDP:\n",
    "    if variable != 'direction':\n",
    "        correlation, _ = pointbiserialr(df_copy['direction'], df_copy[variable])\n",
    "        correlation = round(correlation, 4)\n",
    "        correlations[variable] = correlation\n",
    "        #print(f'Correlation between target and {variable}: {correlation}')\n",
    "\n",
    "#print(correlations)\n",
    "\n",
    "# 找出相關性最大和最小的變數\n",
    "max_corr_var = max(correlations, key=correlations.get)\n",
    "min_corr_var = min(correlations, key=correlations.get)\n",
    "print(max_corr_var)\n",
    "print(f'Variable with highest correlation: {max_corr_var}, correlation: {correlations[max_corr_var]}')\n",
    "print(f'Variable with lowest correlation: {min_corr_var}, correlation: {correlations[min_corr_var]}')\n"
   ]
  },
  {
   "cell_type": "code",
   "execution_count": null,
   "metadata": {},
   "outputs": [],
   "source": []
  }
 ],
 "metadata": {
  "kernelspec": {
   "display_name": "Python 3",
   "language": "python",
   "name": "python3"
  },
  "language_info": {
   "codemirror_mode": {
    "name": "ipython",
    "version": 3
   },
   "file_extension": ".py",
   "mimetype": "text/x-python",
   "name": "python",
   "nbconvert_exporter": "python",
   "pygments_lexer": "ipython3",
   "version": "3.10.13"
  }
 },
 "nbformat": 4,
 "nbformat_minor": 2
}
