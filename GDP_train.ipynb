{
 "cells": [
  {
   "cell_type": "code",
   "execution_count": 1,
   "metadata": {},
   "outputs": [],
   "source": [
    "import pandas as pd\n",
    "import numpy as np\n",
    "# 用於二元目標變數\n",
    "from scipy.stats import pointbiserialr"
   ]
  },
  {
   "cell_type": "code",
   "execution_count": 2,
   "metadata": {},
   "outputs": [
    {
     "name": "stderr",
     "output_type": "stream",
     "text": [
      "c:\\Users\\user1\\Desktop\\repo2\\revenue-prediction\\data.py:48: UserWarning: pandas only supports SQLAlchemy connectable (engine/connection) or database string URI or sqlite3 DBAPI2 connection. Other DBAPI2 objects are not tested. Please consider using SQLAlchemy.\n",
      "  Dream_report = pd.read_sql(qr_sub, conn)\n",
      "c:\\Users\\user1\\Desktop\\repo2\\revenue-prediction\\data.py:72: UserWarning: pandas only supports SQLAlchemy connectable (engine/connection) or database string URI or sqlite3 DBAPI2 connection. Other DBAPI2 objects are not tested. Please consider using SQLAlchemy.\n",
      "  stock_info = pd.read_sql(stock_qr_sub, conn)\n",
      "c:\\Users\\user1\\Desktop\\repo2\\revenue-prediction\\data.py:94: UserWarning: pandas only supports SQLAlchemy connectable (engine/connection) or database string URI or sqlite3 DBAPI2 connection. Other DBAPI2 objects are not tested. Please consider using SQLAlchemy.\n",
      "  MacroInfo = pd.read_sql(macro_qr_sub, conn)\n",
      "c:\\Users\\user1\\Desktop\\repo2\\revenue-prediction\\data.py:106: UserWarning: pandas only supports SQLAlchemy connectable (engine/connection) or database string URI or sqlite3 DBAPI2 connection. Other DBAPI2 objects are not tested. Please consider using SQLAlchemy.\n",
      "  JuridicalInfo = pd.read_sql(juridical_qr_sub, conn)\n"
     ]
    }
   ],
   "source": [
    "# Import GDP Data\n",
    "from data import OverallGeneralEcon, df, MacroInfo, JuridicalInfo"
   ]
  },
  {
   "cell_type": "code",
   "execution_count": 6,
   "metadata": {},
   "outputs": [
    {
     "data": {
      "text/plain": [
       "'\\n名目有效匯率指數–台灣\\n台灣消費者信心指數\\n台灣消費者信心指數–未來半年國內經濟景氣\\n台灣消費者信心指數–未來半年國內物價水準\\n美國消費者信心指數\\n經濟成長率(GDP)–全年\\n實質國內生產毛額(GDP)–台幣\\n實質GDP成長率(台灣)\\n貨幣總額(M1A)日平均、貨幣總額(M2)日平均、貨幣總額年增率(M1A)日平均\\n臺灣製造業PMI - 新增出口訂單 - 基礎原物料\\n台灣外銷訂單金額–全球\\n消費者物價指數(CPI)、消費者物價指數(CPI)年增率、核心消費者物價指數\\n美國核心PPI、美國核心PPI月增率\\n進口物價指數、出口物價指數年增率\\n'"
      ]
     },
     "execution_count": 6,
     "metadata": {},
     "output_type": "execute_result"
    }
   ],
   "source": [
    "# 名目、實質、時間\n",
    "\"\"\"\n",
    "名目有效匯率指數–台灣\n",
    "台灣消費者信心指數\n",
    "台灣消費者信心指數–未來半年國內經濟景氣\n",
    "台灣消費者信心指數–未來半年國內物價水準\n",
    "美國消費者信心指數\n",
    "經濟成長率(GDP)–全年\n",
    "實質國內生產毛額(GDP)–台幣\n",
    "實質GDP成長率(台灣)\n",
    "貨幣總額(M1A)日平均、貨幣總額(M2)日平均、貨幣總額年增率(M1A)日平均\n",
    "臺灣製造業PMI - 新增出口訂單 - 基礎原物料\n",
    "台灣外銷訂單金額–全球\n",
    "消費者物價指數(CPI)、消費者物價指數(CPI)年增率、核心消費者物價指數\n",
    "美國核心PPI、美國核心PPI月增率\n",
    "進口物價指數、出口物價指數年增率\n",
    "\n",
    "sysallunTWESPF\n",
    "外銷訂單_美金計價(百萬美元)_合計_年增率(%)(月)\n",
    "景氣同時指標_工業生產指數(Index 2006=100)_年增率(%)(月)\n",
    "\n",
    "sysTaiStaValMAC\n",
    "景氣指標統計_景氣領先指標不含趨勢指數(點)_年增率(%)(月)\n",
    "\n",
    "其他\n",
    "財報、營收\n",
    "\"\"\""
   ]
  },
  {
   "cell_type": "code",
   "execution_count": 16,
   "metadata": {},
   "outputs": [],
   "source": [
    "NominalGDP = OverallGeneralEcon[['time','Nominal_GDP']]\n",
    "NominalGDP = NominalGDP.rename(columns={'time':'quarter'})\n",
    "#print(NominalGDP)\n",
    "#print(type(NominalGDP))"
   ]
  },
  {
   "cell_type": "code",
   "execution_count": 17,
   "metadata": {},
   "outputs": [],
   "source": [
    "# 將df的日期轉換為季度\n",
    "df_copy = df.copy()\n",
    "df_copy['quarter'] = (pd.to_datetime(df_copy['ddate'], format='%Y%m').dt.year.astype(str) + 'Q' + pd.to_datetime(df_copy['ddate'], format='%Y%m').dt.quarter.astype(str))\n",
    "\n",
    "# 使用merge方法合併兩個data frame\n",
    "df_copy = pd.merge(df_copy, NominalGDP, on='quarter', how='left').dropna()"
   ]
  },
  {
   "cell_type": "code",
   "execution_count": 19,
   "metadata": {},
   "outputs": [
    {
     "data": {
      "text/plain": [
       "Index(['ddate', 'stockid', 'direction', 'rev', 'mom', 'yoy', 'revd1', 'yoyd1',\n",
       "       'mond1', 'revd2', 'yoyd2', 'mond2', 'revd3', 'yoyd3', 'mond3', 'revd4',\n",
       "       'yoyd4', 'mond4', 'revd5', 'yoyd5', 'mond5', 'revd6', 'yoyd6', 'mond6',\n",
       "       'revd7', 'yoyd7', 'mond7', 'revd8', 'yoyd8', 'mond8', 'revd9', 'yoyd9',\n",
       "       'mond9', 'revd10', 'yoyd10', 'mond10', 'revd11', 'yoyd11', 'mond11',\n",
       "       'revd12', 'yoyd12', 'mond12', 'quarter', 'Nominal_GDP'],\n",
       "      dtype='object')"
      ]
     },
     "execution_count": 19,
     "metadata": {},
     "output_type": "execute_result"
    }
   ],
   "source": [
    "df_copy.columns"
   ]
  },
  {
   "cell_type": "code",
   "execution_count": 21,
   "metadata": {},
   "outputs": [],
   "source": [
    "# variable and target columns\n",
    "target_col_GDP =  ['direction']\n",
    "variable_col_GDP = ['revd1', 'yoyd1',\n",
    "                         'mond1', 'revd2', 'yoyd2', 'mond2', 'revd3', 'yoyd3', 'mond3', 'revd4',\n",
    "                         'yoyd4', 'mond4', 'revd5', 'yoyd5', 'mond5', 'revd6', 'yoyd6', 'mond6',\n",
    "                         'revd7', 'yoyd7', 'mond7', 'revd8', 'yoyd8', 'mond8', 'revd9', 'yoyd9',\n",
    "                         'mond9', 'revd10', 'yoyd10', 'mond10', 'revd11', 'yoyd11', 'mond11',\n",
    "                         'revd12', 'yoyd12', 'mond12','Nominal_GDP' ]\n",
    "\n",
    "y_GDP = df_copy[target_col_GDP] # overall y\n",
    "X_GDP = df_copy[variable_col_GDP] # overall X"
   ]
  },
  {
   "cell_type": "code",
   "execution_count": 27,
   "metadata": {},
   "outputs": [
    {
     "name": "stdout",
     "output_type": "stream",
     "text": [
      "0.009671734212467519\n",
      "-0.0023818022480477617\n"
     ]
    }
   ],
   "source": [
    "# 計算變數相關性，用以決定變數\n",
    "correlation, _ = pointbiserialr(df_copy['direction'], df_copy['Nominal_GDP'])\n",
    "\n",
    "print(correlation)\n",
    "\n",
    "correlation2, _ = pointbiserialr(df_copy['direction'], df_copy['revd1'])\n",
    "print(correlation2)"
   ]
  },
  {
   "cell_type": "code",
   "execution_count": 44,
   "metadata": {},
   "outputs": [
    {
     "name": "stdout",
     "output_type": "stream",
     "text": [
      "revd12\n",
      "Variable with highest correlation: revd12, correlation: 0.0105\n",
      "Variable with lowest correlation: yoyd1, correlation: -0.0105\n"
     ]
    }
   ],
   "source": [
    "# 計算每個變數與目標變數的點二序列相關係數，並儲存到一個字典中\n",
    "correlations = {}\n",
    "for variable in variable_col_GDP:\n",
    "    if variable != 'direction':\n",
    "        correlation, _ = pointbiserialr(df_copy['direction'], df_copy[variable])\n",
    "        correlation = round(correlation, 4)\n",
    "        correlations[variable] = correlation\n",
    "        #print(f'Correlation between target and {variable}: {correlation}')\n",
    "\n",
    "#print(correlations)\n",
    "\n",
    "# 找出相關性最大和最小的變數\n",
    "max_corr_var = max(correlations, key=correlations.get)\n",
    "min_corr_var = min(correlations, key=correlations.get)\n",
    "print(max_corr_var)\n",
    "print(f'Variable with highest correlation: {max_corr_var}, correlation: {correlations[max_corr_var]}')\n",
    "print(f'Variable with lowest correlation: {min_corr_var}, correlation: {correlations[min_corr_var]}')\n"
   ]
  },
  {
   "cell_type": "code",
   "execution_count": null,
   "metadata": {},
   "outputs": [],
   "source": []
  }
 ],
 "metadata": {
  "kernelspec": {
   "display_name": "Python 3",
   "language": "python",
   "name": "python3"
  },
  "language_info": {
   "codemirror_mode": {
    "name": "ipython",
    "version": 3
   },
   "file_extension": ".py",
   "mimetype": "text/x-python",
   "name": "python",
   "nbconvert_exporter": "python",
   "pygments_lexer": "ipython3",
   "version": "3.10.13"
  }
 },
 "nbformat": 4,
 "nbformat_minor": 2
}
