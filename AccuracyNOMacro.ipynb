{
 "cells": [
  {
   "cell_type": "code",
   "execution_count": null,
   "metadata": {},
   "outputs": [],
   "source": [
    "# The accuracy of data without Macroeconomic variables\n"
   ]
  },
  {
   "cell_type": "code",
   "execution_count": 1,
   "metadata": {},
   "outputs": [],
   "source": [
    "import pandas as pd\n",
    "import numpy as np\n",
    "#import matplotlib.pyplot as plt\n",
    "# 用於二元目標變數\n",
    "from scipy.stats import pointbiserialr\n",
    "from functools import reduce\n",
    "from sklearn.model_selection import TimeSeriesSplit, cross_val_score, GridSearchCV\n",
    "from sklearn.linear_model import LogisticRegression\n",
    "from sklearn.metrics import roc_curve\n",
    "from sklearn.preprocessing import StandardScaler\n",
    "from sklearn.feature_selection import RFE"
   ]
  },
  {
   "cell_type": "code",
   "execution_count": 2,
   "metadata": {},
   "outputs": [
    {
     "name": "stderr",
     "output_type": "stream",
     "text": [
      "c:\\Users\\user1\\Desktop\\repo2\\revenue-prediction\\data.py:48: UserWarning: pandas only supports SQLAlchemy connectable (engine/connection) or database string URI or sqlite3 DBAPI2 connection. Other DBAPI2 objects are not tested. Please consider using SQLAlchemy.\n",
      "  Dream_report = pd.read_sql(qr_sub, conn)\n",
      "c:\\Users\\user1\\Desktop\\repo2\\revenue-prediction\\data.py:72: UserWarning: pandas only supports SQLAlchemy connectable (engine/connection) or database string URI or sqlite3 DBAPI2 connection. Other DBAPI2 objects are not tested. Please consider using SQLAlchemy.\n",
      "  stock_info = pd.read_sql(stock_qr_sub, conn)\n",
      "c:\\Users\\user1\\Desktop\\repo2\\revenue-prediction\\data.py:95: UserWarning: pandas only supports SQLAlchemy connectable (engine/connection) or database string URI or sqlite3 DBAPI2 connection. Other DBAPI2 objects are not tested. Please consider using SQLAlchemy.\n",
      "  MacroInfo = pd.read_sql(macro_qr_sub, conn)\n"
     ]
    },
    {
     "name": "stdout",
     "output_type": "stream",
     "text": [
      "            年月     代號           數值                  名稱\n",
      "0       202412  19600        1.060       經濟成長率(GDP)–單季\n",
      "1       202412  19700   201644.000      國內生產毛額(GDP)–美元\n",
      "2       202412  19710  6404219.000      國內生產毛額(GDP)–台幣\n",
      "3       202412  19750     8567.000  平均每人國內生產毛額(GDP)–美元\n",
      "4       202412  19760   272086.000  平均每人國內生產毛額(GDP)–台幣\n",
      "...        ...    ...          ...                 ...\n",
      "263615  201401  USA96      954.642              美國營建支出\n",
      "263616  201401  USA97        0.000           美國新屋開工年增率\n",
      "263617  201401  USA98     1723.614             美國企業存貨額\n",
      "263618  201401  USA99        1.600          美國核心CPI年增率\n",
      "263619  201401  ZAF00      100.300        OECD領先指標(南非)\n",
      "\n",
      "[263620 rows x 4 columns]\n"
     ]
    },
    {
     "name": "stderr",
     "output_type": "stream",
     "text": [
      "c:\\Users\\user1\\Desktop\\repo2\\revenue-prediction\\data.py:107: UserWarning: pandas only supports SQLAlchemy connectable (engine/connection) or database string URI or sqlite3 DBAPI2 connection. Other DBAPI2 objects are not tested. Please consider using SQLAlchemy.\n",
      "  JuridicalInfo = pd.read_sql(juridical_qr_sub, conn)\n"
     ]
    }
   ],
   "source": [
    "# Import GDP Data\n",
    "from data import OverallGeneralEcon, df, MacroInfo, JuridicalInfo\n",
    "from module1 import predict_for_month, find_best_threshold, predicted_labels, predicted_accuracy"
   ]
  },
  {
   "cell_type": "code",
   "execution_count": 5,
   "metadata": {},
   "outputs": [
    {
     "data": {
      "text/plain": [
       "Index(['ddate', 'stockid', 'direction', 'rev', 'mom', 'yoy', 'revd1', 'yoyd1',\n",
       "       'mond1', 'revd2', 'yoyd2', 'mond2', 'revd3', 'yoyd3', 'mond3', 'revd4',\n",
       "       'yoyd4', 'mond4', 'revd5', 'yoyd5', 'mond5', 'revd6', 'yoyd6', 'mond6',\n",
       "       'revd7', 'yoyd7', 'mond7', 'revd8', 'yoyd8', 'mond8', 'revd9', 'yoyd9',\n",
       "       'mond9', 'revd10', 'yoyd10', 'mond10', 'revd11', 'yoyd11', 'mond11',\n",
       "       'revd12', 'yoyd12', 'mond12'],\n",
       "      dtype='object')"
      ]
     },
     "execution_count": 5,
     "metadata": {},
     "output_type": "execute_result"
    }
   ],
   "source": [
    "df2 = df.copy()\n",
    "df2.columns"
   ]
  },
  {
   "cell_type": "code",
   "execution_count": 9,
   "metadata": {},
   "outputs": [],
   "source": [
    "# df2.isna().sum() # no NAs in data"
   ]
  },
  {
   "cell_type": "code",
   "execution_count": 11,
   "metadata": {},
   "outputs": [],
   "source": [
    "# Split data by TimeSeriesSplit\n",
    "tscv_df2 = TimeSeriesSplit(n_splits=50)\n",
    "\n",
    "# each split contains train set & test set 'index'\n",
    "splits_df2 = list(tscv_df2.split(df2))\n",
    "\n",
    "# 使用最後一組的 trained model index 切分 training & testing data\n",
    "train_idx_df2 = splits_df2[-1][0]\n",
    "test_idx_df2 = splits_df2[-1][1]"
   ]
  },
  {
   "cell_type": "code",
   "execution_count": 12,
   "metadata": {},
   "outputs": [],
   "source": [
    "df2_var = ['revd1', 'yoyd1',\n",
    "       'mond1', 'revd2', 'yoyd2', 'mond2', 'revd3', 'yoyd3', 'mond3', 'revd4',\n",
    "       'yoyd4', 'mond4', 'revd5', 'yoyd5', 'mond5', 'revd6', 'yoyd6', 'mond6',\n",
    "       'revd7', 'yoyd7', 'mond7', 'revd8', 'yoyd8', 'mond8', 'revd9', 'yoyd9',\n",
    "       'mond9', 'revd10', 'yoyd10', 'mond10', 'revd11', 'yoyd11', 'mond11',\n",
    "       'revd12', 'yoyd12', 'mond12']\n",
    "\n",
    "df2_targ = ['direction']\n",
    "\n"
   ]
  },
  {
   "cell_type": "code",
   "execution_count": 14,
   "metadata": {},
   "outputs": [],
   "source": [
    "# Prepare data for separating\n",
    "y_df2 = df2[df2_targ]\n",
    "X_df2 = df2[df2_var]"
   ]
  },
  {
   "cell_type": "code",
   "execution_count": 17,
   "metadata": {},
   "outputs": [],
   "source": [
    "# Extract test and train data from overall data\n",
    "X_train_df2, X_test_df2 = X_df2.iloc[train_idx_df2], X_df2.iloc[test_idx_df2]\n",
    "y_train_df2, y_test_df2 = y_df2.iloc[train_idx_df2], y_df2.iloc[test_idx_df2]"
   ]
  },
  {
   "cell_type": "code",
   "execution_count": 19,
   "metadata": {},
   "outputs": [
    {
     "name": "stderr",
     "output_type": "stream",
     "text": [
      "c:\\Users\\user1\\anaconda3\\envs\\rev_pred_env\\lib\\site-packages\\sklearn\\utils\\validation.py:1184: DataConversionWarning: A column-vector y was passed when a 1d array was expected. Please change the shape of y to (n_samples, ), for example using ravel().\n",
      "  y = column_or_1d(y, warn=True)\n",
      "c:\\Users\\user1\\anaconda3\\envs\\rev_pred_env\\lib\\site-packages\\sklearn\\linear_model\\_logistic.py:460: ConvergenceWarning: lbfgs failed to converge (status=1):\n",
      "STOP: TOTAL NO. of ITERATIONS REACHED LIMIT.\n",
      "\n",
      "Increase the number of iterations (max_iter) or scale the data as shown in:\n",
      "    https://scikit-learn.org/stable/modules/preprocessing.html\n",
      "Please also refer to the documentation for alternative solver options:\n",
      "    https://scikit-learn.org/stable/modules/linear_model.html#logistic-regression\n",
      "  n_iter_i = _check_optimize_result(\n"
     ]
    }
   ],
   "source": [
    "# Train model based on the training data\n",
    "model_df2 = LogisticRegression()\n",
    "model_fit_df2 = model_df2.fit(X_train_df2, y_train_df2)"
   ]
  },
  {
   "cell_type": "code",
   "execution_count": 24,
   "metadata": {},
   "outputs": [
    {
     "name": "stdout",
     "output_type": "stream",
     "text": [
      "0.5\n"
     ]
    }
   ],
   "source": [
    "# 預測結果為1的機率\n",
    "prob_df2 = predict_for_month(model_fit_df2, df2, df2_var)\n",
    "threshold_df2 = find_best_threshold(df2['direction'], prob_df2)\n",
    "print(round(threshold_df2, 2)) #0.5"
   ]
  },
  {
   "cell_type": "code",
   "execution_count": 26,
   "metadata": {},
   "outputs": [
    {
     "data": {
      "text/plain": [
       "0.64"
      ]
     },
     "execution_count": 26,
     "metadata": {},
     "output_type": "execute_result"
    }
   ],
   "source": [
    "# 以閾值為界判斷預測值應為0或1\n",
    "pred_df2 = predicted_labels(prob_df2, threshold_df2)\n",
    "#print(pred_df2)\n",
    "\n",
    "# 計算[無]總經數值的正確性\n",
    "predicted_accuracy(df2['direction'], pred_df2) #0.64"
   ]
  }
 ],
 "metadata": {
  "kernelspec": {
   "display_name": "Python 3",
   "language": "python",
   "name": "python3"
  },
  "language_info": {
   "codemirror_mode": {
    "name": "ipython",
    "version": 3
   },
   "file_extension": ".py",
   "mimetype": "text/x-python",
   "name": "python",
   "nbconvert_exporter": "python",
   "pygments_lexer": "ipython3",
   "version": "3.10.13"
  }
 },
 "nbformat": 4,
 "nbformat_minor": 2
}
