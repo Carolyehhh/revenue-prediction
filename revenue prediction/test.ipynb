{
 "cells": [
  {
   "cell_type": "code",
   "execution_count": 2,
   "metadata": {},
   "outputs": [],
   "source": [
    "# Goal: 檢測模型合適度\n",
    "# F1 score"
   ]
  },
  {
   "cell_type": "code",
   "execution_count": 1,
   "metadata": {},
   "outputs": [],
   "source": [
    "# Goal: 檢測模型合適度\n",
    "# Predict probability for October 2013"
   ]
  },
  {
   "cell_type": "code",
   "execution_count": null,
   "metadata": {},
   "outputs": [],
   "source": [
    "#-----------------------------------------------\n",
    "# 202310 夢幻報表與模型預測同向的比率\n",
    "# Extract partial data from Dream_report\n",
    "dream_oct = Dream_report.loc[Dream_report['年月']==202310]\n",
    "\n",
    "dream_oct_direction = dream_oct[['年月', '股票代號', '營收月變動']].copy()\n",
    "dream_oct_direction = dream_oct_direction.rename(columns={'年月':'ddate','股票代號':'stockid', '營收月變動':'direction' })\n",
    "\n",
    "dream_oct_direction.columns\n",
    "\n",
    "predicted_oct_direction = overall_predicted_labels[0]\n",
    "\n",
    "# Equal check\n",
    "#is_equal = np.array_equal(predicted_aug_direction, predicted_aug_direction)\n",
    "\n",
    "# Combine arrays by columns\n",
    "predict_202310 = np.column_stack((overall_partial_data[0]['stockid'], predicted_oct_direction))\n",
    "\n",
    "print(predict_202310)\n",
    "\n",
    "# Change into a DataFrame\n",
    "predict_202310 = pd.DataFrame(predict_202310, columns=['stockid', 'direction'])\n",
    "\n",
    "# Convert 'stockid' to string in predict_202310\n",
    "predict_202310['stockid'] = predict_202310['stockid'].astype(str)\n",
    "\n",
    "# Find out same direction between dream report and model prediction\n",
    "merged_df = pd.merge(predict_202310, dream_oct_direction, on=['stockid', 'direction'], how='inner')\n",
    "\n",
    "\n",
    "same_direction = len(merged_df)\n",
    "\n",
    "same_prediction = round(same_direction / len(predicted_oct_direction)*100, 2)\n",
    "\n",
    "print('202310:',same_prediction, '%')"
   ]
  }
 ],
 "metadata": {
  "kernelspec": {
   "display_name": "Python 3",
   "language": "python",
   "name": "python3"
  },
  "language_info": {
   "codemirror_mode": {
    "name": "ipython",
    "version": 3
   },
   "file_extension": ".py",
   "mimetype": "text/x-python",
   "name": "python",
   "nbconvert_exporter": "python",
   "pygments_lexer": "ipython3",
   "version": "3.11.4"
  }
 },
 "nbformat": 4,
 "nbformat_minor": 2
}
